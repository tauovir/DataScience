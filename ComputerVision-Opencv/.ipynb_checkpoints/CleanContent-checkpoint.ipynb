{
 "cells": [
  {
   "cell_type": "code",
   "execution_count": 16,
   "metadata": {},
   "outputs": [],
   "source": [
    "def cleanString(str1):\n",
    "    alphanumeric = \"\"\n",
    "    for character in str1:\n",
    "        if character.isalnum():\n",
    "            alphanumeric += character\n",
    "        else:\n",
    "            alphanumeric += \" \"\n",
    "\n",
    "    print(alphanumeric)"
   ]
  },
  {
   "cell_type": "code",
   "execution_count": 17,
   "metadata": {},
   "outputs": [
    {
     "name": "stdout",
     "output_type": "stream",
     "text": [
      "ImageprocessingtechniquesarethecoreofyourcomputervisionprojectsTheycanbeseenasusefulkeytoolswhichyoucanusetocompletevarioustasksInotherwordsimageprocessingtechniquesarelikebuildingblocksthatshouldbekeptinmindwhenprocessingyourimagesThereforeabasicunderstandingofimageprocessingisrequiredifyouaretoworkwithcomputervisionprojectsInthischapteryouwilllearnmostofthecommonimageprocessingtechniquesyouneedThesewillbecomplementedbytheotherimageprocessingtechniquescoveredinthenextthreechaptersofthisbookhistogramsthresholdingtechniquescontourdetectionandfilteringInthischapterthefollowingtopicswillbecovered\n"
     ]
    }
   ],
   "source": [
    "str1 = \"Image\tprocessing techniques\tare the\tcore\tof\tyour\tcomputer\tvision\tprojects.\tThey can\tbe\tseen\tas\tuseful\tkey\ttools,\twhich\tyou\tcan\tuse\tto\tcomplete\tvarious\ttasks.\tIn other\twords,\timage\tprocessing\ttechniques\tare\tlike\tbuilding\tblocks\tthat\tshould\tbe kept\tin\tmind\twhen\tprocessing\tyour\timages.\tTherefore,\ta\tbasic\tunderstanding\tof image\tprocessing\tis\trequired\tif\tyou\tare\tto\twork\twith\tcomputer\tvision\tprojects. In\tthis\tchapter,\tyou\twill\tlearn\tmost\tof\tthe\tcommon\timage\tprocessing\ttechniques you\tneed.\tThese\twill\tbe\tcomplemented\tby\tthe\tother\timage\tprocessing\ttechniques covered\tin\tthe\tnext\tthree\tchapters\tof\tthis\tbook\t(histograms,\tthresholding techniques,\tcontour\tdetection,\tand\tfiltering). In\tthis\tchapter,\tthe\tfollowing\ttopics\twill\tbe\tcovered:\"\n",
    "\n",
    "\n",
    "cleanString(str1)"
   ]
  },
  {
   "cell_type": "code",
   "execution_count": 18,
   "metadata": {},
   "outputs": [
    {
     "name": "stdout",
     "output_type": "stream",
     "text": [
      "9\n"
     ]
    }
   ],
   "source": [
    "print(ord('\t'))"
   ]
  },
  {
   "cell_type": "code",
   "execution_count": null,
   "metadata": {},
   "outputs": [],
   "source": []
  }
 ],
 "metadata": {
  "kernelspec": {
   "display_name": "Python 3",
   "language": "python",
   "name": "python3"
  },
  "language_info": {
   "codemirror_mode": {
    "name": "ipython",
    "version": 3
   },
   "file_extension": ".py",
   "mimetype": "text/x-python",
   "name": "python",
   "nbconvert_exporter": "python",
   "pygments_lexer": "ipython3",
   "version": "3.7.3"
  }
 },
 "nbformat": 4,
 "nbformat_minor": 2
}
