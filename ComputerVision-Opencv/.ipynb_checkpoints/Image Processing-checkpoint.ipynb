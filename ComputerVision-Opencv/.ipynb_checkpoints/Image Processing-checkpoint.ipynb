{
 "cells": [
  {
   "cell_type": "markdown",
   "metadata": {},
   "source": [
    "## Image Processing\n",
    "Sometimes,\tyou\thave\tto\twork\twith\tspecific\tchannels\ton\tmultichannel\timages.\tTo do\tthis,\tyou\thave\tto\tsplit\tthe\tmultichannel\timage\tinto\tseveral\tsingle-channel images.\tAdditionally,\tonce\tthe\tprocessing\thas\tbeen\tdone,\tyou\tmay\twant\tto create\tone\tmultichannel\timage\tfrom\tdifferent\tsingle-channel\timages.\tIn\torder\tto both\tsplit\tand\tmerge\tchannels,\tyou\tcan\tuse\tthe\tcv2.split()\tand cv2.merge()\tfunctions,\trespectively.\n",
    "\n",
    "The\tcv2.split()\tfunction\tsplits\tthe\tsource multichannel\timage\tinto\tseveral\tsingle-channel\timages.\tThe\tcv2.merge()\tfunction merges\tseveral\tsingle-channel\timages\tinto\ta\tmultichannel\timage"
   ]
  },
  {
   "cell_type": "code",
   "execution_count": 1,
   "metadata": {},
   "outputs": [
    {
     "ename": "ModuleNotFoundError",
     "evalue": "No module named 'matplotlib'",
     "output_type": "error",
     "traceback": [
      "\u001b[1;31m---------------------------------------------------------------------------\u001b[0m",
      "\u001b[1;31mModuleNotFoundError\u001b[0m                       Traceback (most recent call last)",
      "\u001b[1;32m<ipython-input-1-26fdd3bab43a>\u001b[0m in \u001b[0;36m<module>\u001b[1;34m\u001b[0m\n\u001b[0;32m      1\u001b[0m \u001b[1;32mimport\u001b[0m \u001b[0mcv2\u001b[0m\u001b[1;33m\u001b[0m\u001b[1;33m\u001b[0m\u001b[0m\n\u001b[1;32m----> 2\u001b[1;33m \u001b[1;32mimport\u001b[0m \u001b[0mmatplotlib\u001b[0m\u001b[1;33m.\u001b[0m\u001b[0mpyplot\u001b[0m \u001b[1;32mas\u001b[0m \u001b[0mplt\u001b[0m\u001b[1;33m\u001b[0m\u001b[1;33m\u001b[0m\u001b[0m\n\u001b[0m\u001b[0;32m      3\u001b[0m \u001b[1;32mimport\u001b[0m \u001b[0mnumpy\u001b[0m \u001b[1;32mas\u001b[0m \u001b[0mnp\u001b[0m\u001b[1;33m\u001b[0m\u001b[1;33m\u001b[0m\u001b[0m\n",
      "\u001b[1;31mModuleNotFoundError\u001b[0m: No module named 'matplotlib'"
     ]
    }
   ],
   "source": [
    "import cv2\n",
    "import matplotlib.pyplot as plt\n",
    "import numpy as np"
   ]
  },
  {
   "cell_type": "code",
   "execution_count": null,
   "metadata": {},
   "outputs": [],
   "source": [
    "numpy_version = np.__version__\n",
    "opencv_version = cv2.__version__\n",
    "print(\"NUmpy version:{numpy}\".format(numpy = numpy_version))\n",
    "print(\"OpenCv version:{opencv}\".format(opencv = opencv_version))\n",
    "\n"
   ]
  },
  {
   "cell_type": "code",
   "execution_count": null,
   "metadata": {},
   "outputs": [],
   "source": [
    "image = cv2.imread('images/dog5.jpg')\n",
    "cv2.imwrite('writeImage/dog-copy.png',image)"
   ]
  }
 ],
 "metadata": {
  "kernelspec": {
   "display_name": "opencvEnv",
   "language": "python",
   "name": "opencvenv"
  },
  "language_info": {
   "codemirror_mode": {
    "name": "ipython",
    "version": 3
   },
   "file_extension": ".py",
   "mimetype": "text/x-python",
   "name": "python",
   "nbconvert_exporter": "python",
   "pygments_lexer": "ipython3",
   "version": "3.6.10"
  }
 },
 "nbformat": 4,
 "nbformat_minor": 2
}
