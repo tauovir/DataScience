{
 "cells": [
  {
   "cell_type": "markdown",
   "metadata": {},
   "source": [
    "# Morphological Transformations:\n",
    "Here,We will eleborate different morphological operations like Erosion, Dilation, Opening, Closing etc.\n",
    "We will learn different functions like : cv2.erode(), cv2.dilate(), cv2.morphologyEx() etc\n",
    "\n",
    "Morphological transformations are some simple operations based on the image shape. It is normally performed on binary images. It needs two inputs, one is our original image, second one is called structuring element or kernel which decides the nature of operation. Two basic morphological operators are Erosion and Dilation. Then its variant forms like Opening, Closing, Gradient etc\n",
    "\n",
    "# Erosion.\n",
    "The basic idea of erosion is just like soil erosion only, it erodes away the boundaries of foreground object (Always try to keep foreground in white). So what does it do? The kernel slides through the image (as in 2D convolution). A pixel in the original image (either 1 or 0) will be considered 1 only if all the pixels under the kernel is 1, otherwise it is eroded (made to zero).\n",
    "\n",
    "So what happends is that, all the pixels near boundary will be discarded depending upon the size of kernel. So the thickness or size of the foreground object decreases or simply white region decreases in the image. It is useful for removing small white noises (as we have seen in colorspace chapter), detach two connected objects etc.\n",
    "\n",
    "Here, as an example, I would use a 5x5 kernel with full of ones. Let’s see it how it works:"
   ]
  },
  {
   "cell_type": "code",
   "execution_count": 1,
   "metadata": {},
   "outputs": [],
   "source": [
    "import cv2\n",
    "import matplotlib.pyplot as plt\n",
    "import numpy as np"
   ]
  },
  {
   "cell_type": "code",
   "execution_count": 22,
   "metadata": {},
   "outputs": [],
   "source": [
    "\n",
    "def displayImage(imageList):\n",
    "    plt.figure(figsize=(18,12))\n",
    "    i = 0\n",
    "    for item in imageList:  \n",
    "        plt.subplot(2, 5, i+1)\n",
    "        plt.imshow(item['image'])\n",
    "        i += 1\n",
    "        plt.axis('off')\n",
    "        plt.title(item['name'],fontsize = 18, color = 'green')\n",
    "    plt.tight_layout()\n",
    "    plt.show()\n",
    "    "
   ]
  },
  {
   "cell_type": "code",
   "execution_count": 29,
   "metadata": {},
   "outputs": [
    {
     "data": {
      "image/png": "[encoded data removed]",
      "text/plain": [
       "<Figure size 1296x864 with 2 Axes>"
      ]
     },
     "metadata": {
      "needs_background": "light"
     },
     "output_type": "display_data"
    }
   ],
   "source": [
    "img = cv2.imread('images/pei.png',0)\n",
    "image_RGB = cv2.cvtColor(img, cv2.COLOR_BGR2RGB)\n",
    "rows,cols,ch = image_RGB.shape\n",
    "\n",
    "kernel = np.ones((3,3),np.uint8)\n",
    "erosion = cv2.erode(image_RGB,kernel,iterations = 1)\n",
    "\n",
    "displayImage([\n",
    "    {'name':'Origina Image','image':image_RGB},\n",
    "     {'name':'Affine Transform','image':erosion},\n",
    "             ])"
   ]
  },
  {
   "cell_type": "markdown",
   "metadata": {},
   "source": [
    "# Dilation\n",
    "t is just opposite of erosion. Here, a pixel element is ‘1’ if atleast one pixel under the kernel is ‘1’. So it increases the white region in the image or size of foreground object increases. Normally, in cases like noise removal, erosion is followed by dilation. Because, erosion removes white noises, but it also shrinks our object. So we dilate it. Since noise is gone, they won’t come back, but our object area increases. It is also useful in joining broken parts of an object."
   ]
  },
  {
   "cell_type": "code",
   "execution_count": 31,
   "metadata": {},
   "outputs": [
    {
     "data": {
      "image/png": "[encoded data removed]",
      "text/plain": [
       "<Figure size 1296x864 with 2 Axes>"
      ]
     },
     "metadata": {
      "needs_background": "light"
     },
     "output_type": "display_data"
    }
   ],
   "source": [
    "img = cv2.imread('images/pei.png',0)\n",
    "image_RGB = cv2.cvtColor(img, cv2.COLOR_BGR2RGB)\n",
    "rows,cols,ch = image_RGB.shape\n",
    "\n",
    "kernel = np.ones((7,7),np.uint8)\n",
    "dilation = cv2.dilate(image_RGB,kernel,iterations = 1)\n",
    "\n",
    "displayImage([\n",
    "    {'name':'Origina Image','image':image_RGB},\n",
    "     {'name':'Affine Transform','image':dilation},\n",
    "             ])"
   ]
  },
  {
   "cell_type": "markdown",
   "metadata": {},
   "source": [
    "#  Opening\n",
    "Opening is just another name of erosion followed by dilation. It is useful in removing noise, as we explained above. Here we use the function, cv2.morphologyEx()"
   ]
  },
  {
   "cell_type": "code",
   "execution_count": 35,
   "metadata": {},
   "outputs": [
    {
     "data": {
      "image/png": "[encoded data removed]",
      "text/plain": [
       "<Figure size 1296x864 with 2 Axes>"
      ]
     },
     "metadata": {
      "needs_background": "light"
     },
     "output_type": "display_data"
    }
   ],
   "source": [
    "img = cv2.imread('images/pei.png',0)\n",
    "image_RGB = cv2.cvtColor(img, cv2.COLOR_BGR2RGB)\n",
    "rows,cols,ch = image_RGB.shape\n",
    "\n",
    "kernel = np.ones((3,3),np.uint8)\n",
    "opening = cv2.morphologyEx(image_RGB, cv2.MORPH_OPEN, kernel)\n",
    "\n",
    "displayImage([\n",
    "    {'name':'Origina Image','image':image_RGB},\n",
    "     {'name':'Affine Transform','image':opening},\n",
    "             ])"
   ]
  },
  {
   "cell_type": "markdown",
   "metadata": {},
   "source": [
    "# Closing\n",
    "Closing is reverse of Opening, Dilation followed by Erosion. It is useful in closing small holes inside the foreground objects, or small black points on the object."
   ]
  },
  {
   "cell_type": "code",
   "execution_count": 38,
   "metadata": {},
   "outputs": [
    {
     "data": {
      "image/png": "[encoded data removed]",
      "text/plain": [
       "<Figure size 1296x864 with 2 Axes>"
      ]
     },
     "metadata": {
      "needs_background": "light"
     },
     "output_type": "display_data"
    }
   ],
   "source": [
    "img = cv2.imread('images/pei.png',0)\n",
    "image_RGB = cv2.cvtColor(img, cv2.COLOR_BGR2RGB)\n",
    "rows,cols,ch = image_RGB.shape\n",
    "\n",
    "kernel = np.ones((4,4),np.uint8)\n",
    "closing = cv2.morphologyEx(image_RGB, cv2.MORPH_CLOSE, kernel)\n",
    "\n",
    "displayImage([\n",
    "    {'name':'Origina Image','image':image_RGB},\n",
    "     {'name':'Affine Transform','image':closing},\n",
    "             ])"
   ]
  },
  {
   "cell_type": "markdown",
   "metadata": {},
   "source": [
    "# Morphological Gradient\n",
    "It is the difference between dilation and erosion of an image"
   ]
  },
  {
   "cell_type": "code",
   "execution_count": 39,
   "metadata": {},
   "outputs": [
    {
     "data": {
      "image/png": "[encoded data removed]",
      "text/plain": [
       "<Figure size 1296x864 with 2 Axes>"
      ]
     },
     "metadata": {
      "needs_background": "light"
     },
     "output_type": "display_data"
    }
   ],
   "source": [
    "\n",
    "img = cv2.imread('images/pei.png',0)\n",
    "image_RGB = cv2.cvtColor(img, cv2.COLOR_BGR2RGB)\n",
    "kernel = np.ones((4,4),np.uint8)\n",
    "gradient = cv2.morphologyEx(image_RGB, cv2.MORPH_GRADIENT, kernel)\n",
    "\n",
    "displayImage([\n",
    "    {'name':'Origina Image','image':image_RGB},\n",
    "     {'name':'Affine Transform','image':gradient},\n",
    "             ])"
   ]
  }
 ],
 "metadata": {
  "kernelspec": {
   "display_name": "opencvEnv",
   "language": "python",
   "name": "opencvenv"
  },
  "language_info": {
   "codemirror_mode": {
    "name": "ipython",
    "version": 3
   },
   "file_extension": ".py",
   "mimetype": "text/x-python",
   "name": "python",
   "nbconvert_exporter": "python",
   "pygments_lexer": "ipython3",
   "version": "3.6.10"
  }
 },
 "nbformat": 4,
 "nbformat_minor": 2
}
