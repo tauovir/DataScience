{
 "cells": [
  {
   "cell_type": "markdown",
   "metadata": {},
   "source": [
    "## Reading camera frames\n",
    "This first example, read_camera.py, shows you how to read frames from a camera\n",
    "that's connected to your computer. The required argument is index_camera, which\n",
    "indicates the index of the camera to read. If you have connected a webcam to\n",
    "your computer, it has an index of 0. Additionally, if you have a second camera,\n",
    "you can select it by passing 1. As you can see, the type of this parameter is int.\n",
    "The first step to work with cv2.VideoCapture is to create an object to work with. In\n",
    "this case, the object is capture, and we call the constructor like this"
   ]
  },
  {
   "cell_type": "code",
   "execution_count": 1,
   "metadata": {},
   "outputs": [],
   "source": [
    "import cv2\n",
    "import matplotlib.pyplot as plt\n",
    "import numpy as np"
   ]
  },
  {
   "cell_type": "code",
   "execution_count": 2,
   "metadata": {},
   "outputs": [
    {
     "name": "stdout",
     "output_type": "stream",
     "text": [
      "NUmpy version:1.16.2\n",
      "OpenCv version:4.2.0\n"
     ]
    }
   ],
   "source": [
    "numpy_version = np.__version__\n",
    "opencv_version = cv2.__version__\n",
    "print(\"NUmpy version:{numpy}\".format(numpy = numpy_version))\n",
    "print(\"OpenCv version:{opencv}\".format(opencv = opencv_version))\n",
    "\n"
   ]
  },
  {
   "cell_type": "markdown",
   "metadata": {},
   "source": [
    "## Connect Camera\n",
    "# Steps:\n",
    "    The first step to work with # cv2.VideoCapture is to create an object to work with.\n",
    "    pass camera index to be connected. labtop camrea index is 0,means first camera,you can pass any number of connected camera\n",
    "    # capture.isOpened() : \n",
    "    To check whether the connection has been establishedcorrectly\n",
    "         returns False if theconnection could not be established\n",
    "        f the capture was initialized correctly, this method returns True.\n",
    "        \n",
    "To capture footage frame by frame from the camera, we call\n",
    "the capture.read() method, which returns the frame from the camera. This frame\n",
    "has the same structure as an image in OpenCV, so we can work with it in the\n",
    "same way. For example, to convert the frame into grayscale, do the following\n",
    "\n",
    "# Get some properties of VideoCapture\n",
    "(frame width, frame height and frames per second )\n",
    "using capture.get(property_identifier). In this case, we get some properties, such as\n",
    "frame width, frame height, and frames per second (fps). I"
   ]
  },
  {
   "cell_type": "code",
   "execution_count": 3,
   "metadata": {},
   "outputs": [
    {
     "name": "stdout",
     "output_type": "stream",
     "text": [
      "CV_CAP_PROP_FRAME_WIDTH: '640.0'\n",
      "CV_CAP_PROP_FRAME_HEIGHT : '480.0'\n",
      "CAP_PROP_FPS : '30.0'\n"
     ]
    }
   ],
   "source": [
    "frame_index = 1\n",
    "gray_index = 1\n",
    "capture = cv2.VideoCapture(0) ## index zero,means labtop camera/webcam\n",
    "if capture.isOpened() is False: #  To check whether the connection has been establishedcorrectly, \n",
    "    print(\"error occure during coneection\")\n",
    "\n",
    "#gray_frame = cv2.cvtColor(frame, cv2.COLOR_BGR2GRAY)\n",
    "frame_width = capture.get(cv2.CAP_PROP_FRAME_WIDTH)\n",
    "frame_height = capture.get(cv2.CAP_PROP_FRAME_HEIGHT)\n",
    "fps = capture.get(cv2.CAP_PROP_FPS) # Frame per second\n",
    "# Print these values:\n",
    "print(\"CV_CAP_PROP_FRAME_WIDTH: '{}'\".format(frame_width))\n",
    "print(\"CV_CAP_PROP_FRAME_HEIGHT : '{}'\".format(frame_height))\n",
    "print(\"CAP_PROP_FPS : '{}'\".format(fps))\n",
    "# Read until video is completed\n",
    "while capture.isOpened():\n",
    "    # Capture frame-by-frame from the camera\n",
    "    ret, frame = capture.read()\n",
    "    if ret is True:\n",
    "    # Display the captured frame:\n",
    "        cv2.imshow('Input frame from the camera', frame)\n",
    "        # Convert the frame captured from the camera to grayscale:\n",
    "        gray_frame = cv2.cvtColor(frame, cv2.COLOR_BGR2GRAY)\n",
    "        # Display the grayscale frame:\n",
    "        cv2.imshow('Grayscale input camera', gray_frame)\n",
    "    if cv2.waitKey(20) & 0xFF == ord('s'):\n",
    "        #Saving frame in color folder\n",
    "        frame_name = \"camera_frame_{}.png\".format(frame_index)\n",
    "        cv2.imwrite(\"writeImage/color/\" + frame_name, frame)\n",
    "        frame_index += 1\n",
    "        print(\"Frame saved in Color folder\")\n",
    "        \n",
    "    elif cv2.waitKey(20) & 0xFF == ord('g'):\n",
    "        gray_frame_name = \"grayscale_camera_frame_{}.png\".format(frame_index)\n",
    "        cv2.imwrite(\"writeImage/gray/\" +gray_frame_name, gray_frame)\n",
    "        gray_index += 1\n",
    "        print(\"Frame saved in gray folder\")\n",
    "        \n",
    "    elif cv2.waitKey(20) & 0xFF == ord('q'):\n",
    "        break\n",
    "    # Break the loop\n",
    "\n",
    "# Release everything:\n",
    "capture.release()\n",
    "cv2.destroyAllWindows()"
   ]
  },
  {
   "cell_type": "markdown",
   "metadata": {},
   "source": [
    "## Writing a video file:\n",
    "we can write to video files using cv2.VideoWriter().But before this , we shuld learn below concept \n",
    "# Calculating frames per second:\n",
    "In the Reading camera frame, we saw how we can get\n",
    "some properties from the cv2.VideoCapture object. fps is an important metric in\n",
    "computer vision projects. This metric indicates how many frames are processed\n",
    "per second. It is safe to say that a higher number of fps is better. However, the\n",
    "number of frames your algorithm should process every second will depend on\n",
    "the specific problem you have to solve. For example, if your algorithm should\n",
    "track and detect people walking down the street, 15 fps is probably enough. But\n",
    "if your goal is to detect and track cars going fast on a highway, 20-25 fps are\n",
    "probably necessary:\n"
   ]
  },
  {
   "cell_type": "code",
   "execution_count": 4,
   "metadata": {},
   "outputs": [
    {
     "name": "stdout",
     "output_type": "stream",
     "text": [
      "Start time: 1586408424.0228717\n",
      "End time: 1586408424.0246477\n"
     ]
    }
   ],
   "source": [
    "import time\n",
    "capture = cv2.VideoCapture(0) ## index zero,means labtop camera/webcam\n",
    "if capture.isOpened() is False: #  To check whether the connection has been establishedcorrectly, \n",
    "    print(\"error occure during coneection\")\n",
    "\n",
    "while capture.isOpened():\n",
    "    ret, frame = capture.read()\n",
    "    if ret is True:\n",
    "        # Calculate time before processing the frame:\n",
    "        processing_start = time.time()\n",
    "        print(\"Start time:\",processing_start)\n",
    "        # all the process should be included here\n",
    "        \n",
    "        #........End of processing\n",
    "        # Calculate time after processing the frame\n",
    "        processing_end = time.time()\n",
    "        print(\"End time:\",processing_end)\n",
    "        # Calculate the difference\n",
    "        processing_time_frame = processing_end - processing_start\n",
    "        # FPS = 1 / time_per_frame\n",
    "        # Show the number of frames per second\n",
    "       # print(\"fps: {}\".format(1.0 / processing_time_frame))\n",
    "        # Display the captured frame:\n",
    "        break\n",
    "    # Break the loop\n",
    "# Release everything:\n",
    "capture.release()\n",
    "cv2.destroyAllWindows()"
   ]
  },
  {
   "cell_type": "markdown",
   "metadata": {},
   "source": [
    "## Reading from IP Camera\n",
    "Reading from an Ip Camera in OpenCv is very similar to reading from a a file.\n",
    "In this case, only parameters need to be changed.\n",
    "We just need to provide IP address to \"cv2.VideoCapture()\" function"
   ]
  },
  {
   "cell_type": "code",
   "execution_count": 10,
   "metadata": {},
   "outputs": [
    {
     "name": "stdout",
     "output_type": "stream",
     "text": [
      "error occure during coneection\n",
      "CV_CAP_PROP_FRAME_WIDTH: '0.0'\n",
      "CV_CAP_PROP_FRAME_HEIGHT : '0.0'\n",
      "CAP_PROP_FPS : '0.0'\n"
     ]
    }
   ],
   "source": [
    "frame_index = 1\n",
    "gray_index = 1\n",
    "capture = cv2.VideoCapture('http://192.168.0.105:8080') ## index zero,means labtop camera/webcam\n",
    "if capture.isOpened() is False: #  To check whether the connection has been establishedcorrectly, \n",
    "    print(\"error occure during coneection\")\n",
    "\n",
    "#gray_frame = cv2.cvtColor(frame, cv2.COLOR_BGR2GRAY)\n",
    "frame_width = capture.get(cv2.CAP_PROP_FRAME_WIDTH)\n",
    "frame_height = capture.get(cv2.CAP_PROP_FRAME_HEIGHT)\n",
    "fps = capture.get(cv2.CAP_PROP_FPS) # Frame per second\n",
    "# Print these values:\n",
    "print(\"CV_CAP_PROP_FRAME_WIDTH: '{}'\".format(frame_width))\n",
    "print(\"CV_CAP_PROP_FRAME_HEIGHT : '{}'\".format(frame_height))\n",
    "print(\"CAP_PROP_FPS : '{}'\".format(fps))\n",
    "# Read until video is completed\n",
    "while capture.isOpened():\n",
    "    # Capture frame-by-frame from the camera\n",
    "    ret, frame = capture.read()\n",
    "    if ret is True:\n",
    "    # Display the captured frame:\n",
    "        cv2.imshow('Input frame from the camera', frame)\n",
    "        # Convert the frame captured from the camera to grayscale:\n",
    "        gray_frame = cv2.cvtColor(frame, cv2.COLOR_BGR2GRAY)\n",
    "        # Display the grayscale frame:\n",
    "        cv2.imshow('Grayscale input camera', gray_frame)\n",
    "    if cv2.waitKey(20) & 0xFF == ord('s'):\n",
    "        #Saving frame in color folder\n",
    "        frame_name = \"camera_frame_{}.png\".format(frame_index)\n",
    "        cv2.imwrite(\"writeImage/color/\" + frame_name, frame)\n",
    "        frame_index += 1\n",
    "        print(\"Frame saved in Color folder\")\n",
    "        \n",
    "    elif cv2.waitKey(20) & 0xFF == ord('g'):\n",
    "        gray_frame_name = \"grayscale_camera_frame_{}.png\".format(frame_index)\n",
    "        cv2.imwrite(\"writeImage/gray/\" +gray_frame_name, gray_frame)\n",
    "        gray_index += 1\n",
    "        print(\"Frame saved in gray folder\")\n",
    "        \n",
    "    elif cv2.waitKey(20) & 0xFF == ord('q'):\n",
    "        break\n",
    "    # Break the loop\n",
    "\n",
    "# Release everything:\n",
    "capture.release()\n",
    "cv2.destroyAllWindows()"
   ]
  }
 ],
 "metadata": {
  "kernelspec": {
   "display_name": "Python 3",
   "language": "python",
   "name": "python3"
  },
  "language_info": {
   "codemirror_mode": {
    "name": "ipython",
    "version": 3
   },
   "file_extension": ".py",
   "mimetype": "text/x-python",
   "name": "python",
   "nbconvert_exporter": "python",
   "pygments_lexer": "ipython3",
   "version": "3.7.3"
  }
 },
 "nbformat": 4,
 "nbformat_minor": 2
}
