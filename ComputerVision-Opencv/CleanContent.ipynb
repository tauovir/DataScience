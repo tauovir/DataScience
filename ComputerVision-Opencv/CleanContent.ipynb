{
 "cells": [
  {
   "cell_type": "code",
   "execution_count": 1,
   "metadata": {},
   "outputs": [],
   "source": [
    "## Clean Open Cv Content\n",
    "def cleanString(str1):\n",
    "    alphanumeric = \"\"\n",
    "    ignoreSpecial = ['.',',','!',':',\"'\",\"'\",\"\\n\",\"(\",\")\",'=']\n",
    "    for character in str1:\n",
    "        if character.isalnum():\n",
    "            alphanumeric += character\n",
    "        elif character in ignoreSpecial:\n",
    "            alphanumeric += character\n",
    "        else:\n",
    "            alphanumeric += \" \"\n",
    "    alphanumeric = alphanumeric.replace('you','we')\n",
    "\n",
    "    print(alphanumeric)"
   ]
  },
  {
   "cell_type": "code",
   "execution_count": 3,
   "metadata": {},
   "outputs": [
    {
     "name": "stdout",
     "output_type": "stream",
     "text": [
      "\n",
      "In order to correct the perspective (also known as perspective transformation), we will need to create the transformation matrix by making use of the cv2.getPerspectiveTransform() function, where a 3 x 3 matrix is constructed. This function needs four pairs of points (coordinates of a quadrangle in both the source and output image) and calculates a perspective transformation matrix from these points. Then, the M matrix is passed to cv2.warpPerspective(), where the source image is transformed by applying the specified matrix with a specified size, as shown in the following code:\n",
      "\n",
      "\n"
     ]
    }
   ],
   "source": [
    "str1 = \"\"\"\n",
    "In\torder\tto\tcorrect\tthe\tperspective\t(also\tknown\tas\tperspective\ttransformation), you\twill\tneed\tto\tcreate\tthe\ttransformation\tmatrix\tby\tmaking\tuse\tof the\tcv2.getPerspectiveTransform()\tfunction,\twhere\ta\t3\tx\t3\tmatrix\tis\tconstructed.\tThis function\tneeds\tfour\tpairs\tof\tpoints\t(coordinates\tof\ta\tquadrangle\tin\tboth\tthe source\tand\toutput\timage)\tand\tcalculates\ta\tperspective\ttransformation\tmatrix from\tthese\tpoints.\tThen,\tthe\tM\tmatrix\tis\tpassed\tto\tcv2.warpPerspective(),\twhere\tthe source\timage\tis\ttransformed\tby\tapplying\tthe\tspecified\tmatrix\twith\ta\tspecified size,\tas\tshown\tin\tthe\tfollowing\tcode:\n",
    "\n",
    "\"\"\"\n",
    "\n",
    "\n",
    "cleanString(str1)"
   ]
  },
  {
   "cell_type": "code",
   "execution_count": null,
   "metadata": {},
   "outputs": [],
   "source": []
  }
 ],
 "metadata": {
  "kernelspec": {
   "display_name": "Python 3",
   "language": "python",
   "name": "python3"
  },
  "language_info": {
   "codemirror_mode": {
    "name": "ipython",
    "version": 3
   },
   "file_extension": ".py",
   "mimetype": "text/x-python",
   "name": "python",
   "nbconvert_exporter": "python",
   "pygments_lexer": "ipython3",
   "version": "3.7.3"
  }
 },
 "nbformat": 4,
 "nbformat_minor": 2
}
