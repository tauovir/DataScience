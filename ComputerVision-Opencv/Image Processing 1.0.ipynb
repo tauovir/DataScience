{
 "cells": [
  {
   "cell_type": "markdown",
   "metadata": {},
   "source": [
    "# Image Processing 1.0\n",
    " Image processing techniques are the core of computer vision projects. They can be seen as useful key tools, which you can use to complete various tasks. In other words, image processing techniques are like building blocks that should be kept in mind when processing your images. Therefore, a basic understanding of image processing is required if you are to work with computer vision projects. In this blog, you will learn most of the common image processing techniques you need. These will be complemented by the other image processing techniques covered in the next three chapters of this book  histograms, thresholding techniques, contour detection, and filtering . In this chapter, the following topics will be covered: \n",
    "   Splitting and merging channels\n",
    "  Geometric transformations of images translation, rotation, scaling, affine transformation, perspective transformation, and cropping.\n",
    "   Arithmetic with images bitwise operations  AND, OR, XOR, and NOT and Masking\n",
    "   Smoothing and sharpening techniques\n",
    "   Morphological\toperations\n",
    "   Color spaces\n",
    "   Color maps\n",
    "\n"
   ]
  },
  {
   "cell_type": "markdown",
   "metadata": {},
   "source": [
    "# Splitting and merging channels in OpenCV:\n",
    "Sometimes, we have to work with specific channels on multichannel images. To do this, we have to split the multichannel image into several single channel images. Additionally, once the processing has been done, we may want to create one multichannel image from different single channel images. In order to both split and merge channels, we can use the cv2.split() and cv2.merge() functions, respectively. The cv2.split() function splits the source multichannel image into several single channel images. The cv2.merge() function merges several single channel images into a multichannel image\n"
   ]
  },
  {
   "cell_type": "code",
   "execution_count": 1,
   "metadata": {},
   "outputs": [
    {
     "ename": "ImportError",
     "evalue": "DLL load failed: The specified module could not be found.",
     "output_type": "error",
     "traceback": [
      "\u001b[1;31m---------------------------------------------------------------------------\u001b[0m",
      "\u001b[1;31mImportError\u001b[0m                               Traceback (most recent call last)",
      "\u001b[1;32m<ipython-input-1-cf44c0c2ce87>\u001b[0m in \u001b[0;36m<module>\u001b[1;34m\u001b[0m\n\u001b[1;32m----> 1\u001b[1;33m \u001b[1;32mimport\u001b[0m \u001b[0mcv2\u001b[0m\u001b[1;33m\u001b[0m\u001b[1;33m\u001b[0m\u001b[0m\n\u001b[0m\u001b[0;32m      2\u001b[0m \u001b[1;32mimport\u001b[0m \u001b[0mnumpy\u001b[0m \u001b[1;32mas\u001b[0m \u001b[0mnp\u001b[0m\u001b[1;33m\u001b[0m\u001b[1;33m\u001b[0m\u001b[0m\n\u001b[0;32m      3\u001b[0m \u001b[1;31m#import matplotlib.pyplot as plt\u001b[0m\u001b[1;33m\u001b[0m\u001b[1;33m\u001b[0m\u001b[1;33m\u001b[0m\u001b[0m\n",
      "\u001b[1;31mImportError\u001b[0m: DLL load failed: The specified module could not be found."
     ]
    }
   ],
   "source": [
    "import cv2\n",
    "import numpy as np\n",
    "#import matplotlib.pyplot as plt"
   ]
  },
  {
   "cell_type": "code",
   "execution_count": null,
   "metadata": {},
   "outputs": [],
   "source": [
    "## Lets Create Simple function to Show Images\n",
    "def displayImage(imageList):\n",
    "    plt.figure(figsize=(30,20))\n",
    "    i = 0\n",
    "    for item in imageList:  \n",
    "        plt.subplot(1, 5, i+1)\n",
    "        plt.imshow(item['image'])\n",
    "        i += 1\n",
    "        plt.axis('off')\n",
    "        plt.title(item['name'])\n",
    "    plt.show()\n"
   ]
  },
  {
   "cell_type": "code",
   "execution_count": null,
   "metadata": {},
   "outputs": [],
   "source": [
    "colors = {\n",
    "    'blue' : (255,0,0), 'green' : (0,255,0),'red' : (0,0,255),\n",
    "    'yellow': (0,255,255), 'magenta' : (255,0,255),'cyan' : (255, 255,0),\n",
    "    'while':(255,255,255),'black':(0,0,0),'gray': (125,125,125),\n",
    "    'rand' : np.random.randint(0,high = 256, size = (3,)).tolist(),\n",
    "    'dark_gray' : (50,50,50),'light_gray' : (220,220,220)\n",
    "         }"
   ]
  },
  {
   "cell_type": "code",
   "execution_count": null,
   "metadata": {},
   "outputs": [],
   "source": [
    "blackImage = np.zeros((200, 200, 3), dtype=\"uint8\")\n"
   ]
  },
  {
   "cell_type": "code",
   "execution_count": null,
   "metadata": {},
   "outputs": [],
   "source": [
    "blackImage[:] = colors['green']\n",
    "imageList = [\n",
    "    {'name':'Randome Image','image':blackImage},\n",
    "    \n",
    "]\n",
    "print(blackImage.shape)\n",
    "#displayImage(imageList)\n",
    "image2=cv2.imread('images/cat1.jpg')\n",
    "cv2.imshow(\"image\",image2)\n",
    "cv2.waitKey(0)\n",
    "cv2.destroyAllWindows()"
   ]
  },
  {
   "cell_type": "code",
   "execution_count": null,
   "metadata": {},
   "outputs": [],
   "source": [
    "colors['yellow']"
   ]
  },
  {
   "cell_type": "code",
   "execution_count": null,
   "metadata": {},
   "outputs": [],
   "source": [
    "arr[0]"
   ]
  },
  {
   "cell_type": "code",
   "execution_count": null,
   "metadata": {},
   "outputs": [],
   "source": []
  }
 ],
 "metadata": {
  "kernelspec": {
   "display_name": "opencvEnv",
   "language": "python",
   "name": "opencvenv"
  },
  "language_info": {
   "codemirror_mode": {
    "name": "ipython",
    "version": 3
   },
   "file_extension": ".py",
   "mimetype": "text/x-python",
   "name": "python",
   "nbconvert_exporter": "python",
   "pygments_lexer": "ipython3",
   "version": "3.6.10"
  }
 },
 "nbformat": 4,
 "nbformat_minor": 2
}
