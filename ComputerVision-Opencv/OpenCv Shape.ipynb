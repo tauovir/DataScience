{
 "cells": [
  {
   "cell_type": "markdown",
   "metadata": {},
   "source": [
    "## Constructing Basic Shapes in OpenCV\n",
    "One basic functionality offered by OpenCV is drawing basic shapes. OpenCV\n",
    "provides functions to draw lines, circles, rectangles, ellipses, and so on. When\n",
    "building a computer vision project, you usually want to modify the image by\n",
    "drawing some shapes. For example, if you develop a face detection algorithm,\n",
    "you should draw a rectangle highlighting the detected faces in the computed\n",
    "image. Additionally, if you develop a face recognition algorithm, you should\n",
    "draw a rectangle highlighting the detected faces and also write some text\n",
    "showing the identity of the detected faces.\n",
    "it is a common approach to draw basic shapes on the image in order to do the following:\n",
    "\n",
    "1> Show some intermediate results of your algorithm\n",
    "\n",
    "2> Show the final results of your algorithm\n",
    "\n",
    "3> Show some debugging information\n"
   ]
  },
  {
   "cell_type": "code",
   "execution_count": 1,
   "metadata": {},
   "outputs": [],
   "source": [
    "import cv2\n",
    "import matplotlib.pyplot as plt\n",
    "import numpy as np"
   ]
  },
  {
   "cell_type": "code",
   "execution_count": 2,
   "metadata": {},
   "outputs": [
    {
     "name": "stdout",
     "output_type": "stream",
     "text": [
      "NUmpy version:1.16.2\n",
      "OpenCv version:4.2.0\n"
     ]
    }
   ],
   "source": [
    "numpy_version = np.__version__\n",
    "opencv_version = cv2.__version__\n",
    "print(\"NUmpy version:{numpy}\".format(numpy = numpy_version))\n",
    "print(\"OpenCv version:{opencv}\".format(opencv = opencv_version))\n",
    "\n"
   ]
  },
  {
   "cell_type": "code",
   "execution_count": 3,
   "metadata": {},
   "outputs": [],
   "source": [
    "def displayImage(imageList):\n",
    "    plt.figure(figsize=(30,20))\n",
    "    i = 0\n",
    "    for item in imageList:  \n",
    "        plt.subplot(1, 5, i+1)\n",
    "        plt.imshow(item['image'])\n",
    "        i += 1\n",
    "        plt.axis('off')\n",
    "        plt.title(item['name'])\n",
    "    plt.show()\n",
    "#imageList = [{'name':'Original','image':image},{'name':'Gray Scale','image':gray},]"
   ]
  },
  {
   "cell_type": "code",
   "execution_count": 4,
   "metadata": {},
   "outputs": [],
   "source": [
    "colors = {\n",
    "    'blue' : (255,0,0), 'green' : (0,255,0),'red' : (0,0,255),\n",
    "    'yellow': (0,255,255), 'magenta' : (255,0,255),'cyan' : (255, 255,0),\n",
    "    'while':(255,255,255),'black':(0,0,0),'gray': (125,125,125),\n",
    "    'rand' : np.random.randint(0,high = 256, size = (3,)).tolist(),\n",
    "    'dark_gray' : (50,50,50),'light_gray' : (220,220,220)\n",
    "         }"
   ]
  },
  {
   "cell_type": "code",
   "execution_count": 5,
   "metadata": {},
   "outputs": [
    {
     "data": {
      "image/png": "[encoded data removed]",
      "text/plain": [
       "<Figure size 2160x1440 with 2 Axes>"
      ]
     },
     "metadata": {
      "needs_background": "light"
     },
     "output_type": "display_data"
    }
   ],
   "source": [
    "## We create the canvas to draw: 400 x 400 pixels, 3 channels, uint8\n",
    "# We set background to black using np.zeros()\n",
    "blackImage = np.zeros((500, 500, 3), dtype=\"uint8\")\n",
    "# But I want to make it gray\n",
    "grayImage = blackImage.copy()\n",
    "grayImage[:] = colors['gray']\n",
    "imageList = [{'name':'Black Image','image':blackImage},{'name':'Gray Image','image':grayImage}]\n",
    "displayImage(imageList)"
   ]
  },
  {
   "cell_type": "code",
   "execution_count": 6,
   "metadata": {},
   "outputs": [
    {
     "data": {
      "image/png": "[encoded data removed]",
      "text/plain": [
       "<Figure size 2160x1440 with 1 Axes>"
      ]
     },
     "metadata": {
      "needs_background": "light"
     },
     "output_type": "display_data"
    }
   ],
   "source": [
    "# We draw all the colors to test the dictionary\n",
    "# We draw some lines, each one in a color. To get the color, use 'colors[key]\n",
    "grayImage[0:50,:] = colors['red']\n",
    "grayImage[50:100,:] = colors['green']\n",
    "grayImage[100:150,:] = colors['blue']\n",
    "grayImage[150:200,:] = colors['yellow']\n",
    "grayImage[200:300,:] = colors['cyan']\n",
    "grayImage[300:400,:] = colors['magenta']\n",
    "\n",
    "imageList = [{'name':'Predefined Colrs','image':grayImage}]\n",
    "displayImage(imageList)\n",
    "    "
   ]
  },
  {
   "cell_type": "markdown",
   "metadata": {},
   "source": [
    "## Drawing Shape\n",
    "It should be noted that most\n",
    "drawing functions that OpenCV provides have common parameters. \n",
    "    img: It is the image where the shape will be drawn.\n",
    "    color: It is the color (BGR triplet) used to draw the shape.\n",
    "    thickness: If this value is positive, it is the thickness of the shape outline.\n",
    "    Otherwise, a filled shape will be drawn.\n",
    "    \n",
    "    lineType: It is the type of the shape boundary. OpenCV provides three types\n",
    "    of line:\n",
    "    \n",
    "        cv2.LINE_4: This means four-connected lines\n",
    "        cv2.LINE_8: This means eight-connected lines\n",
    "        cv2.LINE_AA: This means an anti-aliased line\n",
    "    shift: This indicates the number of fractional bits in connection with the\n",
    "    coordinates of some points defining the shape.\n"
   ]
  },
  {
   "cell_type": "code",
   "execution_count": 7,
   "metadata": {},
   "outputs": [],
   "source": [
    "def makeConvas():\n",
    "    image = np.zeros((400, 400, 3), dtype=\"uint8\")\n",
    "    image[:] = colors['light_gray']\n",
    "    return image"
   ]
  },
  {
   "cell_type": "code",
   "execution_count": 8,
   "metadata": {},
   "outputs": [
    {
     "data": {
      "image/png": "[encoded data removed]",
      "text/plain": [
       "<Figure size 2160x1440 with 1 Axes>"
      ]
     },
     "metadata": {
      "needs_background": "light"
     },
     "output_type": "display_data"
    }
   ],
   "source": [
    "image = makeConvas()\n",
    "imageList = [{'name':'Convale','image':image}]\n",
    "displayImage(imageList)\n",
    "    "
   ]
  },
  {
   "cell_type": "code",
   "execution_count": 9,
   "metadata": {},
   "outputs": [
    {
     "data": {
      "image/png": "[encoded data removed]",
      "text/plain": [
       "<Figure size 2160x1440 with 1 Axes>"
      ]
     },
     "metadata": {
      "needs_background": "light"
     },
     "output_type": "display_data"
    }
   ],
   "source": [
    "# Drawing lines\n",
    "#img = line(img, pt1, pt2, color, thickness=1, lineType=8, shift=0)\n",
    "image = makeConvas()\n",
    "cv2.line(image, (0, 0), (400, 400), colors['green'], 3)\n",
    "cv2.line(image, (0, 400), (400, 0), colors['blue'], 10)\n",
    "cv2.line(image, (200, 0), (200, 400), colors['red'], 3)\n",
    "cv2.line(image, (0, 200), (400, 200), colors['yellow'], 10)\n",
    "\n",
    "imageList = [{'name':'Line','image':image}]\n",
    "displayImage(imageList)"
   ]
  },
  {
   "cell_type": "markdown",
   "metadata": {},
   "source": [
    "# Drawing rectangles\n",
    "The signature for the cv2.rectangle() function is as follow\n",
    "\n",
    "img = rectangle(img, pt1, pt2, color, thickness=1, lineType=8, shift=0)"
   ]
  },
  {
   "cell_type": "code",
   "execution_count": 10,
   "metadata": {},
   "outputs": [
    {
     "data": {
      "image/png": "[encoded data removed]",
      "text/plain": [
       "<Figure size 2160x1440 with 1 Axes>"
      ]
     },
     "metadata": {
      "needs_background": "light"
     },
     "output_type": "display_data"
    }
   ],
   "source": [
    "image = makeConvas()\n",
    "image = cv2.rectangle(image, (10,50), (60,300),color = colors['green'])\n",
    "image = cv2.rectangle(image, (80,50), (130,300),color = colors['blue'],)\n",
    "image = cv2.rectangle(image, (150,100), (290,260),color = colors['green'],thickness = 5)\n",
    "\n",
    "imageList = [{'name':'Rectangle','image':image}]\n",
    "displayImage(imageList)"
   ]
  },
  {
   "cell_type": "markdown",
   "metadata": {},
   "source": [
    "# Drawing circles\n",
    "The signature for the cv2.circle() function\n",
    "\n",
    "img = circle(img, center, radius, color, thickness=1, lineType=8, shift=0)\n",
    "\n",
    "This function draws a circle with a radius radius centered in the center\n",
    "position"
   ]
  },
  {
   "cell_type": "code",
   "execution_count": 11,
   "metadata": {},
   "outputs": [
    {
     "data": {
      "image/png": "[encoded data removed]",
      "text/plain": [
       "<Figure size 2160x1440 with 1 Axes>"
      ]
     },
     "metadata": {
      "needs_background": "light"
     },
     "output_type": "display_data"
    }
   ],
   "source": [
    "image = makeConvas()\n",
    "image = cv2.circle(image, (180,150), 80,color = colors['green'],thickness = 5 )\n",
    "image = cv2.circle(image, (180,200),78,color = colors['blue'],thickness = 3)\n",
    "image = cv2.circle(image, (160,170), 150,color = colors['black'],thickness = 5)\n",
    "\n",
    "imageList = [{'name':'Circle','image':image}]\n",
    "displayImage(imageList)"
   ]
  },
  {
   "cell_type": "markdown",
   "metadata": {},
   "source": [
    "## Writing Text in Image\n",
    "The\tcv2.putText()\tfunction\thas\tthe\tfollowing\tsignature\n",
    "\n",
    "img\t=\tcv.putText(\timg,\ttext,\torg,\tfontFace,\tfontScale,\tcolor,\tthickness=1,\tlineType=\t8,"
   ]
  },
  {
   "cell_type": "code",
   "execution_count": 37,
   "metadata": {},
   "outputs": [
    {
     "data": {
      "image/png": "[encoded data removed]",
      "text/plain": [
       "<Figure size 2160x1440 with 1 Axes>"
      ]
     },
     "metadata": {
      "needs_background": "light"
     },
     "output_type": "display_data"
    }
   ],
   "source": [
    "image = makeConvas()\n",
    "image = cv2.circle(image, (160,170), 150,color = colors['black'],thickness = 5)\n",
    "cv2.putText(image, \"MAstering Opencv with Python\",(10,100),\n",
    "            fontScale =2, fontFace = cv2.FONT_HERSHEY_SIMPLEX,color = colors['green'],thickness = 5)\n",
    "imageList = [{'name':'Circle','image':image}]\n",
    "displayImage(imageList)"
   ]
  },
  {
   "cell_type": "code",
   "execution_count": 42,
   "metadata": {},
   "outputs": [
    {
     "data": {
      "image/png": "[encoded data removed]",
      "text/plain": [
       "<Figure size 2160x1440 with 1 Axes>"
      ]
     },
     "metadata": {
      "needs_background": "light"
     },
     "output_type": "display_data"
    }
   ],
   "source": [
    "image = makeConvas()\n",
    "cv2.putText(image, \"Python\",(10,40),\n",
    "            fontScale =2, fontFace = cv2.FONT_HERSHEY_SIMPLEX,color = colors['green'],thickness = 2)\n",
    "cv2.putText(image, \"Java\",(10,90),\n",
    "            fontScale =2, fontFace = cv2.FONT_HERSHEY_SIMPLEX,color = colors['red'],thickness = 3)\n",
    "cv2.putText(image, \"MYSQL\",(10,160),\n",
    "            fontScale =2, fontFace = cv2.FONT_HERSHEY_SIMPLEX,color = colors['blue'],thickness = 4)\n",
    "\n",
    "\n",
    "\n",
    "imageList = [{'name':'Circle','image':image}]\n",
    "displayImage(imageList)"
   ]
  },
  {
   "cell_type": "markdown",
   "metadata": {},
   "source": [
    "## Dynamic Drawing Shapes\n",
    "Th\tnext\texample\tgives\tyou\tan\tintroduction\tinto\thow\tto\thandle\tmouse\tevents with\tOpenCV.\tThe\tcv2.setMouseCallback()\tfunction\tperforms\tthis\tfunctionality.\tThe signature\tfor\tthis\tmethod\tis\tas\tfollows\n",
    "\n",
    "cv2.setMouseCallback(windowName,\tonMouse,\tparam=None)\n"
   ]
  },
  {
   "cell_type": "code",
   "execution_count": 44,
   "metadata": {},
   "outputs": [],
   "source": [
    "def drawCircle(event, x, y, flags, param):\n",
    "    if event ==cv2.EVENT_LBUTTONDBLCLK:\n",
    "        print(\"Buttin Clicked\")\n",
    "        cv2.circle(image, (x,y),10, colors['magenta'],-1)\n",
    "    elif event == cv2.EVENT_MOUSEMOVE:\n",
    "        print(\"mouse moved\")\n",
    "    elif event == cv2.EVENT_LBUTTONUP:\n",
    "        print(\"button up\")\n",
    "    elif event == cv2.EVENT_LBUTTONDOWN:\n",
    "        print(\"buitton down\")\n",
    "        "
   ]
  },
  {
   "cell_type": "code",
   "execution_count": 45,
   "metadata": {},
   "outputs": [],
   "source": [
    "## we create a named window  where the mouse callback will be establish\n",
    "image = makeConvas()\n",
    "cv2.namedWindow(\"Image mouse\")\n",
    "# We set the mouse callback function for 'draw_circle'\n",
    "cv2.setMouseCallback(\"Image mouse\",drawCircle)"
   ]
  }
 ],
 "metadata": {
  "kernelspec": {
   "display_name": "Python 3",
   "language": "python",
   "name": "python3"
  },
  "language_info": {
   "codemirror_mode": {
    "name": "ipython",
    "version": 3
   },
   "file_extension": ".py",
   "mimetype": "text/x-python",
   "name": "python",
   "nbconvert_exporter": "python",
   "pygments_lexer": "ipython3",
   "version": "3.7.3"
  }
 },
 "nbformat": 4,
 "nbformat_minor": 2
}
