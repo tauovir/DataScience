{
 "cells": [
  {
   "cell_type": "markdown",
   "metadata": {},
   "source": [
    "## Reading camera frames\n",
    "This first example, read_camera.py, shows you how to read frames from a camera\n",
    "that's connected to your computer. The required argument is index_camera, which\n",
    "indicates the index of the camera to read. If you have connected a webcam to\n",
    "your computer, it has an index of 0. Additionally, if you have a second camera,\n",
    "you can select it by passing 1. As you can see, the type of this parameter is int.\n",
    "The first step to work with cv2.VideoCapture is to create an object to work with. In\n",
    "this case, the object is capture, and we call the constructor like this"
   ]
  },
  {
   "cell_type": "code",
   "execution_count": 1,
   "metadata": {},
   "outputs": [
    {
     "name": "stdout",
     "output_type": "stream",
     "text": [
      "OpenCv version:4.2.0\n"
     ]
    }
   ],
   "source": [
    "import cv2\n",
    "opencv_version = cv2.__version__\n",
    "print(\"OpenCv version:{opencv}\".format(opencv = opencv_version))\n"
   ]
  },
  {
   "cell_type": "markdown",
   "metadata": {},
   "source": [
    "## Connect Camera\n",
    "# Steps:\n",
    "    The first step to work with # cv2.VideoCapture is to create an object to work with.\n",
    "    pass camera index to be connected. laptop camrea index is 0,means first camera,you can pass any number of connected camera\n",
    "    # capture.isOpened() : \n",
    "    To check whether the connection has been establishedcorrectly\n",
    "         returns False if theconnection could not be established\n",
    "        f the capture was initialized correctly, this method returns True.\n",
    "        \n",
    "To capture footage frame by frame from the camera, we call\n",
    "the capture.read() method, which returns the frame from the camera. This frame\n",
    "has the same structure as an image in OpenCV, so we can work with it in the\n",
    "same way. For example, to convert the frame into grayscale or any otther available color."
   ]
  },
  {
   "cell_type": "code",
   "execution_count": 6,
   "metadata": {},
   "outputs": [
    {
     "name": "stdout",
     "output_type": "stream",
     "text": [
      "OpenCv version:4.2.0\n"
     ]
    }
   ],
   "source": [
    "import cv2\n",
    "opencv_version = cv2.__version__\n",
    "print(\"OpenCv version:{opencv}\".format(opencv = opencv_version))\n",
    "\n",
    "capture = cv2.VideoCapture(0) ## index zero,means labtop camera/webcam\n",
    "if capture.isOpened() is False: #  To check whether the connection has been establishedcorrectly, \n",
    "    print(\"error occure during coneection\")\n",
    "while capture.isOpened():\n",
    "    # Capture frame-by-frame from the camera\n",
    "    ret, frame = capture.read()\n",
    "    if ret is True:\n",
    "    # Display the captured frame:\n",
    "        cv2.imshow('Input frame from the camera', frame)\n",
    "    if cv2.waitKey(20) == ord('q'): #  Read from camera untill 'q' key is pressed\n",
    "        break\n",
    "    # Break the loop\n",
    "\n",
    "# Release everything:\n",
    "capture.release()\n",
    "cv2.destroyAllWindows()"
   ]
  },
  {
   "cell_type": "code",
   "execution_count": 11,
   "metadata": {},
   "outputs": [
    {
     "name": "stdout",
     "output_type": "stream",
     "text": [
      "Frame saved in Color folder\n",
      "Frame saved in Color folder\n",
      "Frame saved in gray folder\n"
     ]
    }
   ],
   "source": [
    "frame_index = 1\n",
    "gray_index = 1\n",
    "\n",
    "capture = cv2.VideoCapture(0) ## index zero,means labtop camera/webcam\n",
    "if capture.isOpened() is False: #  To check whether the connection has been establishedcorrectly, \n",
    "    print(\"error occure during coneection\")\n",
    "# Read until video is completed\n",
    "while capture.isOpened():\n",
    "    # Capture frame-by-frame from the camera\n",
    "    ret, frame = capture.read()\n",
    "    if ret is True:\n",
    "    # Display the captured frame:\n",
    "        cv2.imshow('Input frame from the camera', frame)\n",
    "        # Convert the captured frame to grayscale:\n",
    "        gray_frame = cv2.cvtColor(frame, cv2.COLOR_BGR2GRAY)\n",
    "        # Display the grayscale frame:\n",
    "        cv2.imshow('Grayscale input camera', gray_frame)\n",
    "        \n",
    "        #Press 's' key to save color Image\n",
    "    if cv2.waitKey(20) & 0xFF == ord('s'):\n",
    "        #Saving frame in color folder\n",
    "        frame_name = \"camera_frame_{}.png\".format(frame_index)\n",
    "        cv2.imwrite(\"writeImage/color/\" + frame_name, frame)\n",
    "        frame_index += 1\n",
    "        print(\"Frame saved in Color folder\")\n",
    "        \n",
    "        #Press 'q' key to save color Image\n",
    "    elif cv2.waitKey(20) & 0xFF == ord('g'):\n",
    "        gray_frame_name = \"grayscale_camera_frame_{}.png\".format(frame_index)\n",
    "        cv2.imwrite(\"writeImage/gray/\" +gray_frame_name, gray_frame)\n",
    "        gray_index += 1\n",
    "        print(\"Frame saved in gray folder\")\n",
    "        \n",
    "    elif cv2.waitKey(5) == ord('q'): ## Press key 'q' to relase camera\n",
    "        break\n",
    "    # Break the loop\n",
    "\n",
    "# Release everything:\n",
    "capture.release()\n",
    "cv2.destroyAllWindows()"
   ]
  }
 ],
 "metadata": {
  "kernelspec": {
   "display_name": "opencvEnv",
   "language": "python",
   "name": "opencvenv"
  },
  "language_info": {
   "codemirror_mode": {
    "name": "ipython",
    "version": 3
   },
   "file_extension": ".py",
   "mimetype": "text/x-python",
   "name": "python",
   "nbconvert_exporter": "python",
   "pygments_lexer": "ipython3",
   "version": "3.6.10"
  }
 },
 "nbformat": 4,
 "nbformat_minor": 2
}
