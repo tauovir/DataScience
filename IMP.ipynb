{
 "cells": [
  {
   "cell_type": "code",
   "execution_count": 1,
   "metadata": {},
   "outputs": [],
   "source": [
    "## Palindrom"
   ]
  },
  {
   "cell_type": "code",
   "execution_count": 39,
   "metadata": {},
   "outputs": [
    {
     "name": "stdout",
     "output_type": "stream",
     "text": [
      "Palindrom\n"
     ]
    }
   ],
   "source": [
    "def isPalindrom(str1):\n",
    "    str2 = str1[len(str1)::-1] ## Revesre String\n",
    "    #str2 = stringname[::-1] # method2\n",
    "    if (len(str1) == len(str2)) and (str1 == str2) :\n",
    "        print(\"Palindrom\")\n",
    "    else:\n",
    "        print(\"not palindrom\")\n",
    "isPalindrom(\"pip\")"
   ]
  },
  {
   "cell_type": "code",
   "execution_count": 53,
   "metadata": {},
   "outputs": [
    {
     "name": "stdout",
     "output_type": "stream",
     "text": [
      "String Length:32\n",
      "Char Count:6\n",
      "String Count:2\n",
      "Find :6\n"
     ]
    }
   ],
   "source": [
    "## Same String Function\n",
    "def CommonStringFunc(str1):\n",
    "    print(\"String Length:{length}\".format(length = len(str1)))\n",
    "    print(\"Char Count:{count1}\".format(count1 = str1.count('a')))\n",
    "    print(\"String Count:{count1}\".format(count1 = str1.count('apple')))\n",
    "    print(\"Find :{count1}\".format(count1 = str1.find('banana')))\n",
    "    \n",
    "\n",
    "CommonStringFunc(\"apple banana orange fruite apple\")"
   ]
  },
  {
   "cell_type": "code",
   "execution_count": 61,
   "metadata": {},
   "outputs": [
    {
     "name": "stdout",
     "output_type": "stream",
     "text": [
      "[1, 2, 3, 4, 5]\n",
      "khan\n",
      "(55, 22, 66)\n"
     ]
    }
   ],
   "source": [
    "## *args and **kwargs\n",
    "def arg(*args):\n",
    "    for i in args:\n",
    "        print(i)\n",
    "arg([1,2,3,4,5])\n",
    "arg(\"khan\")\n",
    "arg((55,22,66))"
   ]
  },
  {
   "cell_type": "code",
   "execution_count": 65,
   "metadata": {},
   "outputs": [
    {
     "name": "stdout",
     "output_type": "stream",
     "text": [
      "a 1\n",
      "b 2\n",
      "c 3\n"
     ]
    }
   ],
   "source": [
    "def arg2(**args):\n",
    "    for i in  args:\n",
    "        print(i, args[i])\n",
    "        \n",
    "arg2(a=1,b=2,c=3)"
   ]
  },
  {
   "cell_type": "markdown",
   "metadata": {},
   "source": [
    "## the iterator protocol\n",
    "The iterator protocol for Python declares that we must make use of two functions to build an iterator- iter() and next().\n"
   ]
  },
  {
   "cell_type": "code",
   "execution_count": 81,
   "metadata": {},
   "outputs": [
    {
     "name": "stdout",
     "output_type": "stream",
     "text": [
      "2\n",
      "8\n"
     ]
    }
   ],
   "source": [
    "a = iter([2,8,3,4,5,6,7,8,90])\n",
    "print(next(a))\n",
    "print(next(a))\n",
    "\n"
   ]
  },
  {
   "cell_type": "markdown",
   "metadata": {},
   "source": [
    "# tuple unpacking"
   ]
  },
  {
   "cell_type": "code",
   "execution_count": 83,
   "metadata": {},
   "outputs": [
    {
     "name": "stdout",
     "output_type": "stream",
     "text": [
      "10 20 30\n"
     ]
    }
   ],
   "source": [
    "num = (10,20,30)\n",
    "a,b,c = num\n",
    "print(a,b,c)"
   ]
  },
  {
   "cell_type": "code",
   "execution_count": 85,
   "metadata": {},
   "outputs": [
    {
     "name": "stdout",
     "output_type": "stream",
     "text": [
      "2 2\n"
     ]
    }
   ],
   "source": [
    "a = 1\n",
    "a,b = a+1,a+1\n",
    "print(a,b)"
   ]
  },
  {
   "cell_type": "markdown",
   "metadata": {},
   "source": [
    "## frozen set in Python?\n",
    "A set is a collection of items, where there cannot be any duplicates."
   ]
  },
  {
   "cell_type": "code",
   "execution_count": 97,
   "metadata": {},
   "outputs": [
    {
     "name": "stdout",
     "output_type": "stream",
     "text": [
      "{1, 2, 3, 4, 5, 9}\n"
     ]
    },
    {
     "ename": "TypeError",
     "evalue": "'set' object is not subscriptable",
     "output_type": "error",
     "traceback": [
      "\u001b[1;31m---------------------------------------------------------------------------\u001b[0m",
      "\u001b[1;31mTypeError\u001b[0m                                 Traceback (most recent call last)",
      "\u001b[1;32m<ipython-input-97-ff593d7feaea>\u001b[0m in \u001b[0;36m<module>\u001b[1;34m\u001b[0m\n\u001b[0;32m      1\u001b[0m \u001b[0mmyset\u001b[0m \u001b[1;33m=\u001b[0m \u001b[1;33m{\u001b[0m\u001b[1;36m1\u001b[0m\u001b[1;33m,\u001b[0m\u001b[1;36m2\u001b[0m\u001b[1;33m,\u001b[0m\u001b[1;36m3\u001b[0m\u001b[1;33m,\u001b[0m\u001b[1;36m4\u001b[0m\u001b[1;33m,\u001b[0m\u001b[1;36m5\u001b[0m\u001b[1;33m,\u001b[0m\u001b[1;36m2\u001b[0m\u001b[1;33m,\u001b[0m\u001b[1;36m1\u001b[0m\u001b[1;33m,\u001b[0m\u001b[1;36m9\u001b[0m\u001b[1;33m}\u001b[0m\u001b[1;33m\u001b[0m\u001b[1;33m\u001b[0m\u001b[0m\n\u001b[0;32m      2\u001b[0m \u001b[0mprint\u001b[0m\u001b[1;33m(\u001b[0m\u001b[0mmyset\u001b[0m\u001b[1;33m)\u001b[0m\u001b[1;33m\u001b[0m\u001b[1;33m\u001b[0m\u001b[0m\n\u001b[1;32m----> 3\u001b[1;33m \u001b[0mprint\u001b[0m\u001b[1;33m(\u001b[0m\u001b[0mmyset\u001b[0m\u001b[1;33m[\u001b[0m\u001b[1;36m0\u001b[0m\u001b[1;33m]\u001b[0m\u001b[1;33m)\u001b[0m\u001b[1;33m\u001b[0m\u001b[1;33m\u001b[0m\u001b[0m\n\u001b[0m",
      "\u001b[1;31mTypeError\u001b[0m: 'set' object is not subscriptable"
     ]
    }
   ],
   "source": [
    "myset = {1,2,3,4,5,2,1,9}\n",
    "print(myset)\n",
    "print(myset[0])"
   ]
  },
  {
   "cell_type": "markdown",
   "metadata": {},
   "source": [
    "## However, a set is mutable. A frozen set is immutable. This means we cannot change its values. This also makes it eligible to be used as a key for a dictionary"
   ]
  },
  {
   "cell_type": "code",
   "execution_count": 100,
   "metadata": {},
   "outputs": [
    {
     "data": {
      "text/plain": [
       "frozenset({1, 2, 3})"
      ]
     },
     "execution_count": 100,
     "metadata": {},
     "output_type": "execute_result"
    }
   ],
   "source": [
    "froz = frozenset([1,3,2,2])\n",
    "froz"
   ]
  },
  {
   "cell_type": "code",
   "execution_count": 135,
   "metadata": {},
   "outputs": [
    {
     "name": "stdout",
     "output_type": "stream",
     "text": [
      "12\n",
      "6\n",
      "12.570167121749181\n"
     ]
    }
   ],
   "source": [
    "## Generate random number\n",
    "import random\n",
    "print(random.randint(5,20))\n",
    "print(random.randrange(1,20))\n",
    "print(random.uniform(1,20))\n",
    "\n"
   ]
  },
  {
   "cell_type": "markdown",
   "metadata": {},
   "source": [
    "## explain the filter(), map() functions\n",
    "Filter function lets us keep the values that satisfy some conditional logic\n",
    "\n",
    "map()- This function applies a function to each element in the iterable.\n",
    "\n"
   ]
  },
  {
   "cell_type": "code",
   "execution_count": 137,
   "metadata": {},
   "outputs": [
    {
     "data": {
      "text/plain": [
       "{5, 6, 7, 8, 9, 10, 11, 12, 13, 14, 15, 16, 17, 18, 19}"
      ]
     },
     "execution_count": 137,
     "metadata": {},
     "output_type": "execute_result"
    }
   ],
   "source": [
    "set(filter(lambda x :  x >4,range(20)))"
   ]
  },
  {
   "cell_type": "code",
   "execution_count": 159,
   "metadata": {},
   "outputs": [
    {
     "data": {
      "text/plain": [
       "{0, 1, 8, 27, 64, 125, 216, 343, 512, 729}"
      ]
     },
     "execution_count": 159,
     "metadata": {},
     "output_type": "execute_result"
    }
   ],
   "source": [
    "set(map(lambda x :  x **3, range(10)))"
   ]
  },
  {
   "cell_type": "markdown",
   "metadata": {},
   "source": [
    "## Python Data Science "
   ]
  },
  {
   "cell_type": "code",
   "execution_count": 165,
   "metadata": {},
   "outputs": [
    {
     "name": "stdout",
     "output_type": "stream",
     "text": [
      "16.0\n"
     ]
    }
   ],
   "source": [
    "#he process to calculate percentiles with NumPy\n",
    "import numpy as np\n",
    "arr = np.array([10,20,30,40])\n",
    "print(np.percentile(arr,20))"
   ]
  },
  {
   "cell_type": "code",
   "execution_count": 169,
   "metadata": {},
   "outputs": [
    {
     "name": "stdout",
     "output_type": "stream",
     "text": [
      "[]\n",
      "[[1.46135323e-311 6.23059726e-307]\n",
      " [1.33511018e-306 1.42419938e-306]]\n"
     ]
    }
   ],
   "source": [
    "## Create empty numpy\n",
    "ar1 = np.array([])\n",
    "print(ar1)\n",
    "ar2 = np.empty(shape = (2,2))\n",
    "print(ar2)"
   ]
  },
  {
   "cell_type": "markdown",
   "metadata": {},
   "source": [
    "## Write a regular expression that will accept an email id. Use the re module."
   ]
  },
  {
   "cell_type": "code",
   "execution_count": 175,
   "metadata": {},
   "outputs": [
    {
     "name": "stdout",
     "output_type": "stream",
     "text": [
      "abc@gmail.com\n"
     ]
    }
   ],
   "source": [
    "import re\n",
    "# apple105@gmail.com\n",
    "e=re.search(r'[0-9a-zA-Z.]+@[a-zA-Z]+\\.(com|co\\.in)$','abc@gmail.com')\n",
    "print(e.group())"
   ]
  },
  {
   "cell_type": "code",
   "execution_count": 180,
   "metadata": {},
   "outputs": [
    {
     "name": "stdout",
     "output_type": "stream",
     "text": [
      "['khan', 'is', 'here']\n",
      "khan is here\n"
     ]
    }
   ],
   "source": [
    "## Coner List into string\n",
    "l1 = ['khan','is','here']\n",
    "print(l1)\n",
    "str1 = ' '.join(l1)\n",
    "print(str1)"
   ]
  },
  {
   "cell_type": "code",
   "execution_count": 184,
   "metadata": {},
   "outputs": [
    {
     "data": {
      "text/plain": [
       "('khan', 'is', 'here')"
      ]
     },
     "execution_count": 184,
     "metadata": {},
     "output_type": "execute_result"
    }
   ],
   "source": [
    "## Convert list into tuple\n",
    "p1 = ['khan','is','here']\n",
    "tpl = tuple(p1)\n",
    "tpl"
   ]
  },
  {
   "cell_type": "code",
   "execution_count": 190,
   "metadata": {},
   "outputs": [
    {
     "name": "stdout",
     "output_type": "stream",
     "text": [
      "1\n",
      "2\n",
      "3\n",
      "4\n",
      "5\n"
     ]
    }
   ],
   "source": [
    "## Convert list into Set\n",
    "p1 = [1,2,3,4,5,2,3,4,1,]\n",
    "set1 = set(p1)\n",
    "for x in set1:\n",
    "    print(x)\n",
    "    "
   ]
  },
  {
   "cell_type": "code",
   "execution_count": 194,
   "metadata": {},
   "outputs": [
    {
     "name": "stdout",
     "output_type": "stream",
     "text": [
      "2\n"
     ]
    }
   ],
   "source": [
    "# How to count the occurrences of a particular element in the list?\n",
    "p1 = [1,2,3,4,5,2,3,4,1]\n",
    "print(p1.count(1))\n"
   ]
  },
  {
   "cell_type": "code",
   "execution_count": 197,
   "metadata": {},
   "outputs": [
    {
     "name": "stdout",
     "output_type": "stream",
     "text": [
      "e\n"
     ]
    }
   ],
   "source": [
    "name = ['taukir','khan','orange']\n",
    "print(name[-1][-1])"
   ]
  },
  {
   "cell_type": "markdown",
   "metadata": {},
   "source": [
    "## Enumerate() Function in Python"
   ]
  },
  {
   "cell_type": "code",
   "execution_count": 199,
   "metadata": {},
   "outputs": [
    {
     "name": "stdout",
     "output_type": "stream",
     "text": [
      "0\n",
      "math\n",
      "1\n",
      "science\n",
      "2\n",
      "urdu\n",
      "3\n",
      "english\n"
     ]
    }
   ],
   "source": [
    "subjects = ('math','science','urdu','english')\n",
    "for i,subject in enumerate(subjects):\n",
    "    print(i)\n",
    "    print(subject)"
   ]
  },
  {
   "cell_type": "code",
   "execution_count": 201,
   "metadata": {},
   "outputs": [
    {
     "data": {
      "text/plain": [
       "5050"
      ]
     },
     "execution_count": 201,
     "metadata": {},
     "output_type": "execute_result"
    }
   ],
   "source": [
    "##  How to print sum of the numbers starting from 1 to 100\n",
    "x1 = sum(range(1,101))\n",
    "x1"
   ]
  },
  {
   "cell_type": "code",
   "execution_count": null,
   "metadata": {},
   "outputs": [],
   "source": [
    "## Reference vs copy"
   ]
  },
  {
   "cell_type": "code",
   "execution_count": 214,
   "metadata": {},
   "outputs": [
    {
     "name": "stdout",
     "output_type": "stream",
     "text": [
      "['555555555', 'banan', 'tata']\n",
      "['555555555', 'banan', 'tata']\n"
     ]
    }
   ],
   "source": [
    "name1 = ['khan','banan','tata']\n",
    "name2 = name1 # Reference\n",
    "name2[0] = '555555555'\n",
    "print(name2)\n",
    "print(name1)"
   ]
  },
  {
   "cell_type": "code",
   "execution_count": 215,
   "metadata": {},
   "outputs": [
    {
     "name": "stdout",
     "output_type": "stream",
     "text": [
      "['555555555', 'banan', 'tata']\n",
      "['khan', 'banan', 'tata']\n"
     ]
    }
   ],
   "source": [
    "name1 = ['khan','banan','tata']\n",
    "name2 = name1.copy()\n",
    "name2[0] = '555555555'\n",
    "print(name2)\n",
    "print(name1)"
   ]
  }
 ],
 "metadata": {
  "kernelspec": {
   "display_name": "Python 3",
   "language": "python",
   "name": "python3"
  },
  "language_info": {
   "codemirror_mode": {
    "name": "ipython",
    "version": 3
   },
   "file_extension": ".py",
   "mimetype": "text/x-python",
   "name": "python",
   "nbconvert_exporter": "python",
   "pygments_lexer": "ipython3",
   "version": "3.7.3"
  }
 },
 "nbformat": 4,
 "nbformat_minor": 2
}
