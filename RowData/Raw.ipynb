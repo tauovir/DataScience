{
 "cells": [
  {
   "cell_type": "code",
   "execution_count": 46,
   "metadata": {},
   "outputs": [],
   "source": [
    "# Creating an array \n",
    "import numpy as np\n",
    "import pandas as pd\n"
   ]
  },
  {
   "cell_type": "code",
   "execution_count": 47,
   "metadata": {},
   "outputs": [
    {
     "name": "stdout",
     "output_type": "stream",
     "text": [
      "NUmpy version:1.16.2\n",
      "Pandas version:0.24.2\n"
     ]
    }
   ],
   "source": [
    "np_version = np.__version__\n",
    "pd_version = pd.__version__\n",
    "print(\"NUmpy version:{numpy}\".format(numpy = np_version))\n",
    "print(\"Pandas version:{panda}\".format(panda = pd_version))"
   ]
  },
  {
   "cell_type": "markdown",
   "metadata": {},
   "source": [
    "## Creating an array\n",
    "A list of numbers can be passed to the following array function to create a NumPy array object:"
   ]
  },
  {
   "cell_type": "code",
   "execution_count": 14,
   "metadata": {},
   "outputs": [
    {
     "name": "stdout",
     "output_type": "stream",
     "text": [
      "dimension: 2\n",
      "Shape: (3, 4)\n",
      "Size: 12\n",
      "Data type: int32\n"
     ]
    }
   ],
   "source": [
    "n_array = np.array([\n",
    "[0,1,2,3],\n",
    "[12,4,6,9],\n",
    "[8,4,6,77]\n",
    "]\n",
    ")\n",
    "print(\"dimension:\",n_array.ndim)\n",
    "print(\"Shape:\",n_array.shape)\n",
    "print(\"Size:\",n_array.size)\n",
    "print(\"Data type:\",n_array.dtype.name)"
   ]
  },
  {
   "cell_type": "markdown",
   "metadata": {},
   "source": [
    "# Mathematical operations \n",
    "When you have an array of data, you would like to perform certain mathematical operations on it"
   ]
  },
  {
   "cell_type": "code",
   "execution_count": 23,
   "metadata": {},
   "outputs": [
    {
     "name": "stdout",
     "output_type": "stream",
     "text": [
      "===========Subtarctor=============\n",
      "[10 10 10 10]\n",
      " array Sqaure\n",
      "[ 1  4  9 16]\n",
      "[ 0.54030231 -0.65364362 -0.91113026 -0.95765948]\n",
      "b_condition:\n",
      " [ True False False False]\n"
     ]
    }
   ],
   "source": [
    "a = np.array( [11, 12, 13, 14]) \n",
    "b = np.array( [ 1, 2, 3, 4]) \n",
    "c = a - b \n",
    "print(\"===========Subtarctor=============\")\n",
    "print(c)\n",
    "# Squaring an array \n",
    "b = b**2\n",
    "print(\" array Sqaure\")\n",
    "print(b)\n",
    "# A trigonometric function performed on the array \n",
    "print(np.cos(b))\n",
    "\n",
    "# Conditional operations \n",
    "b_cond = b < 2\n",
    "print(\"b_condition:\\n\",b_cond)"
   ]
  },
  {
   "cell_type": "code",
   "execution_count": 27,
   "metadata": {},
   "outputs": [
    {
     "name": "stdout",
     "output_type": "stream",
     "text": [
      "Simple Multiplication:\n",
      " [[2 0]\n",
      " [1 4]]\n",
      "Dot Product:\n",
      " [[4 4]\n",
      " [4 4]]\n"
     ]
    }
   ],
   "source": [
    "# Matrix multiplication\n",
    "a1 = np.array([[1,2],[1,2]])\n",
    "a2 = np.array([[2,0],[1,2]])\n",
    "mul = a1 * a2\n",
    "print(\"Simple Multiplication:\\n\",mul)\n",
    "dotProduct = np.dot(a1,a2)\n",
    "print(\"Dot Product:\\n\",dotProduct)"
   ]
  },
  {
   "cell_type": "markdown",
   "metadata": {},
   "source": [
    "## Indexing and slicing"
   ]
  },
  {
   "cell_type": "code",
   "execution_count": 38,
   "metadata": {},
   "outputs": [
    {
     "data": {
      "text/plain": [
       "array([1, 2, 3])"
      ]
     },
     "execution_count": 38,
     "metadata": {},
     "output_type": "execute_result"
    }
   ],
   "source": [
    "a1 = np.array([1,2,3,4,5,6,7,8])\n",
    "bb = a1[0:3]\n",
    "bb"
   ]
  },
  {
   "cell_type": "markdown",
   "metadata": {},
   "source": [
    "# Shape manipulation"
   ]
  },
  {
   "cell_type": "code",
   "execution_count": 45,
   "metadata": {},
   "outputs": [
    {
     "name": "stdout",
     "output_type": "stream",
     "text": [
      "Original Array:\n",
      " [[1 2 3]\n",
      " [5 6 7]]\n",
      "Flatten Array:\n",
      " [1 2 3 5 6 7]\n",
      "Shaped Array:\n",
      " [[1 2]\n",
      " [3 5]\n",
      " [6 7]]\n",
      "Transpose\n",
      " [[1 3 6]\n",
      " [2 5 7]]\n"
     ]
    }
   ],
   "source": [
    "array = np.array([[1,2,3],[5,6,7]])\n",
    "print(\"Original Array:\\n\",array)\n",
    "flatten =  array.ravel()  # Convert to one dimentinal array\n",
    "print(\"Flatten Array:\\n\",flatten)\n",
    "flatten.shape = (3,2)\n",
    "print(\"Shaped Array:\\n\",flatten)\n",
    "print(\"Transpose\\n\",flatten.transpose() )"
   ]
  },
  {
   "cell_type": "markdown",
   "metadata": {},
   "source": [
    "## Inserting and exporting data \n",
    "The data is stored in various forms, such as CSV, TSV, databases, and so on. The pandas library makes it convenient to read data from these formats or to export to these formats. "
   ]
  },
  {
   "cell_type": "code",
   "execution_count": 92,
   "metadata": {},
   "outputs": [],
   "source": [
    "dataFrame = pd.read_csv('data/studentRecord.csv')"
   ]
  },
  {
   "cell_type": "code",
   "execution_count": 51,
   "metadata": {},
   "outputs": [
    {
     "data": {
      "text/html": [
       "<div>\n",
       "<style scoped>\n",
       "    .dataframe tbody tr th:only-of-type {\n",
       "        vertical-align: middle;\n",
       "    }\n",
       "\n",
       "    .dataframe tbody tr th {\n",
       "        vertical-align: top;\n",
       "    }\n",
       "\n",
       "    .dataframe thead th {\n",
       "        text-align: right;\n",
       "    }\n",
       "</style>\n",
       "<table border=\"1\" class=\"dataframe\">\n",
       "  <thead>\n",
       "    <tr style=\"text-align: right;\">\n",
       "      <th></th>\n",
       "      <th>Location Code</th>\n",
       "      <th>County</th>\n",
       "      <th>Area Name</th>\n",
       "      <th>Region</th>\n",
       "      <th>School Years</th>\n",
       "      <th>Number Overweight</th>\n",
       "      <th>Percent Overweight</th>\n",
       "      <th>Number Obese</th>\n",
       "      <th>Percent Obese</th>\n",
       "      <th>Number Overweight or Obese</th>\n",
       "      <th>Percent Overweight or Obese</th>\n",
       "      <th>Grade Level</th>\n",
       "      <th>Area Type</th>\n",
       "      <th>Street Address</th>\n",
       "      <th>City</th>\n",
       "      <th>State</th>\n",
       "      <th>Zip Code</th>\n",
       "      <th>Location 1</th>\n",
       "    </tr>\n",
       "  </thead>\n",
       "  <tbody>\n",
       "    <tr>\n",
       "      <th>0</th>\n",
       "      <td>600000</td>\n",
       "      <td>NaN</td>\n",
       "      <td>NORTHEASTERN NEW YORK</td>\n",
       "      <td>NORTHEASTERN NEW YORK</td>\n",
       "      <td>2016-2018</td>\n",
       "      <td>10355.0</td>\n",
       "      <td>16.5</td>\n",
       "      <td>11052.0</td>\n",
       "      <td>17.6</td>\n",
       "      <td>21407.0</td>\n",
       "      <td>34.2</td>\n",
       "      <td>DISTRICT TOTAL</td>\n",
       "      <td>REGION</td>\n",
       "      <td>NaN</td>\n",
       "      <td>NaN</td>\n",
       "      <td>NaN</td>\n",
       "      <td>NaN</td>\n",
       "      <td>NaN</td>\n",
       "    </tr>\n",
       "    <tr>\n",
       "      <th>1</th>\n",
       "      <td>15</td>\n",
       "      <td>ESSEX</td>\n",
       "      <td>ESSEX</td>\n",
       "      <td>NORTHEASTERN NEW YORK</td>\n",
       "      <td>2010-2012</td>\n",
       "      <td>78.0</td>\n",
       "      <td>16.3</td>\n",
       "      <td>89.0</td>\n",
       "      <td>18.6</td>\n",
       "      <td>167.0</td>\n",
       "      <td>34.9</td>\n",
       "      <td>MIDDLE/HIGH</td>\n",
       "      <td>COUNTY</td>\n",
       "      <td>NaN</td>\n",
       "      <td>NaN</td>\n",
       "      <td>NaN</td>\n",
       "      <td>NaN</td>\n",
       "      <td>NaN</td>\n",
       "    </tr>\n",
       "    <tr>\n",
       "      <th>2</th>\n",
       "      <td>48</td>\n",
       "      <td>PUTNAM</td>\n",
       "      <td>PUTNAM</td>\n",
       "      <td>HUDSON VALLEY</td>\n",
       "      <td>2014-2016</td>\n",
       "      <td>697.0</td>\n",
       "      <td>16.3</td>\n",
       "      <td>646.0</td>\n",
       "      <td>15.1</td>\n",
       "      <td>1343.0</td>\n",
       "      <td>31.4</td>\n",
       "      <td>DISTRICT TOTAL</td>\n",
       "      <td>COUNTY</td>\n",
       "      <td>NaN</td>\n",
       "      <td>NaN</td>\n",
       "      <td>NaN</td>\n",
       "      <td>NaN</td>\n",
       "      <td>NaN</td>\n",
       "    </tr>\n",
       "    <tr>\n",
       "      <th>3</th>\n",
       "      <td>120501</td>\n",
       "      <td>DELAWARE</td>\n",
       "      <td>DELAWARE ACADEMY CENTRAL SCHOOL DISTRICT AT DELHI</td>\n",
       "      <td>NORTHEASTERN NEW YORK</td>\n",
       "      <td>2012-2014</td>\n",
       "      <td>38.0</td>\n",
       "      <td>15.3</td>\n",
       "      <td>33.0</td>\n",
       "      <td>13.3</td>\n",
       "      <td>71.0</td>\n",
       "      <td>28.5</td>\n",
       "      <td>DISTRICT TOTAL</td>\n",
       "      <td>SCHOOL DISTRICT</td>\n",
       "      <td>2 SHELDON DR</td>\n",
       "      <td>DELHI</td>\n",
       "      <td>NY</td>\n",
       "      <td>13753.0</td>\n",
       "      <td>(42.2737, -74.916)</td>\n",
       "    </tr>\n",
       "    <tr>\n",
       "      <th>4</th>\n",
       "      <td>660805</td>\n",
       "      <td>WESTCHESTER</td>\n",
       "      <td>VALHALLA UNION FREE SCHOOL DISTRICT</td>\n",
       "      <td>HUDSON VALLEY</td>\n",
       "      <td>2016-2018</td>\n",
       "      <td>85.0</td>\n",
       "      <td>15.7</td>\n",
       "      <td>70.0</td>\n",
       "      <td>12.9</td>\n",
       "      <td>155.0</td>\n",
       "      <td>28.7</td>\n",
       "      <td>DISTRICT TOTAL</td>\n",
       "      <td>SCHOOL DISTRICT</td>\n",
       "      <td>316 COLUMBUS AVE</td>\n",
       "      <td>VALHALLA</td>\n",
       "      <td>NY</td>\n",
       "      <td>10595.0</td>\n",
       "      <td>(41.0927, -73.778)</td>\n",
       "    </tr>\n",
       "  </tbody>\n",
       "</table>\n",
       "</div>"
      ],
      "text/plain": [
       "   Location Code       County  \\\n",
       "0         600000          NaN   \n",
       "1             15        ESSEX   \n",
       "2             48       PUTNAM   \n",
       "3         120501     DELAWARE   \n",
       "4         660805  WESTCHESTER   \n",
       "\n",
       "                                           Area Name                 Region  \\\n",
       "0                              NORTHEASTERN NEW YORK  NORTHEASTERN NEW YORK   \n",
       "1                                              ESSEX  NORTHEASTERN NEW YORK   \n",
       "2                                             PUTNAM          HUDSON VALLEY   \n",
       "3  DELAWARE ACADEMY CENTRAL SCHOOL DISTRICT AT DELHI  NORTHEASTERN NEW YORK   \n",
       "4                VALHALLA UNION FREE SCHOOL DISTRICT          HUDSON VALLEY   \n",
       "\n",
       "  School Years  Number Overweight  Percent Overweight  Number Obese  \\\n",
       "0    2016-2018            10355.0                16.5       11052.0   \n",
       "1    2010-2012               78.0                16.3          89.0   \n",
       "2    2014-2016              697.0                16.3         646.0   \n",
       "3    2012-2014               38.0                15.3          33.0   \n",
       "4    2016-2018               85.0                15.7          70.0   \n",
       "\n",
       "   Percent Obese  Number Overweight or Obese  Percent Overweight or Obese  \\\n",
       "0           17.6                     21407.0                         34.2   \n",
       "1           18.6                       167.0                         34.9   \n",
       "2           15.1                      1343.0                         31.4   \n",
       "3           13.3                        71.0                         28.5   \n",
       "4           12.9                       155.0                         28.7   \n",
       "\n",
       "      Grade Level        Area Type    Street Address      City State  \\\n",
       "0  DISTRICT TOTAL           REGION               NaN       NaN   NaN   \n",
       "1     MIDDLE/HIGH           COUNTY               NaN       NaN   NaN   \n",
       "2  DISTRICT TOTAL           COUNTY               NaN       NaN   NaN   \n",
       "3  DISTRICT TOTAL  SCHOOL DISTRICT      2 SHELDON DR     DELHI    NY   \n",
       "4  DISTRICT TOTAL  SCHOOL DISTRICT  316 COLUMBUS AVE  VALHALLA    NY   \n",
       "\n",
       "   Zip Code          Location 1  \n",
       "0       NaN                 NaN  \n",
       "1       NaN                 NaN  \n",
       "2       NaN                 NaN  \n",
       "3   13753.0  (42.2737, -74.916)  \n",
       "4   10595.0  (41.0927, -73.778)  "
      ]
     },
     "execution_count": 51,
     "metadata": {},
     "output_type": "execute_result"
    }
   ],
   "source": [
    "dataFrame.head(5)"
   ]
  },
  {
   "cell_type": "code",
   "execution_count": 53,
   "metadata": {},
   "outputs": [
    {
     "data": {
      "text/plain": [
       "Index(['Location Code', 'County', 'Area Name', 'Region', 'School Years',\n",
       "       'Number Overweight', 'Percent Overweight', 'Number Obese',\n",
       "       'Percent Obese', 'Number Overweight or Obese',\n",
       "       'Percent Overweight or Obese', 'Grade Level', 'Area Type',\n",
       "       'Street Address', 'City', 'State', 'Zip Code', 'Location 1'],\n",
       "      dtype='object')"
      ]
     },
     "execution_count": 53,
     "metadata": {},
     "output_type": "execute_result"
    }
   ],
   "source": [
    "dataFrame.columns"
   ]
  },
  {
   "cell_type": "code",
   "execution_count": 55,
   "metadata": {},
   "outputs": [
    {
     "data": {
      "text/plain": [
       "0                                NORTHEASTERN NEW YORK\n",
       "1                                                ESSEX\n",
       "2                                               PUTNAM\n",
       "3    DELAWARE ACADEMY CENTRAL SCHOOL DISTRICT AT DELHI\n",
       "4                  VALHALLA UNION FREE SCHOOL DISTRICT\n",
       "Name: Area Name, dtype: object"
      ]
     },
     "execution_count": 55,
     "metadata": {},
     "output_type": "execute_result"
    }
   ],
   "source": [
    "dataFrame[0:5]['Area Name']"
   ]
  },
  {
   "cell_type": "code",
   "execution_count": 56,
   "metadata": {},
   "outputs": [],
   "source": [
    "## Writing Data\n",
    "data = {\n",
    "    'Name' : ['Khan','Banana','Kumar','Nazim'],\n",
    "    'Age' : [25,23,45,67],\n",
    "    'Salary' : [25000,23000,60000,90000],\n",
    "    'City' : ['Meerut','Kanpur','Delhi','Punjab'],    \n",
    "}\n",
    "dataset = pd.DataFrame(data)"
   ]
  },
  {
   "cell_type": "code",
   "execution_count": 58,
   "metadata": {},
   "outputs": [
    {
     "data": {
      "text/html": [
       "<div>\n",
       "<style scoped>\n",
       "    .dataframe tbody tr th:only-of-type {\n",
       "        vertical-align: middle;\n",
       "    }\n",
       "\n",
       "    .dataframe tbody tr th {\n",
       "        vertical-align: top;\n",
       "    }\n",
       "\n",
       "    .dataframe thead th {\n",
       "        text-align: right;\n",
       "    }\n",
       "</style>\n",
       "<table border=\"1\" class=\"dataframe\">\n",
       "  <thead>\n",
       "    <tr style=\"text-align: right;\">\n",
       "      <th></th>\n",
       "      <th>Name</th>\n",
       "      <th>Age</th>\n",
       "      <th>Salary</th>\n",
       "      <th>City</th>\n",
       "    </tr>\n",
       "  </thead>\n",
       "  <tbody>\n",
       "    <tr>\n",
       "      <th>0</th>\n",
       "      <td>Khan</td>\n",
       "      <td>25</td>\n",
       "      <td>25000</td>\n",
       "      <td>Meerut</td>\n",
       "    </tr>\n",
       "    <tr>\n",
       "      <th>1</th>\n",
       "      <td>Banana</td>\n",
       "      <td>23</td>\n",
       "      <td>23000</td>\n",
       "      <td>Kanpur</td>\n",
       "    </tr>\n",
       "    <tr>\n",
       "      <th>2</th>\n",
       "      <td>Kumar</td>\n",
       "      <td>45</td>\n",
       "      <td>60000</td>\n",
       "      <td>Delhi</td>\n",
       "    </tr>\n",
       "    <tr>\n",
       "      <th>3</th>\n",
       "      <td>Nazim</td>\n",
       "      <td>67</td>\n",
       "      <td>90000</td>\n",
       "      <td>Punjab</td>\n",
       "    </tr>\n",
       "  </tbody>\n",
       "</table>\n",
       "</div>"
      ],
      "text/plain": [
       "     Name  Age  Salary    City\n",
       "0    Khan   25   25000  Meerut\n",
       "1  Banana   23   23000  Kanpur\n",
       "2   Kumar   45   60000   Delhi\n",
       "3   Nazim   67   90000  Punjab"
      ]
     },
     "execution_count": 58,
     "metadata": {},
     "output_type": "execute_result"
    }
   ],
   "source": [
    "dataset.head()"
   ]
  },
  {
   "cell_type": "code",
   "execution_count": 61,
   "metadata": {},
   "outputs": [],
   "source": [
    "dataset.to_csv('data/createdCsv.csv')"
   ]
  },
  {
   "cell_type": "code",
   "execution_count": 60,
   "metadata": {},
   "outputs": [],
   "source": [
    "dataset.to_excel('data/createdexcel.xls')\n"
   ]
  },
  {
   "cell_type": "code",
   "execution_count": 65,
   "metadata": {},
   "outputs": [],
   "source": [
    "dataset.to_json('data/createdjson.json')"
   ]
  },
  {
   "cell_type": "markdown",
   "metadata": {},
   "source": [
    "## JSON \n",
    "To read the data from a JSON file, Python's standard json package can be used"
   ]
  },
  {
   "cell_type": "code",
   "execution_count": 66,
   "metadata": {},
   "outputs": [],
   "source": [
    "import json\n",
    "jsonData = open('data/createdjson.json')\n",
    "data = json.load(jsonData)\n",
    "jsonData.close()"
   ]
  },
  {
   "cell_type": "code",
   "execution_count": 75,
   "metadata": {},
   "outputs": [
    {
     "data": {
      "text/plain": [
       "{'Name': {'0': 'Khan', '1': 'Banana', '2': 'Kumar', '3': 'Nazim'},\n",
       " 'Age': {'0': 25, '1': 23, '2': 45, '3': 67},\n",
       " 'Salary': {'0': 25000, '1': 23000, '2': 60000, '3': 90000},\n",
       " 'City': {'0': 'Meerut', '1': 'Kanpur', '2': 'Delhi', '3': 'Punjab'}}"
      ]
     },
     "execution_count": 75,
     "metadata": {},
     "output_type": "execute_result"
    }
   ],
   "source": [
    "data"
   ]
  },
  {
   "cell_type": "code",
   "execution_count": 70,
   "metadata": {},
   "outputs": [],
   "source": [
    "## Using Pandas\n",
    "dataFrame1 = pd.read_json('data/createdjson.json')"
   ]
  },
  {
   "cell_type": "code",
   "execution_count": 76,
   "metadata": {},
   "outputs": [
    {
     "data": {
      "text/html": [
       "<div>\n",
       "<style scoped>\n",
       "    .dataframe tbody tr th:only-of-type {\n",
       "        vertical-align: middle;\n",
       "    }\n",
       "\n",
       "    .dataframe tbody tr th {\n",
       "        vertical-align: top;\n",
       "    }\n",
       "\n",
       "    .dataframe thead th {\n",
       "        text-align: right;\n",
       "    }\n",
       "</style>\n",
       "<table border=\"1\" class=\"dataframe\">\n",
       "  <thead>\n",
       "    <tr style=\"text-align: right;\">\n",
       "      <th></th>\n",
       "      <th>Name</th>\n",
       "      <th>Age</th>\n",
       "      <th>Salary</th>\n",
       "      <th>City</th>\n",
       "    </tr>\n",
       "  </thead>\n",
       "  <tbody>\n",
       "    <tr>\n",
       "      <th>0</th>\n",
       "      <td>Khan</td>\n",
       "      <td>25</td>\n",
       "      <td>25000</td>\n",
       "      <td>Meerut</td>\n",
       "    </tr>\n",
       "    <tr>\n",
       "      <th>1</th>\n",
       "      <td>Banana</td>\n",
       "      <td>23</td>\n",
       "      <td>23000</td>\n",
       "      <td>Kanpur</td>\n",
       "    </tr>\n",
       "    <tr>\n",
       "      <th>2</th>\n",
       "      <td>Kumar</td>\n",
       "      <td>45</td>\n",
       "      <td>60000</td>\n",
       "      <td>Delhi</td>\n",
       "    </tr>\n",
       "    <tr>\n",
       "      <th>3</th>\n",
       "      <td>Nazim</td>\n",
       "      <td>67</td>\n",
       "      <td>90000</td>\n",
       "      <td>Punjab</td>\n",
       "    </tr>\n",
       "  </tbody>\n",
       "</table>\n",
       "</div>"
      ],
      "text/plain": [
       "     Name  Age  Salary    City\n",
       "0    Khan   25   25000  Meerut\n",
       "1  Banana   23   23000  Kanpur\n",
       "2   Kumar   45   60000   Delhi\n",
       "3   Nazim   67   90000  Punjab"
      ]
     },
     "execution_count": 76,
     "metadata": {},
     "output_type": "execute_result"
    }
   ],
   "source": [
    "dataFrame1.head()"
   ]
  },
  {
   "cell_type": "code",
   "execution_count": 93,
   "metadata": {},
   "outputs": [
    {
     "data": {
      "text/plain": [
       "Index(['Location Code', 'County', 'Area Name', 'Region', 'School Years',\n",
       "       'Number Overweight', 'Percent Overweight', 'Number Obese',\n",
       "       'Percent Obese', 'Number Overweight or Obese',\n",
       "       'Percent Overweight or Obese', 'Grade Level', 'Area Type',\n",
       "       'Street Address', 'City', 'State', 'Zip Code', 'Location 1'],\n",
       "      dtype='object')"
      ]
     },
     "execution_count": 93,
     "metadata": {},
     "output_type": "execute_result"
    }
   ],
   "source": [
    "## Data cleansing\n",
    "dataFrame.columns"
   ]
  },
  {
   "cell_type": "code",
   "execution_count": 94,
   "metadata": {},
   "outputs": [
    {
     "data": {
      "text/plain": [
       "780"
      ]
     },
     "execution_count": 94,
     "metadata": {},
     "output_type": "execute_result"
    }
   ],
   "source": [
    "dataFrame['City'].isnull().sum()"
   ]
  },
  {
   "cell_type": "code",
   "execution_count": 95,
   "metadata": {},
   "outputs": [
    {
     "data": {
      "text/plain": [
       "False    8142\n",
       "True      780\n",
       "Name: City, dtype: int64"
      ]
     },
     "execution_count": 95,
     "metadata": {},
     "output_type": "execute_result"
    }
   ],
   "source": [
    "dataFrame['City'].isnull().value_counts()"
   ]
  },
  {
   "cell_type": "code",
   "execution_count": 96,
   "metadata": {},
   "outputs": [
    {
     "data": {
      "text/plain": [
       "Location Code                    0\n",
       "County                          84\n",
       "Area Name                        0\n",
       "Region                           0\n",
       "School Years                     0\n",
       "Number Overweight              574\n",
       "Percent Overweight             574\n",
       "Number Obese                   570\n",
       "Percent Obese                  569\n",
       "Number Overweight or Obese     716\n",
       "Percent Overweight or Obese    716\n",
       "Grade Level                      0\n",
       "Area Type                        0\n",
       "Street Address                 780\n",
       "City                           780\n",
       "State                          799\n",
       "Zip Code                       780\n",
       "Location 1                     781\n",
       "dtype: int64"
      ]
     },
     "execution_count": 96,
     "metadata": {},
     "output_type": "execute_result"
    }
   ],
   "source": [
    "dataFrame.isnull().sum()"
   ]
  },
  {
   "cell_type": "code",
   "execution_count": 99,
   "metadata": {},
   "outputs": [],
   "source": [
    "dataFrame['City'].dropna(how = 'any', inplace = True)"
   ]
  },
  {
   "cell_type": "code",
   "execution_count": 105,
   "metadata": {},
   "outputs": [
    {
     "data": {
      "text/plain": [
       "False    8142\n",
       "Name: City, dtype: int64"
      ]
     },
     "execution_count": 105,
     "metadata": {},
     "output_type": "execute_result"
    }
   ],
   "source": [
    "dataFrame['City'].isnull().value_counts()"
   ]
  },
  {
   "cell_type": "markdown",
   "metadata": {},
   "source": [
    "# Filling the missing data "
   ]
  },
  {
   "cell_type": "code",
   "execution_count": 109,
   "metadata": {},
   "outputs": [
    {
     "data": {
      "text/plain": [
       "Location Code                    0\n",
       "County                          84\n",
       "Area Name                        0\n",
       "Region                           0\n",
       "School Years                     0\n",
       "Number Overweight              574\n",
       "Percent Overweight             574\n",
       "Number Obese                   570\n",
       "Percent Obese                  569\n",
       "Number Overweight or Obese     716\n",
       "Percent Overweight or Obese    716\n",
       "Grade Level                      0\n",
       "Area Type                        0\n",
       "Street Address                 780\n",
       "City                           780\n",
       "State                          799\n",
       "Zip Code                       780\n",
       "Location 1                     781\n",
       "dtype: int64"
      ]
     },
     "execution_count": 109,
     "metadata": {},
     "output_type": "execute_result"
    }
   ],
   "source": [
    "dataFrame.isnull().sum()"
   ]
  },
  {
   "cell_type": "code",
   "execution_count": 111,
   "metadata": {},
   "outputs": [
    {
     "data": {
      "text/plain": [
       "False    8348\n",
       "True      574\n",
       "Name: Number Overweight, dtype: int64"
      ]
     },
     "execution_count": 111,
     "metadata": {},
     "output_type": "execute_result"
    }
   ],
   "source": [
    "dataFrame['Number Overweight'].isnull().value_counts()"
   ]
  },
  {
   "cell_type": "code",
   "execution_count": 114,
   "metadata": {},
   "outputs": [],
   "source": [
    "dataFrame['Number Overweight'].fillna(dataFrame['Number Overweight'].mean(),inplace = True)\n",
    " \n",
    " "
   ]
  },
  {
   "cell_type": "code",
   "execution_count": 116,
   "metadata": {},
   "outputs": [
    {
     "data": {
      "text/plain": [
       "False    8922\n",
       "Name: Number Overweight, dtype: int64"
      ]
     },
     "execution_count": 116,
     "metadata": {},
     "output_type": "execute_result"
    }
   ],
   "source": [
    "dataFrame['Number Overweight'].isnull().value_counts()"
   ]
  },
  {
   "cell_type": "code",
   "execution_count": 150,
   "metadata": {},
   "outputs": [],
   "source": [
    "import math\n",
    "data1 = {\n",
    "    'Name' : ['Khan','Banana','Kumar','Nazim'],\n",
    "    'Age' : [25,23,45,67],\n",
    "    'Salary' : [25000,23000,math.nan,90000],\n",
    "    'City' : ['Meerut','Kanpur',math.nan,'Punjab'],    \n",
    "}\n",
    "dataset1 = pd.DataFrame(data1)"
   ]
  },
  {
   "cell_type": "code",
   "execution_count": 151,
   "metadata": {},
   "outputs": [
    {
     "data": {
      "text/html": [
       "<div>\n",
       "<style scoped>\n",
       "    .dataframe tbody tr th:only-of-type {\n",
       "        vertical-align: middle;\n",
       "    }\n",
       "\n",
       "    .dataframe tbody tr th {\n",
       "        vertical-align: top;\n",
       "    }\n",
       "\n",
       "    .dataframe thead th {\n",
       "        text-align: right;\n",
       "    }\n",
       "</style>\n",
       "<table border=\"1\" class=\"dataframe\">\n",
       "  <thead>\n",
       "    <tr style=\"text-align: right;\">\n",
       "      <th></th>\n",
       "      <th>Name</th>\n",
       "      <th>Age</th>\n",
       "      <th>Salary</th>\n",
       "      <th>City</th>\n",
       "    </tr>\n",
       "  </thead>\n",
       "  <tbody>\n",
       "    <tr>\n",
       "      <th>0</th>\n",
       "      <td>Khan</td>\n",
       "      <td>25</td>\n",
       "      <td>25000.0</td>\n",
       "      <td>Meerut</td>\n",
       "    </tr>\n",
       "    <tr>\n",
       "      <th>1</th>\n",
       "      <td>Banana</td>\n",
       "      <td>23</td>\n",
       "      <td>23000.0</td>\n",
       "      <td>Kanpur</td>\n",
       "    </tr>\n",
       "    <tr>\n",
       "      <th>2</th>\n",
       "      <td>Kumar</td>\n",
       "      <td>45</td>\n",
       "      <td>NaN</td>\n",
       "      <td>NaN</td>\n",
       "    </tr>\n",
       "    <tr>\n",
       "      <th>3</th>\n",
       "      <td>Nazim</td>\n",
       "      <td>67</td>\n",
       "      <td>90000.0</td>\n",
       "      <td>Punjab</td>\n",
       "    </tr>\n",
       "  </tbody>\n",
       "</table>\n",
       "</div>"
      ],
      "text/plain": [
       "     Name  Age   Salary    City\n",
       "0    Khan   25  25000.0  Meerut\n",
       "1  Banana   23  23000.0  Kanpur\n",
       "2   Kumar   45      NaN     NaN\n",
       "3   Nazim   67  90000.0  Punjab"
      ]
     },
     "execution_count": 151,
     "metadata": {},
     "output_type": "execute_result"
    }
   ],
   "source": [
    "dataset1.head()"
   ]
  },
  {
   "cell_type": "code",
   "execution_count": 154,
   "metadata": {},
   "outputs": [],
   "source": [
    "#dataset1['Salary'].fillna(method = 'backfill', inplace = True ) # method 'backfill', 'bfill', 'pad', 'ffill',\n",
    "dataset1['City'].fillna(method = 'backfill', inplace = True ) # method 'backfill', 'bfill', 'pad', 'ffill',"
   ]
  },
  {
   "cell_type": "code",
   "execution_count": 156,
   "metadata": {},
   "outputs": [
    {
     "data": {
      "text/html": [
       "<div>\n",
       "<style scoped>\n",
       "    .dataframe tbody tr th:only-of-type {\n",
       "        vertical-align: middle;\n",
       "    }\n",
       "\n",
       "    .dataframe tbody tr th {\n",
       "        vertical-align: top;\n",
       "    }\n",
       "\n",
       "    .dataframe thead th {\n",
       "        text-align: right;\n",
       "    }\n",
       "</style>\n",
       "<table border=\"1\" class=\"dataframe\">\n",
       "  <thead>\n",
       "    <tr style=\"text-align: right;\">\n",
       "      <th></th>\n",
       "      <th>Name</th>\n",
       "      <th>Age</th>\n",
       "      <th>Salary</th>\n",
       "      <th>City</th>\n",
       "    </tr>\n",
       "  </thead>\n",
       "  <tbody>\n",
       "    <tr>\n",
       "      <th>0</th>\n",
       "      <td>Khan</td>\n",
       "      <td>25</td>\n",
       "      <td>25000.0</td>\n",
       "      <td>Meerut</td>\n",
       "    </tr>\n",
       "    <tr>\n",
       "      <th>1</th>\n",
       "      <td>Banana</td>\n",
       "      <td>23</td>\n",
       "      <td>23000.0</td>\n",
       "      <td>Kanpur</td>\n",
       "    </tr>\n",
       "    <tr>\n",
       "      <th>2</th>\n",
       "      <td>Kumar</td>\n",
       "      <td>45</td>\n",
       "      <td>90000.0</td>\n",
       "      <td>Punjab</td>\n",
       "    </tr>\n",
       "    <tr>\n",
       "      <th>3</th>\n",
       "      <td>Nazim</td>\n",
       "      <td>67</td>\n",
       "      <td>90000.0</td>\n",
       "      <td>Punjab</td>\n",
       "    </tr>\n",
       "  </tbody>\n",
       "</table>\n",
       "</div>"
      ],
      "text/plain": [
       "     Name  Age   Salary    City\n",
       "0    Khan   25  25000.0  Meerut\n",
       "1  Banana   23  23000.0  Kanpur\n",
       "2   Kumar   45  90000.0  Punjab\n",
       "3   Nazim   67  90000.0  Punjab"
      ]
     },
     "execution_count": 156,
     "metadata": {},
     "output_type": "execute_result"
    }
   ],
   "source": [
    "dataset1.head()"
   ]
  },
  {
   "cell_type": "code",
   "execution_count": 162,
   "metadata": {},
   "outputs": [
    {
     "data": {
      "text/plain": [
       "0    Mee\n",
       "1    Kan\n",
       "2    Pun\n",
       "3    Pun\n",
       "Name: City, dtype: object"
      ]
     },
     "execution_count": 162,
     "metadata": {},
     "output_type": "execute_result"
    }
   ],
   "source": [
    "dataset1['City'].str[0:3]"
   ]
  },
  {
   "cell_type": "markdown",
   "metadata": {},
   "source": [
    "## Merging Data"
   ]
  },
  {
   "cell_type": "code",
   "execution_count": 165,
   "metadata": {},
   "outputs": [
    {
     "data": {
      "text/html": [
       "<div>\n",
       "<style scoped>\n",
       "    .dataframe tbody tr th:only-of-type {\n",
       "        vertical-align: middle;\n",
       "    }\n",
       "\n",
       "    .dataframe tbody tr th {\n",
       "        vertical-align: top;\n",
       "    }\n",
       "\n",
       "    .dataframe thead th {\n",
       "        text-align: right;\n",
       "    }\n",
       "</style>\n",
       "<table border=\"1\" class=\"dataframe\">\n",
       "  <thead>\n",
       "    <tr style=\"text-align: right;\">\n",
       "      <th></th>\n",
       "      <th>Name</th>\n",
       "      <th>Salary</th>\n",
       "    </tr>\n",
       "  </thead>\n",
       "  <tbody>\n",
       "    <tr>\n",
       "      <th>0</th>\n",
       "      <td>Khan</td>\n",
       "      <td>25000.0</td>\n",
       "    </tr>\n",
       "    <tr>\n",
       "      <th>1</th>\n",
       "      <td>Banana</td>\n",
       "      <td>23000.0</td>\n",
       "    </tr>\n",
       "    <tr>\n",
       "      <th>2</th>\n",
       "      <td>Kumar</td>\n",
       "      <td>90000.0</td>\n",
       "    </tr>\n",
       "  </tbody>\n",
       "</table>\n",
       "</div>"
      ],
      "text/plain": [
       "     Name   Salary\n",
       "0    Khan  25000.0\n",
       "1  Banana  23000.0\n",
       "2   Kumar  90000.0"
      ]
     },
     "execution_count": 165,
     "metadata": {},
     "output_type": "execute_result"
    }
   ],
   "source": [
    "dataset1[['Name','Salary']][0:3]"
   ]
  },
  {
   "cell_type": "code",
   "execution_count": 167,
   "metadata": {},
   "outputs": [
    {
     "data": {
      "text/html": [
       "<div>\n",
       "<style scoped>\n",
       "    .dataframe tbody tr th:only-of-type {\n",
       "        vertical-align: middle;\n",
       "    }\n",
       "\n",
       "    .dataframe tbody tr th {\n",
       "        vertical-align: top;\n",
       "    }\n",
       "\n",
       "    .dataframe thead th {\n",
       "        text-align: right;\n",
       "    }\n",
       "</style>\n",
       "<table border=\"1\" class=\"dataframe\">\n",
       "  <thead>\n",
       "    <tr style=\"text-align: right;\">\n",
       "      <th></th>\n",
       "      <th>Name</th>\n",
       "      <th>Salary</th>\n",
       "    </tr>\n",
       "  </thead>\n",
       "  <tbody>\n",
       "    <tr>\n",
       "      <th>0</th>\n",
       "      <td>Khan</td>\n",
       "      <td>25000.0</td>\n",
       "    </tr>\n",
       "    <tr>\n",
       "      <th>1</th>\n",
       "      <td>Banana</td>\n",
       "      <td>23000.0</td>\n",
       "    </tr>\n",
       "  </tbody>\n",
       "</table>\n",
       "</div>"
      ],
      "text/plain": [
       "     Name   Salary\n",
       "0    Khan  25000.0\n",
       "1  Banana  23000.0"
      ]
     },
     "execution_count": 167,
     "metadata": {},
     "output_type": "execute_result"
    }
   ],
   "source": [
    "d1 = dataset1[['Name','Salary']][0:2]\n",
    "d1"
   ]
  },
  {
   "cell_type": "code",
   "execution_count": 169,
   "metadata": {},
   "outputs": [
    {
     "data": {
      "text/html": [
       "<div>\n",
       "<style scoped>\n",
       "    .dataframe tbody tr th:only-of-type {\n",
       "        vertical-align: middle;\n",
       "    }\n",
       "\n",
       "    .dataframe tbody tr th {\n",
       "        vertical-align: top;\n",
       "    }\n",
       "\n",
       "    .dataframe thead th {\n",
       "        text-align: right;\n",
       "    }\n",
       "</style>\n",
       "<table border=\"1\" class=\"dataframe\">\n",
       "  <thead>\n",
       "    <tr style=\"text-align: right;\">\n",
       "      <th></th>\n",
       "      <th>Name</th>\n",
       "      <th>Salary</th>\n",
       "    </tr>\n",
       "  </thead>\n",
       "  <tbody>\n",
       "    <tr>\n",
       "      <th>2</th>\n",
       "      <td>Kumar</td>\n",
       "      <td>90000.0</td>\n",
       "    </tr>\n",
       "    <tr>\n",
       "      <th>3</th>\n",
       "      <td>Nazim</td>\n",
       "      <td>90000.0</td>\n",
       "    </tr>\n",
       "  </tbody>\n",
       "</table>\n",
       "</div>"
      ],
      "text/plain": [
       "    Name   Salary\n",
       "2  Kumar  90000.0\n",
       "3  Nazim  90000.0"
      ]
     },
     "execution_count": 169,
     "metadata": {},
     "output_type": "execute_result"
    }
   ],
   "source": [
    "d2 = dataset1[['Name','Salary']][2:4]\n",
    "d2"
   ]
  },
  {
   "cell_type": "code",
   "execution_count": 176,
   "metadata": {},
   "outputs": [],
   "source": [
    "concatData = pd.concat([d2,d1])"
   ]
  },
  {
   "cell_type": "code",
   "execution_count": 173,
   "metadata": {},
   "outputs": [
    {
     "data": {
      "text/html": [
       "<div>\n",
       "<style scoped>\n",
       "    .dataframe tbody tr th:only-of-type {\n",
       "        vertical-align: middle;\n",
       "    }\n",
       "\n",
       "    .dataframe tbody tr th {\n",
       "        vertical-align: top;\n",
       "    }\n",
       "\n",
       "    .dataframe thead th {\n",
       "        text-align: right;\n",
       "    }\n",
       "</style>\n",
       "<table border=\"1\" class=\"dataframe\">\n",
       "  <thead>\n",
       "    <tr style=\"text-align: right;\">\n",
       "      <th></th>\n",
       "      <th>Name</th>\n",
       "      <th>Salary</th>\n",
       "    </tr>\n",
       "  </thead>\n",
       "  <tbody>\n",
       "    <tr>\n",
       "      <th>2</th>\n",
       "      <td>Kumar</td>\n",
       "      <td>90000.0</td>\n",
       "    </tr>\n",
       "    <tr>\n",
       "      <th>3</th>\n",
       "      <td>Nazim</td>\n",
       "      <td>90000.0</td>\n",
       "    </tr>\n",
       "    <tr>\n",
       "      <th>0</th>\n",
       "      <td>Khan</td>\n",
       "      <td>25000.0</td>\n",
       "    </tr>\n",
       "    <tr>\n",
       "      <th>1</th>\n",
       "      <td>Banana</td>\n",
       "      <td>23000.0</td>\n",
       "    </tr>\n",
       "  </tbody>\n",
       "</table>\n",
       "</div>"
      ],
      "text/plain": [
       "     Name   Salary\n",
       "2   Kumar  90000.0\n",
       "3   Nazim  90000.0\n",
       "0    Khan  25000.0\n",
       "1  Banana  23000.0"
      ]
     },
     "execution_count": 173,
     "metadata": {},
     "output_type": "execute_result"
    }
   ],
   "source": [
    "concatData"
   ]
  },
  {
   "cell_type": "code",
   "execution_count": 178,
   "metadata": {},
   "outputs": [
    {
     "data": {
      "text/html": [
       "<div>\n",
       "<style scoped>\n",
       "    .dataframe tbody tr th:only-of-type {\n",
       "        vertical-align: middle;\n",
       "    }\n",
       "\n",
       "    .dataframe tbody tr th {\n",
       "        vertical-align: top;\n",
       "    }\n",
       "\n",
       "    .dataframe thead th {\n",
       "        text-align: right;\n",
       "    }\n",
       "</style>\n",
       "<table border=\"1\" class=\"dataframe\">\n",
       "  <thead>\n",
       "    <tr style=\"text-align: right;\">\n",
       "      <th></th>\n",
       "      <th></th>\n",
       "      <th>Name</th>\n",
       "      <th>Salary</th>\n",
       "    </tr>\n",
       "  </thead>\n",
       "  <tbody>\n",
       "    <tr>\n",
       "      <th rowspan=\"2\" valign=\"top\">p1</th>\n",
       "      <th>2</th>\n",
       "      <td>Kumar</td>\n",
       "      <td>90000.0</td>\n",
       "    </tr>\n",
       "    <tr>\n",
       "      <th>3</th>\n",
       "      <td>Nazim</td>\n",
       "      <td>90000.0</td>\n",
       "    </tr>\n",
       "    <tr>\n",
       "      <th rowspan=\"2\" valign=\"top\">p2</th>\n",
       "      <th>0</th>\n",
       "      <td>Khan</td>\n",
       "      <td>25000.0</td>\n",
       "    </tr>\n",
       "    <tr>\n",
       "      <th>1</th>\n",
       "      <td>Banana</td>\n",
       "      <td>23000.0</td>\n",
       "    </tr>\n",
       "  </tbody>\n",
       "</table>\n",
       "</div>"
      ],
      "text/plain": [
       "        Name   Salary\n",
       "p1 2   Kumar  90000.0\n",
       "   3   Nazim  90000.0\n",
       "p2 0    Khan  25000.0\n",
       "   1  Banana  23000.0"
      ]
     },
     "execution_count": 178,
     "metadata": {},
     "output_type": "execute_result"
    }
   ],
   "source": [
    "## The combined pieces can be identified by assigning a key\n",
    "concatData1 = pd.concat([d2,d1], keys = ['p1','p2'])\n",
    "concatData1"
   ]
  },
  {
   "cell_type": "code",
   "execution_count": 184,
   "metadata": {},
   "outputs": [
    {
     "data": {
      "text/html": [
       "<div>\n",
       "<style scoped>\n",
       "    .dataframe tbody tr th:only-of-type {\n",
       "        vertical-align: middle;\n",
       "    }\n",
       "\n",
       "    .dataframe tbody tr th {\n",
       "        vertical-align: top;\n",
       "    }\n",
       "\n",
       "    .dataframe thead th {\n",
       "        text-align: right;\n",
       "    }\n",
       "</style>\n",
       "<table border=\"1\" class=\"dataframe\">\n",
       "  <thead>\n",
       "    <tr style=\"text-align: right;\">\n",
       "      <th></th>\n",
       "      <th>Name</th>\n",
       "      <th>Salary</th>\n",
       "    </tr>\n",
       "  </thead>\n",
       "  <tbody>\n",
       "    <tr>\n",
       "      <th>2</th>\n",
       "      <td>Kumar</td>\n",
       "      <td>90000.0</td>\n",
       "    </tr>\n",
       "    <tr>\n",
       "      <th>3</th>\n",
       "      <td>Nazim</td>\n",
       "      <td>90000.0</td>\n",
       "    </tr>\n",
       "  </tbody>\n",
       "</table>\n",
       "</div>"
      ],
      "text/plain": [
       "    Name   Salary\n",
       "2  Kumar  90000.0\n",
       "3  Nazim  90000.0"
      ]
     },
     "execution_count": 184,
     "metadata": {},
     "output_type": "execute_result"
    }
   ],
   "source": [
    "concatData1.loc['p1']"
   ]
  },
  {
   "cell_type": "code",
   "execution_count": 196,
   "metadata": {},
   "outputs": [
    {
     "data": {
      "text/html": [
       "<div>\n",
       "<style scoped>\n",
       "    .dataframe tbody tr th:only-of-type {\n",
       "        vertical-align: middle;\n",
       "    }\n",
       "\n",
       "    .dataframe tbody tr th {\n",
       "        vertical-align: top;\n",
       "    }\n",
       "\n",
       "    .dataframe thead th {\n",
       "        text-align: right;\n",
       "    }\n",
       "</style>\n",
       "<table border=\"1\" class=\"dataframe\">\n",
       "  <thead>\n",
       "    <tr style=\"text-align: right;\">\n",
       "      <th></th>\n",
       "      <th>id</th>\n",
       "      <th>Feature1</th>\n",
       "      <th>Feature2</th>\n",
       "    </tr>\n",
       "  </thead>\n",
       "  <tbody>\n",
       "    <tr>\n",
       "      <th>0</th>\n",
       "      <td>1</td>\n",
       "      <td>A</td>\n",
       "      <td>B</td>\n",
       "    </tr>\n",
       "    <tr>\n",
       "      <th>1</th>\n",
       "      <td>2</td>\n",
       "      <td>C</td>\n",
       "      <td>D</td>\n",
       "    </tr>\n",
       "    <tr>\n",
       "      <th>2</th>\n",
       "      <td>3</td>\n",
       "      <td>E</td>\n",
       "      <td>F</td>\n",
       "    </tr>\n",
       "    <tr>\n",
       "      <th>3</th>\n",
       "      <td>4</td>\n",
       "      <td>G</td>\n",
       "      <td>H</td>\n",
       "    </tr>\n",
       "    <tr>\n",
       "      <th>4</th>\n",
       "      <td>5</td>\n",
       "      <td>I</td>\n",
       "      <td>J</td>\n",
       "    </tr>\n",
       "    <tr>\n",
       "      <th>0</th>\n",
       "      <td>1</td>\n",
       "      <td>K</td>\n",
       "      <td>L</td>\n",
       "    </tr>\n",
       "    <tr>\n",
       "      <th>1</th>\n",
       "      <td>2</td>\n",
       "      <td>M</td>\n",
       "      <td>N</td>\n",
       "    </tr>\n",
       "    <tr>\n",
       "      <th>2</th>\n",
       "      <td>6</td>\n",
       "      <td>O</td>\n",
       "      <td>P</td>\n",
       "    </tr>\n",
       "    <tr>\n",
       "      <th>3</th>\n",
       "      <td>7</td>\n",
       "      <td>Q</td>\n",
       "      <td>R</td>\n",
       "    </tr>\n",
       "    <tr>\n",
       "      <th>4</th>\n",
       "      <td>8</td>\n",
       "      <td>S</td>\n",
       "      <td>T</td>\n",
       "    </tr>\n",
       "  </tbody>\n",
       "</table>\n",
       "</div>"
      ],
      "text/plain": [
       "  id Feature1 Feature2\n",
       "0  1        A        B\n",
       "1  2        C        D\n",
       "2  3        E        F\n",
       "3  4        G        H\n",
       "4  5        I        J\n",
       "0  1        K        L\n",
       "1  2        M        N\n",
       "2  6        O        P\n",
       "3  7        Q        R\n",
       "4  8        S        T"
      ]
     },
     "execution_count": 196,
     "metadata": {},
     "output_type": "execute_result"
    }
   ],
   "source": [
    "## Concate data frame\n",
    "concatData = pd.concat([df1,df2])\n",
    "concatData"
   ]
  },
  {
   "cell_type": "markdown",
   "metadata": {},
   "source": [
    "ou can notice that the two DataFrames df1 and df2 are now concatenated into a single DataFrame df_row along the row. However, the row labels seem to be wrong\n",
    "# ignore_index\n",
    "If you want the row labels to adjust automatically according to the join, you will have to set the argument ignore_index as True while calling the concat() function"
   ]
  },
  {
   "cell_type": "code",
   "execution_count": 198,
   "metadata": {},
   "outputs": [
    {
     "data": {
      "text/html": [
       "<div>\n",
       "<style scoped>\n",
       "    .dataframe tbody tr th:only-of-type {\n",
       "        vertical-align: middle;\n",
       "    }\n",
       "\n",
       "    .dataframe tbody tr th {\n",
       "        vertical-align: top;\n",
       "    }\n",
       "\n",
       "    .dataframe thead th {\n",
       "        text-align: right;\n",
       "    }\n",
       "</style>\n",
       "<table border=\"1\" class=\"dataframe\">\n",
       "  <thead>\n",
       "    <tr style=\"text-align: right;\">\n",
       "      <th></th>\n",
       "      <th>id</th>\n",
       "      <th>Feature1</th>\n",
       "      <th>Feature2</th>\n",
       "    </tr>\n",
       "  </thead>\n",
       "  <tbody>\n",
       "    <tr>\n",
       "      <th>0</th>\n",
       "      <td>1</td>\n",
       "      <td>A</td>\n",
       "      <td>B</td>\n",
       "    </tr>\n",
       "    <tr>\n",
       "      <th>1</th>\n",
       "      <td>2</td>\n",
       "      <td>C</td>\n",
       "      <td>D</td>\n",
       "    </tr>\n",
       "    <tr>\n",
       "      <th>2</th>\n",
       "      <td>3</td>\n",
       "      <td>E</td>\n",
       "      <td>F</td>\n",
       "    </tr>\n",
       "    <tr>\n",
       "      <th>3</th>\n",
       "      <td>4</td>\n",
       "      <td>G</td>\n",
       "      <td>H</td>\n",
       "    </tr>\n",
       "    <tr>\n",
       "      <th>4</th>\n",
       "      <td>5</td>\n",
       "      <td>I</td>\n",
       "      <td>J</td>\n",
       "    </tr>\n",
       "    <tr>\n",
       "      <th>5</th>\n",
       "      <td>1</td>\n",
       "      <td>K</td>\n",
       "      <td>L</td>\n",
       "    </tr>\n",
       "    <tr>\n",
       "      <th>6</th>\n",
       "      <td>2</td>\n",
       "      <td>M</td>\n",
       "      <td>N</td>\n",
       "    </tr>\n",
       "    <tr>\n",
       "      <th>7</th>\n",
       "      <td>6</td>\n",
       "      <td>O</td>\n",
       "      <td>P</td>\n",
       "    </tr>\n",
       "    <tr>\n",
       "      <th>8</th>\n",
       "      <td>7</td>\n",
       "      <td>Q</td>\n",
       "      <td>R</td>\n",
       "    </tr>\n",
       "    <tr>\n",
       "      <th>9</th>\n",
       "      <td>8</td>\n",
       "      <td>S</td>\n",
       "      <td>T</td>\n",
       "    </tr>\n",
       "  </tbody>\n",
       "</table>\n",
       "</div>"
      ],
      "text/plain": [
       "  id Feature1 Feature2\n",
       "0  1        A        B\n",
       "1  2        C        D\n",
       "2  3        E        F\n",
       "3  4        G        H\n",
       "4  5        I        J\n",
       "5  1        K        L\n",
       "6  2        M        N\n",
       "7  6        O        P\n",
       "8  7        Q        R\n",
       "9  8        S        T"
      ]
     },
     "execution_count": 198,
     "metadata": {},
     "output_type": "execute_result"
    }
   ],
   "source": [
    "concateData_reindex = pd.concat([df1,df2],ignore_index = True ) # It will create fresh index\n",
    "concateData_reindex"
   ]
  }
 ],
 "metadata": {
  "kernelspec": {
   "display_name": "Python 3",
   "language": "python",
   "name": "python3"
  },
  "language_info": {
   "codemirror_mode": {
    "name": "ipython",
    "version": 3
   },
   "file_extension": ".py",
   "mimetype": "text/x-python",
   "name": "python",
   "nbconvert_exporter": "python",
   "pygments_lexer": "ipython3",
   "version": "3.7.3"
  }
 },
 "nbformat": 4,
 "nbformat_minor": 2
}
