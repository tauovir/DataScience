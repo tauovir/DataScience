{
 "cells": [
  {
   "cell_type": "markdown",
   "metadata": {},
   "source": [
    "# List Programming\n"
   ]
  },
  {
   "cell_type": "code",
   "execution_count": 1,
   "metadata": {},
   "outputs": [],
   "source": [
    "class FirstAndLast():\n",
    "    def __init__(self):\n",
    "        self.list1 = [1,2,3,4]\n",
    "        print(\"Before interchange\")\n",
    "        print(self.list1)\n",
    "# interchange first and last element of a list\n",
    "    def approach1(self):\n",
    "        temp = self.list1[0]\n",
    "        self.list1[0] =self.list1[-1]\n",
    "        self.list1[-1] = temp\n",
    "        print(\"After interchange\")\n",
    "        print(self.list1)\n",
    "    def approach2(self):\n",
    "        self.list1[0],self.list1[-1] = self.list1[-1],self.list1[0]\n",
    "        print(\"After interchange\")\n",
    "        print(self.list1)\n",
    "    def approach3(self):\n",
    "        tuple1 = self.list1[-1],self.list1[0]\n",
    "#         print(tuple1)\n",
    "        self.list1[0],self.list1[-1] = tuple1\n",
    "        print(\"After interchange\")\n",
    "        print(self.list1)\n",
    "    def approach4(self):\n",
    "# * his operand proposes a change to iterable unpacking syntax, allowing to specify a “catch-all” name \n",
    "# which will be assigned a list of all items not assigned to \n",
    "        start,*middle,end = self.list1\n",
    "        self.list1 = [start,*middle,end]\n",
    "        print(\"After interchange\")\n",
    "        print(self.list1)\n",
    "        \n",
    "    def approach5(self):\n",
    "        first = self.list1.pop(0)\n",
    "        last = self.list1.pop(-1)\n",
    "        self.list1.insert(0,last)\n",
    "        self.list1.append(first)\n",
    "        print(\"After interchange\")\n",
    "        print(self.list1)\n",
    "        \n",
    "    \n",
    "    \n",
    "obj = FirstAndLast()\n",
    "# obj.approach1()\n",
    "obj.approach5()\n"
   ]
  },
  {
   "cell_type": "markdown",
   "metadata": {},
   "source": [
    "# Remove Nth occurrence of the given word\n",
    "Input: list - [\"geeks\", \"for\", \"geeks\"]\n",
    "       word = geeks, N = 2\n",
    "       \n",
    "Output: list - [\"geeks\", \"for\"]\n",
    "    \n",
    "Input: list - [\"can\", \"you\",  \"can\", \"a\", \"can\" \"?\"]\n",
    "       word = can, N = 1\n",
    "       \n",
    "Output: list - [\"you\",  \"can\", \"a\", \"can\" \"?\"]"
   ]
  },
  {
   "cell_type": "code",
   "execution_count": 2,
   "metadata": {},
   "outputs": [
    {
     "name": "stdout",
     "output_type": "stream",
     "text": [
      "['geeks', 'for']\n"
     ]
    }
   ],
   "source": [
    "class RemoventhOccurance():\n",
    "    def __init__(self):\n",
    "        self.output = []\n",
    "        self.count = 0\n",
    "    def appraoch1(self,lis1t,word, n):\n",
    "        for i in list1:\n",
    "            if i == word:\n",
    "                self.count = self.count + 1\n",
    "                if self.count !=n:\n",
    "                    self.output.append(i)\n",
    "            else:\n",
    "                self.output.append(i)\n",
    "                    \n",
    "        print(self.output)\n",
    "    def approach2(self,lis1t,word, n):\n",
    "        for i in range(len(list1)):\n",
    "            if lis1t[i] == word:\n",
    "                self.count = self.count + 1\n",
    "            if self.count == n:\n",
    "                del lis1t[i]\n",
    "            \n",
    "        print(lis1t)    \n",
    "            \n",
    "    \n",
    "    \n",
    "    \n",
    "obj1 = RemoventhOccurance()\n",
    "list1 = [\"geeks\", \"for\", \"geeks\"]\n",
    "word = \"geeks\"\n",
    "n = 2\n",
    "obj1.approach2(list1, word, n)"
   ]
  },
  {
   "cell_type": "code",
   "execution_count": 3,
   "metadata": {},
   "outputs": [
    {
     "name": "stdout",
     "output_type": "stream",
     "text": [
      "[15, 6, 10, 7, 10, 12, 20, 10, 28, 10, 10]\n",
      "10 Occured 5 times\n"
     ]
    }
   ],
   "source": [
    "# Count occurrences of an element in a list\n",
    "# lst = [15, 6, 7, 10, 12, 20, 10, 28, 10], x = 10, output = 3\n",
    "\n",
    "class Occurence():\n",
    "    def __init__(self,list1):\n",
    "        self.list1 = list1\n",
    "        print(self.list1)\n",
    "        self.count = 0\n",
    "        \n",
    "    def approach1(self,x):\n",
    "        for i in self.list1:\n",
    "            if i == x:\n",
    "                self.count = self.count + 1\n",
    "        print(\"{x} Occured {count} times\".format(x = x, count = self.count))\n",
    "    \n",
    "    def approach2(self,x):\n",
    "        self.count = self.list1.count(x) # Count is a list method to Return number of occurrences of value.\n",
    "        print(\"{x} Occured {count} times\".format(x = x, count = self.count))\n",
    "        \n",
    "    def approach3(self,x):\n",
    "        from collections import Counter\n",
    "        # Elements are stored as dictionary keys and their counts are stored as dictionary values\n",
    "        dict1 = Counter(self.list1)\n",
    "        print(\"{x} Occured {count} times\".format(x = x, count = dict1[x]))\n",
    "        \n",
    "        \n",
    "        \n",
    "        \n",
    "list1 = [15, 6,10, 7, 10, 12, 20, 10, 28, 10,10]\n",
    "obj1 = Occurence(list1)\n",
    "# obj1.approach1(10)\n",
    "# obj1.approach2(10)\n",
    "obj1.approach3(10)\n"
   ]
  },
  {
   "cell_type": "code",
   "execution_count": 4,
   "metadata": {},
   "outputs": [
    {
     "name": "stdout",
     "output_type": "stream",
     "text": [
      "6 exist in the list: [1, 6, 3, 5, 3, 4]\n"
     ]
    }
   ],
   "source": [
    "# check if element exists in list\n",
    "class CheckElement():\n",
    "    \n",
    "    def __init__(self,list1, ele):\n",
    "        self.list1 = list1\n",
    "        self.element = ele\n",
    "    def approach1(self):\n",
    "        if self.element in self.list1:\n",
    "            self.display()\n",
    "        else:\n",
    "            print(\"Not exist\")\n",
    "    def display(self):\n",
    "         print(\"{x} exist in the list: {list1}\".format(x = self.element, list1 = self.list1))\n",
    "        \n",
    "\n",
    "test_list = [ 1, 6, 3, 5, 3, 4 ]\n",
    "x= 6\n",
    "obj1 = CheckElement(test_list, x)\n",
    "obj1.approach1()"
   ]
  },
  {
   "cell_type": "code",
   "execution_count": 5,
   "metadata": {},
   "outputs": [
    {
     "name": "stdout",
     "output_type": "stream",
     "text": [
      "[1, 2, 3, 4, 5, 66, 7]\n",
      "[]\n"
     ]
    }
   ],
   "source": [
    "# clear a list in Python\n",
    "class ClearList():\n",
    "    def __init__(self,list1):\n",
    "        self.list1 = list1\n",
    "        print(self.list1)\n",
    "    def approach1(self):\n",
    "        self.list1.clear() # List Method,Clear\n",
    "        print(self.list1)\n",
    "    def approach1(self):\n",
    "        self.list1.clear() # Using Clear Method\n",
    "        print(self.list1)\n",
    "    def approach3(self):\n",
    "        self.list1 *= 0 # Or -1,-2,..,\n",
    "        print(self.list1)\n",
    "    def approach4(self):\n",
    "        del self.list1[:]\n",
    "        print(self.list1)\n",
    "\n",
    "\n",
    "list1 = [1,2,3,4,5,66,7]\n",
    "obj1 = ClearList(list1)\n",
    "obj1.approach4()"
   ]
  },
  {
   "cell_type": "markdown",
   "metadata": {},
   "source": [
    "# Reversing a List\n",
    "Python provides us with various ways of reversing a list. "
   ]
  },
  {
   "cell_type": "code",
   "execution_count": 6,
   "metadata": {},
   "outputs": [
    {
     "name": "stdout",
     "output_type": "stream",
     "text": [
      "Initial List\n",
      "[1, 2, 3, 4, 5]\n",
      "Reversed\n",
      "[5, 4, 3, 2, 1]\n"
     ]
    }
   ],
   "source": [
    "class ReverseOrd():\n",
    "    \n",
    "    def __init__(self, list1):\n",
    "        print(\"Initial List\")\n",
    "        self.list1 = list1\n",
    "        print(self.list1)\n",
    "    def approach1(self):\n",
    "        self.list1.reverse()\n",
    "        print(\"Reversed\")\n",
    "        print(self.list1)\n",
    "        \n",
    "    def approach2(self):\n",
    "        self.list1 = self.list1[::-1] # self.list1\n",
    "        print(\"Reversed\")\n",
    "        print(self.list1)\n",
    "        \n",
    "list1 = [1,2,3,4,5]\n",
    "obj1 = ReverseOrd(list1)\n",
    "obj1.approach2()"
   ]
  },
  {
   "cell_type": "code",
   "execution_count": 7,
   "metadata": {},
   "outputs": [
    {
     "data": {
      "text/plain": [
       "[6, 5, 4, 3, 2, 1]"
      ]
     },
     "execution_count": 7,
     "metadata": {},
     "output_type": "execute_result"
    }
   ],
   "source": [
    "list1 = [1,2,3,4,5,6]\n",
    "list1[::-1]"
   ]
  },
  {
   "cell_type": "code",
   "execution_count": 8,
   "metadata": {},
   "outputs": [
    {
     "name": "stdout",
     "output_type": "stream",
     "text": [
      "[2, 3, 4, 5, 6]\n",
      "List2\n",
      "[2, 3, 4, 5, 6]\n"
     ]
    }
   ],
   "source": [
    "# List Cloning\n",
    "class ListClone():\n",
    "    def __init__(self,list1):\n",
    "        self.list1 = list1\n",
    "        print(self.list1)\n",
    "    def approach1(self):\n",
    "        list2 = self.list1\n",
    "        print(\"List2\")\n",
    "        print(list2)\n",
    "    def approach2(self):\n",
    "        list2 = self.list1[:]\n",
    "        print(\"List2\")\n",
    "        print(list2)\n",
    "    def approach3(self):\n",
    "        list2 = list(self.list1)\n",
    "        print(\"List2\")\n",
    "        print(list2)\n",
    "    def approach4(self):\n",
    "        list2 = [item for item in self.list1]\n",
    "        print(\"List2\")\n",
    "        print(list2)\n",
    "    def approach5(self):\n",
    "        list2 = []\n",
    "        for item in self.list1:\n",
    "            list2.append(item)\n",
    "        print(\"List2\")\n",
    "        print(list2)\n",
    "        \n",
    "    def approach6(self):\n",
    "        list2 = self.list1.copy()\n",
    "        print(\"List2\")\n",
    "        print(list2)\n",
    "\n",
    "list1 = [2,3,4,5,6]\n",
    "obj1 = ListClone(list1)\n",
    "obj1.approach6()"
   ]
  },
  {
   "cell_type": "code",
   "execution_count": 11,
   "metadata": {},
   "outputs": [
    {
     "name": "stdout",
     "output_type": "stream",
     "text": [
      "20\n"
     ]
    }
   ],
   "source": [
    "# find sum of elements in list\n",
    "class SubList():\n",
    "    def __init__(self,list1):\n",
    "        self.list1 = list1\n",
    "    def approach(self):\n",
    "        x = sum(self.list1)\n",
    "        print(x)\n",
    "    def approach1(self):\n",
    "        sum = 0\n",
    "        for x in self.list1:\n",
    "            sum = sum + x\n",
    "        print(sum)\n",
    "    def approach2(self):\n",
    "        sum = 0\n",
    "        for i in range(0, len(self.list1)):\n",
    "            sum = sum + self.list1[i]\n",
    "        print(sum)\n",
    "        \n",
    "    def approach3(self):\n",
    "        sum = 0\n",
    "        ele = 0\n",
    "        while ele < len(self.list1):\n",
    "            sum = sum + self.list1[ele]\n",
    "            ele = ele + 1\n",
    "        print(sum)\n",
    " \n",
    "list1 = [2,3,4,5,6]\n",
    "obj1 = SubList(list1)\n",
    "# obj1.approach2()\n",
    "obj1.approach3()\n"
   ]
  },
  {
   "cell_type": "code",
   "execution_count": 29,
   "metadata": {},
   "outputs": [
    {
     "name": "stdout",
     "output_type": "stream",
     "text": [
      "[10, 20, 30]\n",
      "======Sum=========\n"
     ]
    },
    {
     "ename": "AttributeError",
     "evalue": "module 'math' has no attribute 'prod'",
     "output_type": "error",
     "traceback": [
      "\u001b[1;31m---------------------------------------------------------------------------\u001b[0m",
      "\u001b[1;31mAttributeError\u001b[0m                            Traceback (most recent call last)",
      "\u001b[1;32m<ipython-input-29-8a6d1a3fa58c>\u001b[0m in \u001b[0;36m<module>\u001b[1;34m\u001b[0m\n\u001b[0;32m     22\u001b[0m \u001b[0mobj1\u001b[0m \u001b[1;33m=\u001b[0m \u001b[0mListProd\u001b[0m\u001b[1;33m(\u001b[0m\u001b[0mlist1\u001b[0m\u001b[1;33m)\u001b[0m\u001b[1;33m\u001b[0m\u001b[1;33m\u001b[0m\u001b[0m\n\u001b[0;32m     23\u001b[0m \u001b[1;31m# obj1.approach()\u001b[0m\u001b[1;33m\u001b[0m\u001b[1;33m\u001b[0m\u001b[1;33m\u001b[0m\u001b[0m\n\u001b[1;32m---> 24\u001b[1;33m \u001b[0mobj1\u001b[0m\u001b[1;33m.\u001b[0m\u001b[0mapproach2\u001b[0m\u001b[1;33m(\u001b[0m\u001b[1;33m)\u001b[0m\u001b[1;33m\u001b[0m\u001b[1;33m\u001b[0m\u001b[0m\n\u001b[0m",
      "\u001b[1;32m<ipython-input-29-8a6d1a3fa58c>\u001b[0m in \u001b[0;36mapproach2\u001b[1;34m(self)\u001b[0m\n\u001b[0;32m     16\u001b[0m     \u001b[1;32mdef\u001b[0m \u001b[0mapproach2\u001b[0m\u001b[1;33m(\u001b[0m\u001b[0mself\u001b[0m\u001b[1;33m)\u001b[0m\u001b[1;33m:\u001b[0m\u001b[1;33m\u001b[0m\u001b[1;33m\u001b[0m\u001b[0m\n\u001b[0;32m     17\u001b[0m         \u001b[1;32mimport\u001b[0m \u001b[0mmath\u001b[0m\u001b[1;33m\u001b[0m\u001b[1;33m\u001b[0m\u001b[0m\n\u001b[1;32m---> 18\u001b[1;33m         \u001b[0mx1\u001b[0m \u001b[1;33m=\u001b[0m \u001b[0mmath\u001b[0m\u001b[1;33m.\u001b[0m\u001b[0mprod\u001b[0m\u001b[1;33m(\u001b[0m\u001b[0mself\u001b[0m\u001b[1;33m.\u001b[0m\u001b[0mlist1\u001b[0m\u001b[1;33m)\u001b[0m\u001b[1;33m\u001b[0m\u001b[1;33m\u001b[0m\u001b[0m\n\u001b[0m\u001b[0;32m     19\u001b[0m         \u001b[0mprint\u001b[0m\u001b[1;33m(\u001b[0m\u001b[0mx1\u001b[0m\u001b[1;33m)\u001b[0m\u001b[1;33m\u001b[0m\u001b[1;33m\u001b[0m\u001b[0m\n\u001b[0;32m     20\u001b[0m \u001b[1;33m\u001b[0m\u001b[0m\n",
      "\u001b[1;31mAttributeError\u001b[0m: module 'math' has no attribute 'prod'"
     ]
    }
   ],
   "source": [
    "class ListProd():\n",
    "    def __init__(self, list1):\n",
    "        self.list1 = list1\n",
    "        print(self.list1)\n",
    "        print(\"======Sum=========\")\n",
    "    def approach(self):\n",
    "        prod = 1\n",
    "        for x in self.list1:\n",
    "            prod = prod * x\n",
    "        print(prod)\n",
    "    def approach1(self):\n",
    "        import numpy as np\n",
    "        x1 = np.prod(self.list1)\n",
    "        print(x1)\n",
    "        \n",
    "        \n",
    "list1 = [10,20,30]\n",
    "obj1 = ListProd(list1)\n",
    "# obj1.approach()"
   ]
  },
  {
   "cell_type": "code",
   "execution_count": 24,
   "metadata": {},
   "outputs": [
    {
     "data": {
      "text/plain": [
       "24"
      ]
     },
     "execution_count": 24,
     "metadata": {},
     "output_type": "execute_result"
    }
   ],
   "source": []
  }
 ],
 "metadata": {
  "kernelspec": {
   "display_name": "Python 3",
   "language": "python",
   "name": "python3"
  },
  "language_info": {
   "codemirror_mode": {
    "name": "ipython",
    "version": 3
   },
   "file_extension": ".py",
   "mimetype": "text/x-python",
   "name": "python",
   "nbconvert_exporter": "python",
   "pygments_lexer": "ipython3",
   "version": "3.7.3"
  }
 },
 "nbformat": 4,
 "nbformat_minor": 2
}
