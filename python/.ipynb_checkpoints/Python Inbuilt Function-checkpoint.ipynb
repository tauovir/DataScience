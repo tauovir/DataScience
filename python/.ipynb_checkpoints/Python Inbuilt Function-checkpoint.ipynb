{
 "cells": [
  {
   "cell_type": "markdown",
   "metadata": {},
   "source": [
    "# String Inbuilt Function"
   ]
  },
  {
   "cell_type": "markdown",
   "metadata": {},
   "source": [
    "#capitalize() – Returns the string with the first character capitalized and rest of the characters in lower case.\n",
    "#lower() – Converts all the characters of the String to lowercase\n",
    "#upper() – Converts all the characters of the String to uppercase\n",
    "#swapcase() – Swaps the case of every character in the String means that lowercase characters got converted to uppercase and vice-versa.\n",
    "#title() – Returns the ‘titlecased’ version of String, which means that all words start with uppercase and the rest of the characters in words are in lowercase.\n",
    " #count( str[, beg [, end]]) – Returns the number of times substring ‘str’ occurs in the range [beg, end] if beg and end index are given else the search continues in full String Search is case-sensitive.\n",
    " # Comparison Functions\n",
    "#islower() – Returns ‘True’ if all the characters in the String are in lowercase. If any of the char is in uppercase, it will return False.\n",
    "#isupper() – Returns ‘True’ if all the characters in the String are in uppercase. If any of the char is in lowercase, it will return False.\n",
    " #isdecimal() – Returns ‘True’ if all the characters in String are decimal. If any character in the String is of other data-type, it will return False.\n",
    " \n",
    "#isdigit() – Returns ‘True’ for any char for which isdecimal() would return ‘True and some characters in the ‘No’ category. If there are any characters other than these, it will return False’.\n",
    "\n",
    "#isnumeric() – Returns ‘True’ if all the characters of the Unicode String lie in any one of the categories Nd, No, and NI.\n",
    "#isalpha() – Returns ‘True’ if String contains at least one character (non-empty String), and all the characters are alphabetic, ‘False’ otherwise.\n",
    "\n",
    "#isalnum() – Returns ‘True’ if String contains at least one character (non-empty String), and all the characters are either alphabetic or decimal digits, ‘False’ otherwise.\n",
    "# Search Functions:\n",
    "find(str [,i [,j]]) – Searches for ‘str’ in complete String (if i and j not defined) or in a sub-string of String (if i and j are defined).This function returns the index if ‘str’ is found else returns ‘-1’.\n",
    "\n",
    " index(str[,i [,j]]) – This is same as ‘find’ method. The only difference is that it raises the ‘ValueError’ exception if ‘str’ doesn’t exist.\n",
    "  rfind(str[,i [,j]]) – This is same as find() just that this function returns the last index where ‘str’ is found. If ‘str’ is not found, it returns ‘-1’.\n",
    "  \n",
    "  count(str[,i [,j]]) – Returns the number of occurrences of substring ‘str’ in the String. Searches for ‘str’ in the complete String (if i and j not defined) or in a sub-string of String (if i and j are defined).\n",
    "\n",
    "Where: i=search starts from this index, j=search ends at this index.\n",
    "# String Substitution Functions:\n",
    ". replace(old,new[,count]) – Replaces all the occurrences of substring ‘old’ with ‘new’ in the String.\n",
    "\n",
    "If the count is available, then only ‘count’ number of occurrences of ‘old’ will be replaced with the ‘new’ var.\n",
    "\n",
    "Where old =substring to replace, new =substring\n",
    "\n",
    " split([sep[,maxsplit]]) – Returns a list of substring obtained after splitting the String with ‘sep’ as a delimiter.\n",
    "\n",
    "Where, sep= delimiter, the default is space, maxsplit= number of splits to be done.\n",
    "\n",
    " join(seq) – Returns a String obtained after concatenating the sequence ‘seq’ with a delimiter string.\n",
    "\n",
    "Where: the seq= sequence of elements to join.\n",
    "\n",
    "# Misc String Functions:\n",
    " lstrip([chars]) – Returns a string after removing the characters from the beginning of the String.\n",
    "\n",
    "Where: Chars=this is the character to be trimmed from the String.\n",
    "\n",
    "The default is whitespace character.\n",
    "\n",
    "rstrip() – Returns a string after removing the characters from the End of the String.\n",
    "\n",
    "Where: Chars=this is the character to be trimmed from the String. The default is whitespace character.\n",
    "\n",
    " len(string) – Returns the length of given String"
   ]
  },
  {
   "cell_type": "code",
   "execution_count": 28,
   "metadata": {},
   "outputs": [
    {
     "name": "stdout",
     "output_type": "stream",
     "text": [
      "2\n"
     ]
    }
   ],
   "source": [
    "class Strcapitalize:\n",
    "    def __init__(self,text):\n",
    "        self.text = text\n",
    "    def stringCapitalize(self):\n",
    "        updatedStr = self.text.capitalize()\n",
    "        print(updatedStr)\n",
    "    def stringLower(self):\n",
    "        updatedStr = self.text.lower()\n",
    "        print(updatedStr)\n",
    "    def stringUpper(self):\n",
    "        updatedStr = self.text.upper()\n",
    "        print(updatedStr)\n",
    "    def stringSwapcase(self):\n",
    "        updatedStr = self.text.swapcase()\n",
    "        print(updatedStr)\n",
    "    def stringTitle(self):\n",
    "        updatedStr = self.text.title()\n",
    "        print(updatedStr)\n",
    "    def stringCount(self):\n",
    "        chr = 'e'\n",
    "        occurance = self.text.count(chr) # count e in string\n",
    "        print(occurance)\n",
    "    \n",
    "        \n",
    "obj1 = Strcapitalize(\"taukir khan is here\")\n",
    "# obj1.stringCapitalize()\n",
    "# obj1.stringLower()\n",
    "# obj1.stringSwapcase()\n",
    "# obj1.stringTitle()\n",
    "obj1.stringCount()"
   ]
  },
  {
   "cell_type": "code",
   "execution_count": 44,
   "metadata": {},
   "outputs": [
    {
     "name": "stdout",
     "output_type": "stream",
     "text": [
      "False\n"
     ]
    }
   ],
   "source": [
    "class StringCmp:\n",
    "    def __init__(self,text):\n",
    "        self.text = text\n",
    "    def isLower(self):\n",
    "        print(self.text.islower())\n",
    "        \n",
    "    def isUpper(self):\n",
    "        print(self.text.isupper())\n",
    "        \n",
    "    def isDecimal(self):\n",
    "        print(self.text.isdecimal())\n",
    "        \n",
    "    def isDigit(self):\n",
    "        print(self.text.isdigit())\n",
    "        \n",
    "obj1 = StringCmp(\"25010c\")\n",
    "# obj1.isLower()\n",
    "# obj1.isDecimal()\n",
    "obj1.isDigit()\n"
   ]
  },
  {
   "cell_type": "code",
   "execution_count": 53,
   "metadata": {},
   "outputs": [
    {
     "name": "stdout",
     "output_type": "stream",
     "text": [
      "String not found\n"
     ]
    }
   ],
   "source": [
    "class SearchStr:\n",
    "    def __init__(self,text,findtxt):\n",
    "        self.text = text\n",
    "        self.findtxt = findtxt\n",
    "        \n",
    "    def findStr(self):\n",
    "        pos = self.text.find(self.findtxt)\n",
    "        print(pos)\n",
    "        \n",
    "    def indexStr(self):\n",
    "        \n",
    "        try:\n",
    "            pos = self.text.index(self.findtxt)\n",
    "            print(pos)\n",
    "        except:\n",
    "            print(\"String not found\")\n",
    "    \n",
    "    \n",
    "ob1j = SearchStr(\"Taukir khan eats mango\",\"xcv\")\n",
    "# ob1j.findStr()\n",
    "ob1j.indexStr()"
   ]
  },
  {
   "cell_type": "code",
   "execution_count": 61,
   "metadata": {},
   "outputs": [
    {
     "name": "stdout",
     "output_type": "stream",
     "text": [
      "['Taukir', 'khan', 'is', 'here']\n"
     ]
    }
   ],
   "source": [
    "class StrSubstitute:\n",
    "    def __init__(self,text):\n",
    "        self.text = text\n",
    "    def StrReplace(self):\n",
    "        result = self.text.replace('is','Qazi')\n",
    "        print(result)\n",
    "        \n",
    "    def StrSplit(self):\n",
    "        result = self.text.split(' ')\n",
    "        print(result)\n",
    "        \n",
    "obj1 = StrSubstitute(\"Taukir khan is here\")\n",
    "# obj1.StrReplace()\n",
    "obj1.StrSplit()"
   ]
  },
  {
   "cell_type": "markdown",
   "metadata": {},
   "source": [
    "# Python list methods:\n",
    "#append()\tIt adds a new element to the end of the list.\n",
    "#extend()\tIt extends a list by adding elements from another list.\n",
    "#insert()\tIt injects a new element at the desired index.\n",
    "#remove()\tIt deletes the desired element from the list.\n",
    "#pop()\tIt removes as well as returns an item from the given position.\n",
    "#clear()\tIt flushes out all elements of a list.\n",
    "#index()\tIt returns the index of an element that matches first.\n",
    "#count()\tIt returns the total no. of elements passed as an argument.\n",
    "#sort()\tIt orders the elements of a list in an ascending manner.\n",
    "#reverse()\tIt inverts the order of the elements in a list.\n",
    "#copy()\tIt performs a shallow copy of the list and returns.\n",
    "# Python list built-in functions:\n",
    "#all()\tIt returns True if the list has elements with a True value or is blank.\n",
    "#any()\tIf any of the members has a True value, then it also returns True.\n",
    "#enumerate()\tIt returns a tuple with an index and value of all the list elements.\n",
    "#len()\tThe return value is the size of the list.\n",
    "#list()\tIt converts all iterable objects and returns as a list.\n",
    "#max()\tThe member having the maximum value\n",
    "#min()\tThe member having the minimum value\n",
    "#sorted()\tIt returns the sorted copy of the list.\n",
    "#sum()\tThe return value is the aggregate of all elements of a list.\n"
   ]
  },
  {
   "cell_type": "code",
   "execution_count": 39,
   "metadata": {},
   "outputs": [
    {
     "name": "stdout",
     "output_type": "stream",
     "text": [
      "Index:0,Val:10\n",
      "Index:1,Val:20\n",
      "Index:2,Val:30\n",
      "Index:3,Val:40\n",
      "Index:4,Val:50\n"
     ]
    }
   ],
   "source": [
    "class ListFunc:\n",
    "    \n",
    "    def appendList(self):\n",
    "        list1 = [10,20,30,40,50]\n",
    "        print(list1)\n",
    "        print(\"After appending\")\n",
    "        list1.append(99)\n",
    "        print(list1)\n",
    "        \n",
    "    def extendList(self):\n",
    "        list1 = [10,20,30,40,50]\n",
    "        list2 = [-10,-20,-30]\n",
    "        print(list1)\n",
    "        print(\"After extending\")\n",
    "        list1.extend(list2)\n",
    "        print(list1)\n",
    "        \n",
    "    def inserItem(self):\n",
    "        list1 = [10,20,30,40,50]\n",
    "        print(list1)\n",
    "        ind = 2\n",
    "        print(\"After extending\")\n",
    "        list1.insert(ind,99999)\n",
    "        print(list1)\n",
    "        \n",
    "    def popItem(self):\n",
    "        list1 = [10,20,30,40,50]\n",
    "        print(list1)\n",
    "        ind = 2\n",
    "        print(\"After Poping\")\n",
    "        poped = list1.pop(ind)\n",
    "        print(list1)\n",
    "        print(\"Poped Item:{poped}\".format(poped = poped))\n",
    "        \n",
    "    def listClear(self):\n",
    "        list1 = [10,20,30,40,50]\n",
    "        print(list1)\n",
    "        ind = 2\n",
    "        print(\"After Clear\")\n",
    "        list1.clear()\n",
    "        print(list1)\n",
    "        \n",
    "    def itemIndex(self):\n",
    "        list1 = [10,20,30,40,50]\n",
    "        ind = list1.index(30)\n",
    "        print(\"Index\")\n",
    "        print(ind)\n",
    "        \n",
    "    def itemOccurence(self,item):\n",
    "        list1 = [1,2,3,2,3,1,5,6,2,3,1,6,4,3,2,1,4,6,7,3]\n",
    "#         list1 = list(\"taukir khan is here in\")\n",
    "        occurence = list1.count(item)\n",
    "        print(\"{item}:Occuren:{occr}\".format(item = item,occr = occurence))\n",
    "        list1.sort(reverse = True)\n",
    "        print(list1)\n",
    "        \n",
    "    def listReverse(self):\n",
    "        list1 = [10,20,30,40,50]\n",
    "        print(list1)\n",
    "        print(\"After Reverse\")\n",
    "#         list1.reverse()\n",
    "        print(list1[::-1])\n",
    "        print(\"max:{max1}\".format(max1 = max(list1)))\n",
    "        print(\"Min:{min1}\".format(min1 = min(list1)))\n",
    "        print(\"Length of List:{len1}\".format(len1 = len(list1)))\n",
    "        print(\"Sum of List:{sum1}\".format(sum1 = sum(list1)))\n",
    "    \n",
    "    def enemuratedList(self):\n",
    "        list1 = [10,20,30,40,50]\n",
    "        for index,va in enumerate(list1):\n",
    "            print(\"Index:{ind},Val:{val}\".format(ind = index,val = va))\n",
    "            \n",
    "        \n",
    "        \n",
    "obj1 = ListFunc()\n",
    "# obj1.appendList()\n",
    "# obj1.extendList()\n",
    "# obj1.inserItem()\n",
    "# obj1.popItem()\n",
    "# obj1.listClear()\n",
    "# obj1.itemIndex()\n",
    "# obj1.itemOccurence(5)\n",
    "# obj1.listReverse()\n",
    "obj1.enemuratedList()\n"
   ]
  },
  {
   "cell_type": "code",
   "execution_count": 40,
   "metadata": {},
   "outputs": [
    {
     "ename": "AttributeError",
     "evalue": "'list' object has no attribute 'any'",
     "output_type": "error",
     "traceback": [
      "\u001b[1;31m---------------------------------------------------------------------------\u001b[0m",
      "\u001b[1;31mAttributeError\u001b[0m                            Traceback (most recent call last)",
      "\u001b[1;32m<ipython-input-40-50873bd9a3e8>\u001b[0m in \u001b[0;36m<module>\u001b[1;34m\u001b[0m\n\u001b[0;32m      1\u001b[0m \u001b[0mlist1\u001b[0m \u001b[1;33m=\u001b[0m \u001b[1;33m[\u001b[0m\u001b[1;36m1\u001b[0m\u001b[1;33m,\u001b[0m\u001b[1;36m2\u001b[0m\u001b[1;33m,\u001b[0m\u001b[1;36m3\u001b[0m\u001b[1;33m,\u001b[0m\u001b[1;36m4\u001b[0m\u001b[1;33m,\u001b[0m\u001b[1;36m5\u001b[0m\u001b[1;33m]\u001b[0m\u001b[1;33m\u001b[0m\u001b[1;33m\u001b[0m\u001b[0m\n\u001b[1;32m----> 2\u001b[1;33m \u001b[0mlist1\u001b[0m\u001b[1;33m.\u001b[0m\u001b[0many\u001b[0m\u001b[1;33m(\u001b[0m\u001b[1;36m2\u001b[0m\u001b[1;33m)\u001b[0m\u001b[1;33m\u001b[0m\u001b[1;33m\u001b[0m\u001b[0m\n\u001b[0m",
      "\u001b[1;31mAttributeError\u001b[0m: 'list' object has no attribute 'any'"
     ]
    }
   ],
   "source": []
  }
 ],
 "metadata": {
  "kernelspec": {
   "display_name": "Python 3",
   "language": "python",
   "name": "python3"
  },
  "language_info": {
   "codemirror_mode": {
    "name": "ipython",
    "version": 3
   },
   "file_extension": ".py",
   "mimetype": "text/x-python",
   "name": "python",
   "nbconvert_exporter": "python",
   "pygments_lexer": "ipython3",
   "version": "3.7.3"
  }
 },
 "nbformat": 4,
 "nbformat_minor": 2
}
