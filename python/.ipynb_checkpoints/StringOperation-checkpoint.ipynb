{
 "cells": [
  {
   "cell_type": "code",
   "execution_count": 15,
   "metadata": {},
   "outputs": [
    {
     "name": "stdout",
     "output_type": "stream",
     "text": [
      "mam\n",
      "Palindrom\n"
     ]
    }
   ],
   "source": [
    "# check if a string is palindrome or not\n",
    "class Palindrom():\n",
    "    def __init__(self,text):\n",
    "        self.text = text\n",
    "        print(self.text)\n",
    "    def approach1(self):\n",
    "        text1 = self.text[::-1]\n",
    "        if text1 == self.text:\n",
    "            print(\"Palindrom\")\n",
    "        else:\n",
    "            print(\"Not Plaindrom\")\n",
    "            \n",
    "    def appraoch2(self):\n",
    "        length = len(self.text)\n",
    "        s1 = \"\"\n",
    "        while length > 0:\n",
    "            s1 = s1 + self.text[length-1]\n",
    "            length -= 1\n",
    "        if s1 == self.text:\n",
    "            print(\"Palindrom\")\n",
    "        else:\n",
    "            print(\"Not Plaindrom\")\n",
    "            \n",
    "    def test():\n",
    "        print(\"Testing.........\")\n",
    "\n",
    "# Palindrom.test()\n",
    "obj1 = Palindrom('mam')\n",
    "obj1.appraoch2()"
   ]
  },
  {
   "cell_type": "code",
   "execution_count": 1,
   "metadata": {},
   "outputs": [
    {
     "name": "stdout",
     "output_type": "stream",
     "text": [
      "['kakaka', 'amam', 'khan']\n"
     ]
    }
   ],
   "source": [
    "def reverseWords():\n",
    "    s1 = \"khan amam kakaka\"\n",
    "    str1 = s1.split(\" \")\n",
    "    str2 = str1[::-1]\n",
    "    print(str2)\n",
    "reverseWords()"
   ]
  },
  {
   "cell_type": "code",
   "execution_count": 13,
   "metadata": {},
   "outputs": [
    {
     "name": "stdout",
     "output_type": "stream",
     "text": [
      "Original String:mango\n",
      "mago\n"
     ]
    }
   ],
   "source": [
    "#  remove i’th character from string \n",
    "class RemoveIth():\n",
    "    def __init__(self,text):\n",
    "        self.text = text\n",
    "        print(\"Original String:{text}\".format(text = self.text))\n",
    "\n",
    "    def appraoch(self,index):\n",
    "        str2 = \"\"\n",
    "        for i in range(len(self.text)):\n",
    "            if i!=index:\n",
    "                str2 = str2 + self.text[i]\n",
    "        print(str2)\n",
    "    def appraoch2(self,index):\n",
    "        chr = self.text[index]\n",
    "#         print(chr)\n",
    "        newStr = self.text.replace(chr,'')\n",
    "        print(newStr)\n",
    "    def appraoch3(self,index):\n",
    "        newStr = self.text[:index] +  self.text[index+1:] \n",
    "        print(newStr)\n",
    "        \n",
    "                \n",
    "obj1 =  RemoveIth('mango')\n",
    "obj1.appraoch3(2)"
   ]
  },
  {
   "cell_type": "code",
   "execution_count": 35,
   "metadata": {},
   "outputs": [
    {
     "name": "stdout",
     "output_type": "stream",
     "text": [
      "Yes\n"
     ]
    }
   ],
   "source": [
    "# Check if a Substring is Present in a Given String\n",
    "class SubStr():\n",
    "    def __init__(self,text,substr):\n",
    "        self.text = text\n",
    "        self.substr = substr\n",
    "    def approach(self):\n",
    "        if self.text.find(self.substr) == -1:\n",
    "            print(\"no\")\n",
    "        else:\n",
    "            print(\"Yes\")\n",
    "            \n",
    "    def approach2(self):\n",
    "        if self.text.count(self.substr) == -1:\n",
    "            print(\"no\")\n",
    "        else:\n",
    "            print(\"Yes\")\n",
    "            \n",
    "            \n",
    "obj1 = SubStr('mango orange banana','vvava')\n",
    "obj1.approach3()"
   ]
  },
  {
   "cell_type": "code",
   "execution_count": 40,
   "metadata": {},
   "outputs": [
    {
     "data": {
      "text/plain": [
       "{'a', 'e', 'i', 'o', 'u'}"
      ]
     },
     "execution_count": 40,
     "metadata": {},
     "output_type": "execute_result"
    }
   ],
   "source": [
    " vowels = set(\"aeiou\")\n",
    "vowels"
   ]
  }
 ],
 "metadata": {
  "kernelspec": {
   "display_name": "Python 3",
   "language": "python",
   "name": "python3"
  },
  "language_info": {
   "codemirror_mode": {
    "name": "ipython",
    "version": 3
   },
   "file_extension": ".py",
   "mimetype": "text/x-python",
   "name": "python",
   "nbconvert_exporter": "python",
   "pygments_lexer": "ipython3",
   "version": "3.7.3"
  }
 },
 "nbformat": 4,
 "nbformat_minor": 2
}
