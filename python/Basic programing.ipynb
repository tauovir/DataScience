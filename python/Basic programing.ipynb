{
 "cells": [
  {
   "cell_type": "code",
   "execution_count": 9,
   "metadata": {},
   "outputs": [
    {
     "data": {
      "text/plain": [
       "120"
      ]
     },
     "execution_count": 9,
     "metadata": {},
     "output_type": "execute_result"
    }
   ],
   "source": [
    "# Factorial of a Number\n",
    "def factorial(n):\n",
    "    return 1 if(n==1 or n == 0) else n * factorial(n-1)\n",
    "\n",
    "factorial(5)"
   ]
  },
  {
   "cell_type": "code",
   "execution_count": 69,
   "metadata": {},
   "outputs": [],
   "source": [
    "# Check ArmStrong number 153 = 1^3 + 5^3 + 3^3 = 153,\n",
    "# 1634 = 1*1*1*1 + 6*6*6*6 + 3*3*3*3 + 4*4*4*4 = 1634\n",
    "def checkArm(n):\n",
    "    sum = 0\n",
    "    m = n\n",
    "    length = len(str(n))\n",
    "    while(n!=0):\n",
    "        r = n%10;\n",
    "        sum += r**length\n",
    "        n = n//10 # 13/2 = 6.5, 13//2 = 6\n",
    "    if sum == m:\n",
    "        print(\" This is Armstrong Number\")\n",
    "    else:\n",
    "        print(\"Number is not Armstrong\")\n",
    "    "
   ]
  },
  {
   "cell_type": "code",
   "execution_count": 70,
   "metadata": {},
   "outputs": [
    {
     "name": "stdout",
     "output_type": "stream",
     "text": [
      "15\n",
      "1\n",
      "0\n",
      " This is Armstrong Number\n"
     ]
    }
   ],
   "source": [
    "checkArm(153)"
   ]
  },
  {
   "cell_type": "code",
   "execution_count": 82,
   "metadata": {},
   "outputs": [
    {
     "name": "stdout",
     "output_type": "stream",
     "text": [
      "NUmber is prime\n"
     ]
    }
   ],
   "source": [
    "# Check Weather number is Prime Number\n",
    "#A prime number is a natural number greater than 1 that has no positive divisors other than 1 and itself. \n",
    "#The first few prime numbers are {2, 3, 5, 7, 11, ….}.\n",
    "def checkPrime(num):\n",
    "    if num >1:\n",
    "        for x in range(2, num//2):\n",
    "            if num%x == 0:\n",
    "                print(\"NUmber is not prime\");\n",
    "                break\n",
    "            else:\n",
    "                print(\"NUmber is prime\")\n",
    "                break;\n",
    "    else:\n",
    "        print(\"Number is not prime\")\n",
    " \n",
    "checkPrime(51)"
   ]
  },
  {
   "cell_type": "code",
   "execution_count": 88,
   "metadata": {},
   "outputs": [
    {
     "data": {
      "text/plain": [
       "21"
      ]
     },
     "execution_count": 88,
     "metadata": {},
     "output_type": "execute_result"
    }
   ],
   "source": [
    "# Fibonacci numbers\n",
    "# 0, 1, 1, 2, 3, 5, 8, 13, 21, 34, 55, 89, 144, ……..\n",
    "# Fn = Fn-1 + Fn-2\n",
    "#F0 = 0 and F1 = 1.\n",
    "def fibonacci(n):\n",
    "    if n <0:\n",
    "        print(\"Incorrect value\")\n",
    "    elif n==1:\n",
    "        return 0\n",
    "    elif n==2:\n",
    "        return 1\n",
    "    else:\n",
    "        return fibonacci(n-1) + fibonacci(n-2)\n",
    "    \n",
    "fibonacci(9)"
   ]
  },
  {
   "cell_type": "code",
   "execution_count": 91,
   "metadata": {},
   "outputs": [
    {
     "data": {
      "text/plain": [
       "65"
      ]
     },
     "execution_count": 91,
     "metadata": {},
     "output_type": "execute_result"
    }
   ],
   "source": [
    "# Print Ascii value of a character\n",
    "ch = 'A'\n",
    "ord(ch)"
   ]
  },
  {
   "cell_type": "code",
   "execution_count": 105,
   "metadata": {},
   "outputs": [
    {
     "data": {
      "text/plain": [
       "55"
      ]
     },
     "execution_count": 105,
     "metadata": {},
     "output_type": "execute_result"
    }
   ],
   "source": [
    "# Sum of squares of first n natural numbers\n",
    "def squareNatural():\n",
    "    sum = 0\n",
    "    for x in range(1,6):\n",
    "        sum =  sum + x**2\n",
    "    return sum\n",
    "squareNatural()  "
   ]
  }
 ],
 "metadata": {
  "kernelspec": {
   "display_name": "Python 3",
   "language": "python",
   "name": "python3"
  },
  "language_info": {
   "codemirror_mode": {
    "name": "ipython",
    "version": 3
   },
   "file_extension": ".py",
   "mimetype": "text/x-python",
   "name": "python",
   "nbconvert_exporter": "python",
   "pygments_lexer": "ipython3",
   "version": "3.7.3"
  }
 },
 "nbformat": 4,
 "nbformat_minor": 2
}
