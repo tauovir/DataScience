{
 "cells": [
  {
   "cell_type": "markdown",
   "metadata": {},
   "source": [
    "# Opps:\n",
    "Object-oriented Programming, or OOP for short, is a programming paradigm which provides a means of structuring programs so that properties and behaviors are bundled into individual objects.\n",
    "\n"
   ]
  },
  {
   "cell_type": "code",
   "execution_count": 1,
   "metadata": {},
   "outputs": [],
   "source": [
    "# Simple Class in python\n",
    "class PythonClass:\n",
    "    pass"
   ]
  },
  {
   "cell_type": "markdown",
   "metadata": {},
   "source": [
    "# Instance Attributes:\n",
    "All classes create objects, and all objects contain characteristics called attributes (referred to as properties in the opening paragraph). Use the __init__() method to initialize (e.g., specify) an object’s initial attributes by giving them their default value (or state). This method must have at least one argument as well as the self variable, which refers to the object itself (e.g., Dog)."
   ]
  },
  {
   "cell_type": "code",
   "execution_count": 3,
   "metadata": {},
   "outputs": [
    {
     "name": "stdout",
     "output_type": "stream",
     "text": [
      "Mango\n",
      "25\n"
     ]
    }
   ],
   "source": [
    "class PythonDog:\n",
    "    # Initializer / Instance Attributes\n",
    "    def __init__(self,name, age): #it gets called automatically when you create a new ‘Class’ instance.\n",
    "        self.name = name\n",
    "        self.age = age\n",
    "        print(self.name)\n",
    "        print(self.age)\n",
    "        \n",
    "obj1 = PythonDog('Mango',25)      \n",
    "        "
   ]
  },
  {
   "cell_type": "markdown",
   "metadata": {},
   "source": [
    "# Class Attributes\n",
    "While instance attributes are specific to each object, class attributes are the same for all instances"
   ]
  },
  {
   "cell_type": "code",
   "execution_count": 15,
   "metadata": {},
   "outputs": [
    {
     "name": "stdout",
     "output_type": "stream",
     "text": [
      "Species:mammal\n",
      "Mango is 25 yeras Old\n",
      "Species:mammal\n",
      "Orange is 30 yeras Old\n",
      "mammal\n"
     ]
    }
   ],
   "source": [
    "class PythonDog:\n",
    "    \n",
    "     # Class Attribute\n",
    "    species = 'mammal'\n",
    "    # Initializer / Instance Attributes\n",
    "    def __init__(self,name, age): #it gets called automatically when you create a new ‘Class’ instance.\n",
    "        self.name = name\n",
    "        self.age = age\n",
    "    def show(self):\n",
    "        print(\"Species:{species}\".format(species = self.species))\n",
    "        print(\"{name} is {age} yeras Old\".format(name = self.name,age = self.age))\n",
    "        \n",
    "        \n",
    "obj1 = PythonDog('Mango',25)   \n",
    "obj2 = PythonDog('Orange',30)   \n",
    "obj1.show()\n",
    "obj2.show()\n",
    "print(PythonDog.species) # We can call Class Attribute outside class using Class name but cannot use "
   ]
  }
 ],
 "metadata": {
  "kernelspec": {
   "display_name": "Python 3",
   "language": "python",
   "name": "python3"
  },
  "language_info": {
   "codemirror_mode": {
    "name": "ipython",
    "version": 3
   },
   "file_extension": ".py",
   "mimetype": "text/x-python",
   "name": "python",
   "nbconvert_exporter": "python",
   "pygments_lexer": "ipython3",
   "version": "3.7.3"
  }
 },
 "nbformat": 4,
 "nbformat_minor": 2
}
