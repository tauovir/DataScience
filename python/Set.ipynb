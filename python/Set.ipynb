{
 "cells": [
  {
   "cell_type": "markdown",
   "metadata": {},
   "source": [
    "# Set:\n",
    "Set is a term that originates from Mathematics. But, in Python, it is a collection type object which can store elements of different data types. It doesn’t index the values in a particular order.\n",
    "# Properties of a Set:\n",
    "A Python set has the following characteristics.\n",
    "The elements don’t have a specific order, and their positions can be inconsistent.\n",
    "Each item is unique in a Set and, therefore, can’t have duplicates.\n",
    "The elements are immutable and hence, can’t accept changes once added.\n",
    "A set is itself mutable and allows the addition or deletion of items."
   ]
  },
  {
   "cell_type": "code",
   "execution_count": 7,
   "metadata": {},
   "outputs": [
    {
     "data": {
      "text/plain": [
       "{1, 2, 3, 4}"
      ]
     },
     "execution_count": 7,
     "metadata": {},
     "output_type": "execute_result"
    }
   ],
   "source": [
    "setA = {1,2,3,4,}\n",
    "setA"
   ]
  },
  {
   "cell_type": "code",
   "execution_count": 9,
   "metadata": {},
   "outputs": [
    {
     "data": {
      "text/plain": [
       "{1, 2, 3, 4, 5}"
      ]
     },
     "execution_count": 9,
     "metadata": {},
     "output_type": "execute_result"
    }
   ],
   "source": [
    "setB = set([1,2,3,4,5])\n",
    "setB"
   ]
  },
  {
   "cell_type": "code",
   "execution_count": 11,
   "metadata": {},
   "outputs": [
    {
     "data": {
      "text/plain": [
       "{1, 2, 3, 10}"
      ]
     },
     "execution_count": 11,
     "metadata": {},
     "output_type": "execute_result"
    }
   ],
   "source": [
    "# set can't store duplicate elements\n",
    "set1 = {1,2,3,10,2,3}\n",
    "# it'll automatically filter the duplicates\n",
    "set1\n"
   ]
  },
  {
   "cell_type": "code",
   "execution_count": 13,
   "metadata": {},
   "outputs": [
    {
     "name": "stdout",
     "output_type": "stream",
     "text": [
      "{1, 2, 3, 4, 5, 100}\n",
      "{1, 2, 3, 4, 5, 100}\n"
     ]
    }
   ],
   "source": [
    "# Add Elements to a Set\n",
    "setA = {1,2,3,4,5}\n",
    "setA.add(100)\n",
    "print(setA)\n",
    "setA.add(4) # duplicate item\n",
    "print(setA)\n"
   ]
  },
  {
   "cell_type": "code",
   "execution_count": 15,
   "metadata": {},
   "outputs": [
    {
     "name": "stdout",
     "output_type": "stream",
     "text": [
      "{1, 2, 3, 4, 5, 100}\n",
      "{1, 2, 3, 4, 5, 100, 66, 44, 55}\n"
     ]
    }
   ],
   "source": [
    "#The update() method can even accept tuples, lists, strings, or other sets as an argument.\n",
    "#However, duplicate elements will automatically get excluded.\n",
    "setA = {1,2,3,4,5}\n",
    "setA.add(100)\n",
    "print(setA)\n",
    "# Let's add multiple elements to the set\n",
    "setA.update([44, 55, 66])\n",
    "print(setA)"
   ]
  },
  {
   "cell_type": "markdown",
   "metadata": {},
   "source": [
    "# Remove Elements from a Set\n",
    "You can use the following Set methods to delete elements from it.\n",
    "\n",
    "Discard() method\n",
    "\n",
    "Remove() method\n",
    "\n",
    "here is a small difference in the way these two methods operate. The discard() method doesn’t throw any error if the target item is not the part of the set.\n",
    "\n",
    "On the contrary, the remove() method will throw the “KeyError” error in such a case."
   ]
  },
  {
   "cell_type": "code",
   "execution_count": 18,
   "metadata": {},
   "outputs": [
    {
     "name": "stdout",
     "output_type": "stream",
     "text": [
      "{33, 77, 22, 55}\n"
     ]
    }
   ],
   "source": [
    "py_set_num = {22, 33, 55, 77, 99}\n",
    "py_set_num.discard(99)\n",
    "print(py_set_num)"
   ]
  },
  {
   "cell_type": "code",
   "execution_count": 24,
   "metadata": {},
   "outputs": [
    {
     "name": "stdout",
     "output_type": "stream",
     "text": [
      "{33, 77, 22, 55}\n"
     ]
    }
   ],
   "source": [
    "py_set_num = {22, 33, 55, 77, 99}\n",
    "try:\n",
    "    py_set_num.remove(99)\n",
    "    print(py_set_num)\n",
    "except:\n",
    "    print(\"error\")\n"
   ]
  },
  {
   "cell_type": "code",
   "execution_count": 27,
   "metadata": {},
   "outputs": [
    {
     "name": "stdout",
     "output_type": "stream",
     "text": [
      "{99, 10, 50, 20, 21, 60, 30}\n",
      "{10, 50, 20, 21, 60, 30}\n",
      "set()\n"
     ]
    }
   ],
   "source": [
    "setB = {10,20,30,50,60,21,99}\n",
    "print(setB)\n",
    "#pop an element from the set\n",
    "setB.pop()\n",
    "print(setB)\n",
    "#clear all elements from the set\n",
    "setB.clear()\n",
    "print(setB)"
   ]
  },
  {
   "cell_type": "markdown",
   "metadata": {},
   "source": [
    "# Set Operation:\n",
    "Like in mathematics, the set supports operations like union, intersection, difference, and complement so does it in Python.\n",
    "\n",
    "There are methods as well as operators available to perform the set operations.\n",
    "\n",
    "For the illustration purpose, we will use the following two sets in the next examples."
   ]
  },
  {
   "cell_type": "code",
   "execution_count": 38,
   "metadata": {},
   "outputs": [
    {
     "name": "stdout",
     "output_type": "stream",
     "text": [
      "Symatric Difference\n",
      "{'h', 'g', 'i', 'b', 'z', 't'}\n",
      "Length:6\n"
     ]
    }
   ],
   "source": [
    "# Set Operation\n",
    "class SetOperation:\n",
    "    def __init__(self,setA,setB):\n",
    "        self.setA = setA\n",
    "        self.setB = setB\n",
    "        #Union of setA and setB is a new set combining all the elements from both the Sets.\n",
    "        #The “|” operator is the one to perform the union operation on the sets.\n",
    "    def setUnion(self):\n",
    "        result = self.setA | self.setB\n",
    "        print(\"Union result\")\n",
    "        print(result)\n",
    "        print(\"Length:{len1}\".format(len1 = len(result)))\n",
    "        \n",
    "    #The intersection of setA and setB will produce a set comprising common elements in both the Sets.\n",
    "    def setIntersect(self):\n",
    "#         result = self.setA & self.setB\n",
    "#         print(\"Union result\")\n",
    "#         print(result)\n",
    "#         print(\"Length:{len1}\".format(len1 = len(result)))\n",
    "        #Alternatively, you can call the intersection() method to perform this operation.\n",
    "        result = setA.intersection(setB)\n",
    "        print(result)\n",
    "        print(\"Length:{len1}\".format(len1 = len(result)))\n",
    "        \"\"\"\n",
    "        When you perform the difference operation on two Sets, i.e., <setA – setB>, \n",
    "        the resultant will be a set of elements that exist in the left but not in the right object.\n",
    "        \"\"\"\n",
    "    def setDifference(self):\n",
    "        result = self.setB - self.setA\n",
    "        print(\"Union result\")\n",
    "        print(result)\n",
    "        print(\"Length:{len1}\".format(len1 = len(result)))\n",
    "        #The next example will demonstrate the same set of operations using the difference() method.\n",
    "#         diffAB = setA.difference(setB)\n",
    "    #Symmetric Difference:\n",
    "    #The symmetric difference of two sets will generate a set of elements that exist in <setA> and <setB> but not in both.\n",
    "    def symatricDiff(self):\n",
    "        result = setA^setB\n",
    "        print(\"Symatric Difference\")\n",
    "        print(result)\n",
    "        print(\"Length:{len1}\".format(len1 = len(result)))\n",
    "        \n",
    "        \n",
    "        \n",
    "setA = {'a', 'e', 'i', 'o', 'u', 'g', 'h'}\n",
    "setB = {'a', 'e', 'z', 'b', 't', 'o', 'u'}\n",
    "\n",
    "obj1 = SetOperation(setA,setB)\n",
    "# obj1.setUnion()\n",
    "# obj1.setIntersect()\n",
    "# obj1.setDifference()\n",
    "obj1.symatricDiff()\n",
    "\n"
   ]
  },
  {
   "cell_type": "markdown",
   "metadata": {},
   "source": [
    "# Frozen Sets in Python\n",
    "It is a unique type of set which is immutable and doesn’t allow changing its elements after assignment.\n",
    "\n",
    "It supports all methods and operators as a set does, but those that don’t alter its content.\n",
    "\n",
    "As you now know that the sets are mutable and thus become unhashable. So, we can’t use them as keys for a Python dictionary. On the contrary, the Frozen Set is by default hashable and can work as keys to a dictionary."
   ]
  },
  {
   "cell_type": "code",
   "execution_count": null,
   "metadata": {},
   "outputs": [],
   "source": []
  }
 ],
 "metadata": {
  "kernelspec": {
   "display_name": "Python 3",
   "language": "python",
   "name": "python3"
  },
  "language_info": {
   "codemirror_mode": {
    "name": "ipython",
    "version": 3
   },
   "file_extension": ".py",
   "mimetype": "text/x-python",
   "name": "python",
   "nbconvert_exporter": "python",
   "pygments_lexer": "ipython3",
   "version": "3.7.3"
  }
 },
 "nbformat": 4,
 "nbformat_minor": 2
}
