{
 "cells": [
  {
   "cell_type": "markdown",
   "metadata": {},
   "source": [
    "# Pandas Style\n",
    "You can apply conditional formatting, the visual styling of a DataFrame depending on the data within, by using the DataFrame.style property. This is a property that returns a Styler object, which has useful methods for formatting and displaying DataFrames.\n",
    "\n",
    "The styling is accomplished using CSS. You write “style functions” that take scalars, DataFrames or Series, and return like-indexed DataFrames or Series with CSS \"attribute: value\" pairs for the values. These functions can be incrementally passed to the Styler which collects the styles before rendering.\n",
    "\n",
    "# Building styles\n",
    "Pass your style functions into one of the following methods:\n",
    "\n",
    "Styler.applymap: elementwise\n",
    "\n",
    "Styler.apply: column-/row-/table-wise"
   ]
  },
  {
   "cell_type": "code",
   "execution_count": 2,
   "metadata": {},
   "outputs": [],
   "source": [
    "import numpy as np\n",
    "import pandas as pd"
   ]
  },
  {
   "cell_type": "code",
   "execution_count": 8,
   "metadata": {},
   "outputs": [
    {
     "data": {
      "text/html": [
       "<div>\n",
       "<style scoped>\n",
       "    .dataframe tbody tr th:only-of-type {\n",
       "        vertical-align: middle;\n",
       "    }\n",
       "\n",
       "    .dataframe tbody tr th {\n",
       "        vertical-align: top;\n",
       "    }\n",
       "\n",
       "    .dataframe thead th {\n",
       "        text-align: right;\n",
       "    }\n",
       "</style>\n",
       "<table border=\"1\" class=\"dataframe\">\n",
       "  <thead>\n",
       "    <tr style=\"text-align: right;\">\n",
       "      <th></th>\n",
       "      <th>A</th>\n",
       "      <th>B</th>\n",
       "      <th>C</th>\n",
       "      <th>D</th>\n",
       "      <th>E</th>\n",
       "    </tr>\n",
       "  </thead>\n",
       "  <tbody>\n",
       "    <tr>\n",
       "      <th>0</th>\n",
       "      <td>1.0</td>\n",
       "      <td>1.329212</td>\n",
       "      <td>NaN</td>\n",
       "      <td>-0.316280</td>\n",
       "      <td>-0.990810</td>\n",
       "    </tr>\n",
       "    <tr>\n",
       "      <th>1</th>\n",
       "      <td>2.0</td>\n",
       "      <td>-1.070816</td>\n",
       "      <td>-1.438713</td>\n",
       "      <td>0.564417</td>\n",
       "      <td>0.295722</td>\n",
       "    </tr>\n",
       "    <tr>\n",
       "      <th>2</th>\n",
       "      <td>3.0</td>\n",
       "      <td>-1.626404</td>\n",
       "      <td>0.219565</td>\n",
       "      <td>0.678805</td>\n",
       "      <td>1.889273</td>\n",
       "    </tr>\n",
       "    <tr>\n",
       "      <th>3</th>\n",
       "      <td>4.0</td>\n",
       "      <td>0.961538</td>\n",
       "      <td>0.104011</td>\n",
       "      <td>NaN</td>\n",
       "      <td>0.850229</td>\n",
       "    </tr>\n",
       "    <tr>\n",
       "      <th>4</th>\n",
       "      <td>5.0</td>\n",
       "      <td>1.453425</td>\n",
       "      <td>1.057737</td>\n",
       "      <td>0.165562</td>\n",
       "      <td>0.515018</td>\n",
       "    </tr>\n",
       "    <tr>\n",
       "      <th>5</th>\n",
       "      <td>6.0</td>\n",
       "      <td>-1.336936</td>\n",
       "      <td>0.562861</td>\n",
       "      <td>1.392855</td>\n",
       "      <td>-0.063328</td>\n",
       "    </tr>\n",
       "    <tr>\n",
       "      <th>6</th>\n",
       "      <td>7.0</td>\n",
       "      <td>0.121668</td>\n",
       "      <td>1.207603</td>\n",
       "      <td>-0.002040</td>\n",
       "      <td>1.627796</td>\n",
       "    </tr>\n",
       "    <tr>\n",
       "      <th>7</th>\n",
       "      <td>8.0</td>\n",
       "      <td>0.354493</td>\n",
       "      <td>1.037528</td>\n",
       "      <td>-0.385684</td>\n",
       "      <td>0.519818</td>\n",
       "    </tr>\n",
       "    <tr>\n",
       "      <th>8</th>\n",
       "      <td>9.0</td>\n",
       "      <td>1.686583</td>\n",
       "      <td>-1.325963</td>\n",
       "      <td>1.428984</td>\n",
       "      <td>-2.089354</td>\n",
       "    </tr>\n",
       "    <tr>\n",
       "      <th>9</th>\n",
       "      <td>10.0</td>\n",
       "      <td>-0.129820</td>\n",
       "      <td>0.631523</td>\n",
       "      <td>-0.586538</td>\n",
       "      <td>0.290720</td>\n",
       "    </tr>\n",
       "  </tbody>\n",
       "</table>\n",
       "</div>"
      ],
      "text/plain": [
       "      A         B         C         D         E\n",
       "0   1.0  1.329212       NaN -0.316280 -0.990810\n",
       "1   2.0 -1.070816 -1.438713  0.564417  0.295722\n",
       "2   3.0 -1.626404  0.219565  0.678805  1.889273\n",
       "3   4.0  0.961538  0.104011       NaN  0.850229\n",
       "4   5.0  1.453425  1.057737  0.165562  0.515018\n",
       "5   6.0 -1.336936  0.562861  1.392855 -0.063328\n",
       "6   7.0  0.121668  1.207603 -0.002040  1.627796\n",
       "7   8.0  0.354493  1.037528 -0.385684  0.519818\n",
       "8   9.0  1.686583 -1.325963  1.428984 -2.089354\n",
       "9  10.0 -0.129820  0.631523 -0.586538  0.290720"
      ]
     },
     "execution_count": 8,
     "metadata": {},
     "output_type": "execute_result"
    }
   ],
   "source": [
    "np.random.seed(24)\n",
    "df = pd.DataFrame({'A': np.linspace(1, 10, 10)})\n",
    "df = pd.concat([df, pd.DataFrame(np.random.randn(10, 4), columns=list('BCDE'))],axis=1)\n",
    "df.iloc[3, 3] = np.nan\n",
    "df.iloc[0, 2] = np.nan\n",
    "df"
   ]
  },
  {
   "cell_type": "markdown",
   "metadata": {},
   "source": [
    "Note: The DataFrame.style attribute is a property that returns a Styler object. Styler has a _repr_html_ method defined on it so they are rendered automatically. If you want the actual HTML back for further processing or for writing to file call the .render() method which returns a string."
   ]
  },
  {
   "cell_type": "code",
   "execution_count": 11,
   "metadata": {},
   "outputs": [
    {
     "data": {
      "text/html": [
       "<style  type=\"text/css\" >\n",
       "</style><table id=\"T_3bee603a_b70e_11ea_bbf6_00f48df8810c\" ><thead>    <tr>        <th class=\"blank level0\" ></th>        <th class=\"col_heading level0 col0\" >A</th>        <th class=\"col_heading level0 col1\" >B</th>        <th class=\"col_heading level0 col2\" >C</th>        <th class=\"col_heading level0 col3\" >D</th>        <th class=\"col_heading level0 col4\" >E</th>    </tr></thead><tbody>\n",
       "                <tr>\n",
       "                        <th id=\"T_3bee603a_b70e_11ea_bbf6_00f48df8810clevel0_row0\" class=\"row_heading level0 row0\" >0</th>\n",
       "                        <td id=\"T_3bee603a_b70e_11ea_bbf6_00f48df8810crow0_col0\" class=\"data row0 col0\" >1</td>\n",
       "                        <td id=\"T_3bee603a_b70e_11ea_bbf6_00f48df8810crow0_col1\" class=\"data row0 col1\" >1.32921</td>\n",
       "                        <td id=\"T_3bee603a_b70e_11ea_bbf6_00f48df8810crow0_col2\" class=\"data row0 col2\" >nan</td>\n",
       "                        <td id=\"T_3bee603a_b70e_11ea_bbf6_00f48df8810crow0_col3\" class=\"data row0 col3\" >-0.31628</td>\n",
       "                        <td id=\"T_3bee603a_b70e_11ea_bbf6_00f48df8810crow0_col4\" class=\"data row0 col4\" >-0.99081</td>\n",
       "            </tr>\n",
       "            <tr>\n",
       "                        <th id=\"T_3bee603a_b70e_11ea_bbf6_00f48df8810clevel0_row1\" class=\"row_heading level0 row1\" >1</th>\n",
       "                        <td id=\"T_3bee603a_b70e_11ea_bbf6_00f48df8810crow1_col0\" class=\"data row1 col0\" >2</td>\n",
       "                        <td id=\"T_3bee603a_b70e_11ea_bbf6_00f48df8810crow1_col1\" class=\"data row1 col1\" >-1.07082</td>\n",
       "                        <td id=\"T_3bee603a_b70e_11ea_bbf6_00f48df8810crow1_col2\" class=\"data row1 col2\" >-1.43871</td>\n",
       "                        <td id=\"T_3bee603a_b70e_11ea_bbf6_00f48df8810crow1_col3\" class=\"data row1 col3\" >0.564417</td>\n",
       "                        <td id=\"T_3bee603a_b70e_11ea_bbf6_00f48df8810crow1_col4\" class=\"data row1 col4\" >0.295722</td>\n",
       "            </tr>\n",
       "            <tr>\n",
       "                        <th id=\"T_3bee603a_b70e_11ea_bbf6_00f48df8810clevel0_row2\" class=\"row_heading level0 row2\" >2</th>\n",
       "                        <td id=\"T_3bee603a_b70e_11ea_bbf6_00f48df8810crow2_col0\" class=\"data row2 col0\" >3</td>\n",
       "                        <td id=\"T_3bee603a_b70e_11ea_bbf6_00f48df8810crow2_col1\" class=\"data row2 col1\" >-1.6264</td>\n",
       "                        <td id=\"T_3bee603a_b70e_11ea_bbf6_00f48df8810crow2_col2\" class=\"data row2 col2\" >0.219565</td>\n",
       "                        <td id=\"T_3bee603a_b70e_11ea_bbf6_00f48df8810crow2_col3\" class=\"data row2 col3\" >0.678805</td>\n",
       "                        <td id=\"T_3bee603a_b70e_11ea_bbf6_00f48df8810crow2_col4\" class=\"data row2 col4\" >1.88927</td>\n",
       "            </tr>\n",
       "            <tr>\n",
       "                        <th id=\"T_3bee603a_b70e_11ea_bbf6_00f48df8810clevel0_row3\" class=\"row_heading level0 row3\" >3</th>\n",
       "                        <td id=\"T_3bee603a_b70e_11ea_bbf6_00f48df8810crow3_col0\" class=\"data row3 col0\" >4</td>\n",
       "                        <td id=\"T_3bee603a_b70e_11ea_bbf6_00f48df8810crow3_col1\" class=\"data row3 col1\" >0.961538</td>\n",
       "                        <td id=\"T_3bee603a_b70e_11ea_bbf6_00f48df8810crow3_col2\" class=\"data row3 col2\" >0.104011</td>\n",
       "                        <td id=\"T_3bee603a_b70e_11ea_bbf6_00f48df8810crow3_col3\" class=\"data row3 col3\" >nan</td>\n",
       "                        <td id=\"T_3bee603a_b70e_11ea_bbf6_00f48df8810crow3_col4\" class=\"data row3 col4\" >0.850229</td>\n",
       "            </tr>\n",
       "            <tr>\n",
       "                        <th id=\"T_3bee603a_b70e_11ea_bbf6_00f48df8810clevel0_row4\" class=\"row_heading level0 row4\" >4</th>\n",
       "                        <td id=\"T_3bee603a_b70e_11ea_bbf6_00f48df8810crow4_col0\" class=\"data row4 col0\" >5</td>\n",
       "                        <td id=\"T_3bee603a_b70e_11ea_bbf6_00f48df8810crow4_col1\" class=\"data row4 col1\" >1.45342</td>\n",
       "                        <td id=\"T_3bee603a_b70e_11ea_bbf6_00f48df8810crow4_col2\" class=\"data row4 col2\" >1.05774</td>\n",
       "                        <td id=\"T_3bee603a_b70e_11ea_bbf6_00f48df8810crow4_col3\" class=\"data row4 col3\" >0.165562</td>\n",
       "                        <td id=\"T_3bee603a_b70e_11ea_bbf6_00f48df8810crow4_col4\" class=\"data row4 col4\" >0.515018</td>\n",
       "            </tr>\n",
       "            <tr>\n",
       "                        <th id=\"T_3bee603a_b70e_11ea_bbf6_00f48df8810clevel0_row5\" class=\"row_heading level0 row5\" >5</th>\n",
       "                        <td id=\"T_3bee603a_b70e_11ea_bbf6_00f48df8810crow5_col0\" class=\"data row5 col0\" >6</td>\n",
       "                        <td id=\"T_3bee603a_b70e_11ea_bbf6_00f48df8810crow5_col1\" class=\"data row5 col1\" >-1.33694</td>\n",
       "                        <td id=\"T_3bee603a_b70e_11ea_bbf6_00f48df8810crow5_col2\" class=\"data row5 col2\" >0.562861</td>\n",
       "                        <td id=\"T_3bee603a_b70e_11ea_bbf6_00f48df8810crow5_col3\" class=\"data row5 col3\" >1.39285</td>\n",
       "                        <td id=\"T_3bee603a_b70e_11ea_bbf6_00f48df8810crow5_col4\" class=\"data row5 col4\" >-0.063328</td>\n",
       "            </tr>\n",
       "            <tr>\n",
       "                        <th id=\"T_3bee603a_b70e_11ea_bbf6_00f48df8810clevel0_row6\" class=\"row_heading level0 row6\" >6</th>\n",
       "                        <td id=\"T_3bee603a_b70e_11ea_bbf6_00f48df8810crow6_col0\" class=\"data row6 col0\" >7</td>\n",
       "                        <td id=\"T_3bee603a_b70e_11ea_bbf6_00f48df8810crow6_col1\" class=\"data row6 col1\" >0.121668</td>\n",
       "                        <td id=\"T_3bee603a_b70e_11ea_bbf6_00f48df8810crow6_col2\" class=\"data row6 col2\" >1.2076</td>\n",
       "                        <td id=\"T_3bee603a_b70e_11ea_bbf6_00f48df8810crow6_col3\" class=\"data row6 col3\" >-0.00204021</td>\n",
       "                        <td id=\"T_3bee603a_b70e_11ea_bbf6_00f48df8810crow6_col4\" class=\"data row6 col4\" >1.6278</td>\n",
       "            </tr>\n",
       "            <tr>\n",
       "                        <th id=\"T_3bee603a_b70e_11ea_bbf6_00f48df8810clevel0_row7\" class=\"row_heading level0 row7\" >7</th>\n",
       "                        <td id=\"T_3bee603a_b70e_11ea_bbf6_00f48df8810crow7_col0\" class=\"data row7 col0\" >8</td>\n",
       "                        <td id=\"T_3bee603a_b70e_11ea_bbf6_00f48df8810crow7_col1\" class=\"data row7 col1\" >0.354493</td>\n",
       "                        <td id=\"T_3bee603a_b70e_11ea_bbf6_00f48df8810crow7_col2\" class=\"data row7 col2\" >1.03753</td>\n",
       "                        <td id=\"T_3bee603a_b70e_11ea_bbf6_00f48df8810crow7_col3\" class=\"data row7 col3\" >-0.385684</td>\n",
       "                        <td id=\"T_3bee603a_b70e_11ea_bbf6_00f48df8810crow7_col4\" class=\"data row7 col4\" >0.519818</td>\n",
       "            </tr>\n",
       "            <tr>\n",
       "                        <th id=\"T_3bee603a_b70e_11ea_bbf6_00f48df8810clevel0_row8\" class=\"row_heading level0 row8\" >8</th>\n",
       "                        <td id=\"T_3bee603a_b70e_11ea_bbf6_00f48df8810crow8_col0\" class=\"data row8 col0\" >9</td>\n",
       "                        <td id=\"T_3bee603a_b70e_11ea_bbf6_00f48df8810crow8_col1\" class=\"data row8 col1\" >1.68658</td>\n",
       "                        <td id=\"T_3bee603a_b70e_11ea_bbf6_00f48df8810crow8_col2\" class=\"data row8 col2\" >-1.32596</td>\n",
       "                        <td id=\"T_3bee603a_b70e_11ea_bbf6_00f48df8810crow8_col3\" class=\"data row8 col3\" >1.42898</td>\n",
       "                        <td id=\"T_3bee603a_b70e_11ea_bbf6_00f48df8810crow8_col4\" class=\"data row8 col4\" >-2.08935</td>\n",
       "            </tr>\n",
       "            <tr>\n",
       "                        <th id=\"T_3bee603a_b70e_11ea_bbf6_00f48df8810clevel0_row9\" class=\"row_heading level0 row9\" >9</th>\n",
       "                        <td id=\"T_3bee603a_b70e_11ea_bbf6_00f48df8810crow9_col0\" class=\"data row9 col0\" >10</td>\n",
       "                        <td id=\"T_3bee603a_b70e_11ea_bbf6_00f48df8810crow9_col1\" class=\"data row9 col1\" >-0.12982</td>\n",
       "                        <td id=\"T_3bee603a_b70e_11ea_bbf6_00f48df8810crow9_col2\" class=\"data row9 col2\" >0.631523</td>\n",
       "                        <td id=\"T_3bee603a_b70e_11ea_bbf6_00f48df8810crow9_col3\" class=\"data row9 col3\" >-0.586538</td>\n",
       "                        <td id=\"T_3bee603a_b70e_11ea_bbf6_00f48df8810crow9_col4\" class=\"data row9 col4\" >0.29072</td>\n",
       "            </tr>\n",
       "    </tbody></table>"
      ],
      "text/plain": [
       "<pandas.io.formats.style.Styler at 0x1fd4b8919b0>"
      ]
     },
     "execution_count": 11,
     "metadata": {},
     "output_type": "execute_result"
    }
   ],
   "source": [
    "df.style"
   ]
  },
  {
   "cell_type": "code",
   "execution_count": 13,
   "metadata": {},
   "outputs": [],
   "source": [
    "# Actual HTML\n",
    "# df.style.highlight_null().render().split('\\n')[:10]"
   ]
  },
  {
   "cell_type": "code",
   "execution_count": 14,
   "metadata": {},
   "outputs": [],
   "source": [
    "#Let’s write a simple style function that will color negative numbers red and positive numbers black."
   ]
  },
  {
   "cell_type": "code",
   "execution_count": 19,
   "metadata": {},
   "outputs": [],
   "source": [
    "def colorNegativeRed(val):\n",
    "    \"\"\"\n",
    "    Takes a scalar and returns a string with\n",
    "    the css property `'color: red'` for negative\n",
    "    strings, black otherwise.\n",
    "    \"\"\"\n",
    "    color = \"red\" if val<0 else 'black'\n",
    "#     return 'color: %s' % color\n",
    "    return 'color:{color}'.format(color = color)"
   ]
  },
  {
   "cell_type": "code",
   "execution_count": 18,
   "metadata": {},
   "outputs": [
    {
     "name": "stdout",
     "output_type": "stream",
     "text": [
      "color: black\n"
     ]
    }
   ],
   "source": [
    "print(colorNegativeRed(8))"
   ]
  },
  {
   "cell_type": "code",
   "execution_count": 22,
   "metadata": {},
   "outputs": [
    {
     "data": {
      "text/html": [
       "<style  type=\"text/css\" >\n",
       "    #T_2f0abc4a_b70f_11ea_8ee1_00f48df8810crow0_col0 {\n",
       "            color: black;\n",
       "        }    #T_2f0abc4a_b70f_11ea_8ee1_00f48df8810crow0_col1 {\n",
       "            color: black;\n",
       "        }    #T_2f0abc4a_b70f_11ea_8ee1_00f48df8810crow0_col2 {\n",
       "            color: black;\n",
       "        }    #T_2f0abc4a_b70f_11ea_8ee1_00f48df8810crow0_col3 {\n",
       "            color: red;\n",
       "        }    #T_2f0abc4a_b70f_11ea_8ee1_00f48df8810crow0_col4 {\n",
       "            color: red;\n",
       "        }    #T_2f0abc4a_b70f_11ea_8ee1_00f48df8810crow1_col0 {\n",
       "            color: black;\n",
       "        }    #T_2f0abc4a_b70f_11ea_8ee1_00f48df8810crow1_col1 {\n",
       "            color: red;\n",
       "        }    #T_2f0abc4a_b70f_11ea_8ee1_00f48df8810crow1_col2 {\n",
       "            color: red;\n",
       "        }    #T_2f0abc4a_b70f_11ea_8ee1_00f48df8810crow1_col3 {\n",
       "            color: black;\n",
       "        }    #T_2f0abc4a_b70f_11ea_8ee1_00f48df8810crow1_col4 {\n",
       "            color: black;\n",
       "        }    #T_2f0abc4a_b70f_11ea_8ee1_00f48df8810crow2_col0 {\n",
       "            color: black;\n",
       "        }    #T_2f0abc4a_b70f_11ea_8ee1_00f48df8810crow2_col1 {\n",
       "            color: red;\n",
       "        }    #T_2f0abc4a_b70f_11ea_8ee1_00f48df8810crow2_col2 {\n",
       "            color: black;\n",
       "        }    #T_2f0abc4a_b70f_11ea_8ee1_00f48df8810crow2_col3 {\n",
       "            color: black;\n",
       "        }    #T_2f0abc4a_b70f_11ea_8ee1_00f48df8810crow2_col4 {\n",
       "            color: black;\n",
       "        }    #T_2f0abc4a_b70f_11ea_8ee1_00f48df8810crow3_col0 {\n",
       "            color: black;\n",
       "        }    #T_2f0abc4a_b70f_11ea_8ee1_00f48df8810crow3_col1 {\n",
       "            color: black;\n",
       "        }    #T_2f0abc4a_b70f_11ea_8ee1_00f48df8810crow3_col2 {\n",
       "            color: black;\n",
       "        }    #T_2f0abc4a_b70f_11ea_8ee1_00f48df8810crow3_col3 {\n",
       "            color: black;\n",
       "        }    #T_2f0abc4a_b70f_11ea_8ee1_00f48df8810crow3_col4 {\n",
       "            color: black;\n",
       "        }    #T_2f0abc4a_b70f_11ea_8ee1_00f48df8810crow4_col0 {\n",
       "            color: black;\n",
       "        }    #T_2f0abc4a_b70f_11ea_8ee1_00f48df8810crow4_col1 {\n",
       "            color: black;\n",
       "        }    #T_2f0abc4a_b70f_11ea_8ee1_00f48df8810crow4_col2 {\n",
       "            color: black;\n",
       "        }    #T_2f0abc4a_b70f_11ea_8ee1_00f48df8810crow4_col3 {\n",
       "            color: black;\n",
       "        }    #T_2f0abc4a_b70f_11ea_8ee1_00f48df8810crow4_col4 {\n",
       "            color: black;\n",
       "        }    #T_2f0abc4a_b70f_11ea_8ee1_00f48df8810crow5_col0 {\n",
       "            color: black;\n",
       "        }    #T_2f0abc4a_b70f_11ea_8ee1_00f48df8810crow5_col1 {\n",
       "            color: red;\n",
       "        }    #T_2f0abc4a_b70f_11ea_8ee1_00f48df8810crow5_col2 {\n",
       "            color: black;\n",
       "        }    #T_2f0abc4a_b70f_11ea_8ee1_00f48df8810crow5_col3 {\n",
       "            color: black;\n",
       "        }    #T_2f0abc4a_b70f_11ea_8ee1_00f48df8810crow5_col4 {\n",
       "            color: red;\n",
       "        }    #T_2f0abc4a_b70f_11ea_8ee1_00f48df8810crow6_col0 {\n",
       "            color: black;\n",
       "        }    #T_2f0abc4a_b70f_11ea_8ee1_00f48df8810crow6_col1 {\n",
       "            color: black;\n",
       "        }    #T_2f0abc4a_b70f_11ea_8ee1_00f48df8810crow6_col2 {\n",
       "            color: black;\n",
       "        }    #T_2f0abc4a_b70f_11ea_8ee1_00f48df8810crow6_col3 {\n",
       "            color: red;\n",
       "        }    #T_2f0abc4a_b70f_11ea_8ee1_00f48df8810crow6_col4 {\n",
       "            color: black;\n",
       "        }    #T_2f0abc4a_b70f_11ea_8ee1_00f48df8810crow7_col0 {\n",
       "            color: black;\n",
       "        }    #T_2f0abc4a_b70f_11ea_8ee1_00f48df8810crow7_col1 {\n",
       "            color: black;\n",
       "        }    #T_2f0abc4a_b70f_11ea_8ee1_00f48df8810crow7_col2 {\n",
       "            color: black;\n",
       "        }    #T_2f0abc4a_b70f_11ea_8ee1_00f48df8810crow7_col3 {\n",
       "            color: red;\n",
       "        }    #T_2f0abc4a_b70f_11ea_8ee1_00f48df8810crow7_col4 {\n",
       "            color: black;\n",
       "        }    #T_2f0abc4a_b70f_11ea_8ee1_00f48df8810crow8_col0 {\n",
       "            color: black;\n",
       "        }    #T_2f0abc4a_b70f_11ea_8ee1_00f48df8810crow8_col1 {\n",
       "            color: black;\n",
       "        }    #T_2f0abc4a_b70f_11ea_8ee1_00f48df8810crow8_col2 {\n",
       "            color: red;\n",
       "        }    #T_2f0abc4a_b70f_11ea_8ee1_00f48df8810crow8_col3 {\n",
       "            color: black;\n",
       "        }    #T_2f0abc4a_b70f_11ea_8ee1_00f48df8810crow8_col4 {\n",
       "            color: red;\n",
       "        }    #T_2f0abc4a_b70f_11ea_8ee1_00f48df8810crow9_col0 {\n",
       "            color: black;\n",
       "        }    #T_2f0abc4a_b70f_11ea_8ee1_00f48df8810crow9_col1 {\n",
       "            color: red;\n",
       "        }    #T_2f0abc4a_b70f_11ea_8ee1_00f48df8810crow9_col2 {\n",
       "            color: black;\n",
       "        }    #T_2f0abc4a_b70f_11ea_8ee1_00f48df8810crow9_col3 {\n",
       "            color: red;\n",
       "        }    #T_2f0abc4a_b70f_11ea_8ee1_00f48df8810crow9_col4 {\n",
       "            color: black;\n",
       "        }</style><table id=\"T_2f0abc4a_b70f_11ea_8ee1_00f48df8810c\" ><thead>    <tr>        <th class=\"blank level0\" ></th>        <th class=\"col_heading level0 col0\" >A</th>        <th class=\"col_heading level0 col1\" >B</th>        <th class=\"col_heading level0 col2\" >C</th>        <th class=\"col_heading level0 col3\" >D</th>        <th class=\"col_heading level0 col4\" >E</th>    </tr></thead><tbody>\n",
       "                <tr>\n",
       "                        <th id=\"T_2f0abc4a_b70f_11ea_8ee1_00f48df8810clevel0_row0\" class=\"row_heading level0 row0\" >0</th>\n",
       "                        <td id=\"T_2f0abc4a_b70f_11ea_8ee1_00f48df8810crow0_col0\" class=\"data row0 col0\" >1</td>\n",
       "                        <td id=\"T_2f0abc4a_b70f_11ea_8ee1_00f48df8810crow0_col1\" class=\"data row0 col1\" >1.32921</td>\n",
       "                        <td id=\"T_2f0abc4a_b70f_11ea_8ee1_00f48df8810crow0_col2\" class=\"data row0 col2\" >nan</td>\n",
       "                        <td id=\"T_2f0abc4a_b70f_11ea_8ee1_00f48df8810crow0_col3\" class=\"data row0 col3\" >-0.31628</td>\n",
       "                        <td id=\"T_2f0abc4a_b70f_11ea_8ee1_00f48df8810crow0_col4\" class=\"data row0 col4\" >-0.99081</td>\n",
       "            </tr>\n",
       "            <tr>\n",
       "                        <th id=\"T_2f0abc4a_b70f_11ea_8ee1_00f48df8810clevel0_row1\" class=\"row_heading level0 row1\" >1</th>\n",
       "                        <td id=\"T_2f0abc4a_b70f_11ea_8ee1_00f48df8810crow1_col0\" class=\"data row1 col0\" >2</td>\n",
       "                        <td id=\"T_2f0abc4a_b70f_11ea_8ee1_00f48df8810crow1_col1\" class=\"data row1 col1\" >-1.07082</td>\n",
       "                        <td id=\"T_2f0abc4a_b70f_11ea_8ee1_00f48df8810crow1_col2\" class=\"data row1 col2\" >-1.43871</td>\n",
       "                        <td id=\"T_2f0abc4a_b70f_11ea_8ee1_00f48df8810crow1_col3\" class=\"data row1 col3\" >0.564417</td>\n",
       "                        <td id=\"T_2f0abc4a_b70f_11ea_8ee1_00f48df8810crow1_col4\" class=\"data row1 col4\" >0.295722</td>\n",
       "            </tr>\n",
       "            <tr>\n",
       "                        <th id=\"T_2f0abc4a_b70f_11ea_8ee1_00f48df8810clevel0_row2\" class=\"row_heading level0 row2\" >2</th>\n",
       "                        <td id=\"T_2f0abc4a_b70f_11ea_8ee1_00f48df8810crow2_col0\" class=\"data row2 col0\" >3</td>\n",
       "                        <td id=\"T_2f0abc4a_b70f_11ea_8ee1_00f48df8810crow2_col1\" class=\"data row2 col1\" >-1.6264</td>\n",
       "                        <td id=\"T_2f0abc4a_b70f_11ea_8ee1_00f48df8810crow2_col2\" class=\"data row2 col2\" >0.219565</td>\n",
       "                        <td id=\"T_2f0abc4a_b70f_11ea_8ee1_00f48df8810crow2_col3\" class=\"data row2 col3\" >0.678805</td>\n",
       "                        <td id=\"T_2f0abc4a_b70f_11ea_8ee1_00f48df8810crow2_col4\" class=\"data row2 col4\" >1.88927</td>\n",
       "            </tr>\n",
       "            <tr>\n",
       "                        <th id=\"T_2f0abc4a_b70f_11ea_8ee1_00f48df8810clevel0_row3\" class=\"row_heading level0 row3\" >3</th>\n",
       "                        <td id=\"T_2f0abc4a_b70f_11ea_8ee1_00f48df8810crow3_col0\" class=\"data row3 col0\" >4</td>\n",
       "                        <td id=\"T_2f0abc4a_b70f_11ea_8ee1_00f48df8810crow3_col1\" class=\"data row3 col1\" >0.961538</td>\n",
       "                        <td id=\"T_2f0abc4a_b70f_11ea_8ee1_00f48df8810crow3_col2\" class=\"data row3 col2\" >0.104011</td>\n",
       "                        <td id=\"T_2f0abc4a_b70f_11ea_8ee1_00f48df8810crow3_col3\" class=\"data row3 col3\" >nan</td>\n",
       "                        <td id=\"T_2f0abc4a_b70f_11ea_8ee1_00f48df8810crow3_col4\" class=\"data row3 col4\" >0.850229</td>\n",
       "            </tr>\n",
       "            <tr>\n",
       "                        <th id=\"T_2f0abc4a_b70f_11ea_8ee1_00f48df8810clevel0_row4\" class=\"row_heading level0 row4\" >4</th>\n",
       "                        <td id=\"T_2f0abc4a_b70f_11ea_8ee1_00f48df8810crow4_col0\" class=\"data row4 col0\" >5</td>\n",
       "                        <td id=\"T_2f0abc4a_b70f_11ea_8ee1_00f48df8810crow4_col1\" class=\"data row4 col1\" >1.45342</td>\n",
       "                        <td id=\"T_2f0abc4a_b70f_11ea_8ee1_00f48df8810crow4_col2\" class=\"data row4 col2\" >1.05774</td>\n",
       "                        <td id=\"T_2f0abc4a_b70f_11ea_8ee1_00f48df8810crow4_col3\" class=\"data row4 col3\" >0.165562</td>\n",
       "                        <td id=\"T_2f0abc4a_b70f_11ea_8ee1_00f48df8810crow4_col4\" class=\"data row4 col4\" >0.515018</td>\n",
       "            </tr>\n",
       "            <tr>\n",
       "                        <th id=\"T_2f0abc4a_b70f_11ea_8ee1_00f48df8810clevel0_row5\" class=\"row_heading level0 row5\" >5</th>\n",
       "                        <td id=\"T_2f0abc4a_b70f_11ea_8ee1_00f48df8810crow5_col0\" class=\"data row5 col0\" >6</td>\n",
       "                        <td id=\"T_2f0abc4a_b70f_11ea_8ee1_00f48df8810crow5_col1\" class=\"data row5 col1\" >-1.33694</td>\n",
       "                        <td id=\"T_2f0abc4a_b70f_11ea_8ee1_00f48df8810crow5_col2\" class=\"data row5 col2\" >0.562861</td>\n",
       "                        <td id=\"T_2f0abc4a_b70f_11ea_8ee1_00f48df8810crow5_col3\" class=\"data row5 col3\" >1.39285</td>\n",
       "                        <td id=\"T_2f0abc4a_b70f_11ea_8ee1_00f48df8810crow5_col4\" class=\"data row5 col4\" >-0.063328</td>\n",
       "            </tr>\n",
       "            <tr>\n",
       "                        <th id=\"T_2f0abc4a_b70f_11ea_8ee1_00f48df8810clevel0_row6\" class=\"row_heading level0 row6\" >6</th>\n",
       "                        <td id=\"T_2f0abc4a_b70f_11ea_8ee1_00f48df8810crow6_col0\" class=\"data row6 col0\" >7</td>\n",
       "                        <td id=\"T_2f0abc4a_b70f_11ea_8ee1_00f48df8810crow6_col1\" class=\"data row6 col1\" >0.121668</td>\n",
       "                        <td id=\"T_2f0abc4a_b70f_11ea_8ee1_00f48df8810crow6_col2\" class=\"data row6 col2\" >1.2076</td>\n",
       "                        <td id=\"T_2f0abc4a_b70f_11ea_8ee1_00f48df8810crow6_col3\" class=\"data row6 col3\" >-0.00204021</td>\n",
       "                        <td id=\"T_2f0abc4a_b70f_11ea_8ee1_00f48df8810crow6_col4\" class=\"data row6 col4\" >1.6278</td>\n",
       "            </tr>\n",
       "            <tr>\n",
       "                        <th id=\"T_2f0abc4a_b70f_11ea_8ee1_00f48df8810clevel0_row7\" class=\"row_heading level0 row7\" >7</th>\n",
       "                        <td id=\"T_2f0abc4a_b70f_11ea_8ee1_00f48df8810crow7_col0\" class=\"data row7 col0\" >8</td>\n",
       "                        <td id=\"T_2f0abc4a_b70f_11ea_8ee1_00f48df8810crow7_col1\" class=\"data row7 col1\" >0.354493</td>\n",
       "                        <td id=\"T_2f0abc4a_b70f_11ea_8ee1_00f48df8810crow7_col2\" class=\"data row7 col2\" >1.03753</td>\n",
       "                        <td id=\"T_2f0abc4a_b70f_11ea_8ee1_00f48df8810crow7_col3\" class=\"data row7 col3\" >-0.385684</td>\n",
       "                        <td id=\"T_2f0abc4a_b70f_11ea_8ee1_00f48df8810crow7_col4\" class=\"data row7 col4\" >0.519818</td>\n",
       "            </tr>\n",
       "            <tr>\n",
       "                        <th id=\"T_2f0abc4a_b70f_11ea_8ee1_00f48df8810clevel0_row8\" class=\"row_heading level0 row8\" >8</th>\n",
       "                        <td id=\"T_2f0abc4a_b70f_11ea_8ee1_00f48df8810crow8_col0\" class=\"data row8 col0\" >9</td>\n",
       "                        <td id=\"T_2f0abc4a_b70f_11ea_8ee1_00f48df8810crow8_col1\" class=\"data row8 col1\" >1.68658</td>\n",
       "                        <td id=\"T_2f0abc4a_b70f_11ea_8ee1_00f48df8810crow8_col2\" class=\"data row8 col2\" >-1.32596</td>\n",
       "                        <td id=\"T_2f0abc4a_b70f_11ea_8ee1_00f48df8810crow8_col3\" class=\"data row8 col3\" >1.42898</td>\n",
       "                        <td id=\"T_2f0abc4a_b70f_11ea_8ee1_00f48df8810crow8_col4\" class=\"data row8 col4\" >-2.08935</td>\n",
       "            </tr>\n",
       "            <tr>\n",
       "                        <th id=\"T_2f0abc4a_b70f_11ea_8ee1_00f48df8810clevel0_row9\" class=\"row_heading level0 row9\" >9</th>\n",
       "                        <td id=\"T_2f0abc4a_b70f_11ea_8ee1_00f48df8810crow9_col0\" class=\"data row9 col0\" >10</td>\n",
       "                        <td id=\"T_2f0abc4a_b70f_11ea_8ee1_00f48df8810crow9_col1\" class=\"data row9 col1\" >-0.12982</td>\n",
       "                        <td id=\"T_2f0abc4a_b70f_11ea_8ee1_00f48df8810crow9_col2\" class=\"data row9 col2\" >0.631523</td>\n",
       "                        <td id=\"T_2f0abc4a_b70f_11ea_8ee1_00f48df8810crow9_col3\" class=\"data row9 col3\" >-0.586538</td>\n",
       "                        <td id=\"T_2f0abc4a_b70f_11ea_8ee1_00f48df8810crow9_col4\" class=\"data row9 col4\" >0.29072</td>\n",
       "            </tr>\n",
       "    </tbody></table>"
      ],
      "text/plain": [
       "<pandas.io.formats.style.Styler at 0x1fd4b5a1358>"
      ]
     },
     "execution_count": 22,
     "metadata": {},
     "output_type": "execute_result"
    }
   ],
   "source": [
    "updated = df.style.applymap(colorNegativeRed)\n",
    "updated"
   ]
  },
  {
   "cell_type": "markdown",
   "metadata": {},
   "source": [
    "Now suppose you wanted to highlight the maximum value in each # column. \n",
    "We can’t use .applymap anymore since that operated elementwise. Instead, we’ll turn to .apply which operates columnwise (or rowwise using the axis keyword). Later on we’ll see that something like highlight_max is already defined on Styler so you wouldn’t need to write this yourself."
   ]
  },
  {
   "cell_type": "code",
   "execution_count": 55,
   "metadata": {},
   "outputs": [],
   "source": [
    "\"\"\"\n",
    "In this case the input is a Series, one column at a time. \n",
    "Notice that the output shape of highlight_max matches the input shape, \n",
    "an array with len(s) items.\n",
    "\"\"\"\n",
    "def highlightMax(s):\n",
    "    \"\"\"\n",
    "    Highlight the maximum in a series yellow.\n",
    "    \"\"\"\n",
    "    isMax= s == s.max()\n",
    "    return ['background-color:yellow;font-style: italic;color: blue;' if v else '' for v in isMax]\n"
   ]
  },
  {
   "cell_type": "code",
   "execution_count": 58,
   "metadata": {},
   "outputs": [
    {
     "data": {
      "text/html": [
       "<style  type=\"text/css\" >\n",
       "    #T_89c0a5c0_b712_11ea_b8aa_00f48df8810crow2_col4 {\n",
       "            background-color: yellow;\n",
       "            font-style:  italic;\n",
       "            color:  blue;\n",
       "        }    #T_89c0a5c0_b712_11ea_b8aa_00f48df8810crow6_col2 {\n",
       "            background-color: yellow;\n",
       "            font-style:  italic;\n",
       "            color:  blue;\n",
       "        }    #T_89c0a5c0_b712_11ea_b8aa_00f48df8810crow8_col1 {\n",
       "            background-color: yellow;\n",
       "            font-style:  italic;\n",
       "            color:  blue;\n",
       "        }    #T_89c0a5c0_b712_11ea_b8aa_00f48df8810crow8_col3 {\n",
       "            background-color: yellow;\n",
       "            font-style:  italic;\n",
       "            color:  blue;\n",
       "        }    #T_89c0a5c0_b712_11ea_b8aa_00f48df8810crow9_col0 {\n",
       "            background-color: yellow;\n",
       "            font-style:  italic;\n",
       "            color:  blue;\n",
       "        }</style><table id=\"T_89c0a5c0_b712_11ea_b8aa_00f48df8810c\" ><thead>    <tr>        <th class=\"blank level0\" ></th>        <th class=\"col_heading level0 col0\" >A</th>        <th class=\"col_heading level0 col1\" >B</th>        <th class=\"col_heading level0 col2\" >C</th>        <th class=\"col_heading level0 col3\" >D</th>        <th class=\"col_heading level0 col4\" >E</th>    </tr></thead><tbody>\n",
       "                <tr>\n",
       "                        <th id=\"T_89c0a5c0_b712_11ea_b8aa_00f48df8810clevel0_row0\" class=\"row_heading level0 row0\" >0</th>\n",
       "                        <td id=\"T_89c0a5c0_b712_11ea_b8aa_00f48df8810crow0_col0\" class=\"data row0 col0\" >1</td>\n",
       "                        <td id=\"T_89c0a5c0_b712_11ea_b8aa_00f48df8810crow0_col1\" class=\"data row0 col1\" >1.32921</td>\n",
       "                        <td id=\"T_89c0a5c0_b712_11ea_b8aa_00f48df8810crow0_col2\" class=\"data row0 col2\" >nan</td>\n",
       "                        <td id=\"T_89c0a5c0_b712_11ea_b8aa_00f48df8810crow0_col3\" class=\"data row0 col3\" >-0.31628</td>\n",
       "                        <td id=\"T_89c0a5c0_b712_11ea_b8aa_00f48df8810crow0_col4\" class=\"data row0 col4\" >-0.99081</td>\n",
       "            </tr>\n",
       "            <tr>\n",
       "                        <th id=\"T_89c0a5c0_b712_11ea_b8aa_00f48df8810clevel0_row1\" class=\"row_heading level0 row1\" >1</th>\n",
       "                        <td id=\"T_89c0a5c0_b712_11ea_b8aa_00f48df8810crow1_col0\" class=\"data row1 col0\" >2</td>\n",
       "                        <td id=\"T_89c0a5c0_b712_11ea_b8aa_00f48df8810crow1_col1\" class=\"data row1 col1\" >-1.07082</td>\n",
       "                        <td id=\"T_89c0a5c0_b712_11ea_b8aa_00f48df8810crow1_col2\" class=\"data row1 col2\" >-1.43871</td>\n",
       "                        <td id=\"T_89c0a5c0_b712_11ea_b8aa_00f48df8810crow1_col3\" class=\"data row1 col3\" >0.564417</td>\n",
       "                        <td id=\"T_89c0a5c0_b712_11ea_b8aa_00f48df8810crow1_col4\" class=\"data row1 col4\" >0.295722</td>\n",
       "            </tr>\n",
       "            <tr>\n",
       "                        <th id=\"T_89c0a5c0_b712_11ea_b8aa_00f48df8810clevel0_row2\" class=\"row_heading level0 row2\" >2</th>\n",
       "                        <td id=\"T_89c0a5c0_b712_11ea_b8aa_00f48df8810crow2_col0\" class=\"data row2 col0\" >3</td>\n",
       "                        <td id=\"T_89c0a5c0_b712_11ea_b8aa_00f48df8810crow2_col1\" class=\"data row2 col1\" >-1.6264</td>\n",
       "                        <td id=\"T_89c0a5c0_b712_11ea_b8aa_00f48df8810crow2_col2\" class=\"data row2 col2\" >0.219565</td>\n",
       "                        <td id=\"T_89c0a5c0_b712_11ea_b8aa_00f48df8810crow2_col3\" class=\"data row2 col3\" >0.678805</td>\n",
       "                        <td id=\"T_89c0a5c0_b712_11ea_b8aa_00f48df8810crow2_col4\" class=\"data row2 col4\" >1.88927</td>\n",
       "            </tr>\n",
       "            <tr>\n",
       "                        <th id=\"T_89c0a5c0_b712_11ea_b8aa_00f48df8810clevel0_row3\" class=\"row_heading level0 row3\" >3</th>\n",
       "                        <td id=\"T_89c0a5c0_b712_11ea_b8aa_00f48df8810crow3_col0\" class=\"data row3 col0\" >4</td>\n",
       "                        <td id=\"T_89c0a5c0_b712_11ea_b8aa_00f48df8810crow3_col1\" class=\"data row3 col1\" >0.961538</td>\n",
       "                        <td id=\"T_89c0a5c0_b712_11ea_b8aa_00f48df8810crow3_col2\" class=\"data row3 col2\" >0.104011</td>\n",
       "                        <td id=\"T_89c0a5c0_b712_11ea_b8aa_00f48df8810crow3_col3\" class=\"data row3 col3\" >nan</td>\n",
       "                        <td id=\"T_89c0a5c0_b712_11ea_b8aa_00f48df8810crow3_col4\" class=\"data row3 col4\" >0.850229</td>\n",
       "            </tr>\n",
       "            <tr>\n",
       "                        <th id=\"T_89c0a5c0_b712_11ea_b8aa_00f48df8810clevel0_row4\" class=\"row_heading level0 row4\" >4</th>\n",
       "                        <td id=\"T_89c0a5c0_b712_11ea_b8aa_00f48df8810crow4_col0\" class=\"data row4 col0\" >5</td>\n",
       "                        <td id=\"T_89c0a5c0_b712_11ea_b8aa_00f48df8810crow4_col1\" class=\"data row4 col1\" >1.45342</td>\n",
       "                        <td id=\"T_89c0a5c0_b712_11ea_b8aa_00f48df8810crow4_col2\" class=\"data row4 col2\" >1.05774</td>\n",
       "                        <td id=\"T_89c0a5c0_b712_11ea_b8aa_00f48df8810crow4_col3\" class=\"data row4 col3\" >0.165562</td>\n",
       "                        <td id=\"T_89c0a5c0_b712_11ea_b8aa_00f48df8810crow4_col4\" class=\"data row4 col4\" >0.515018</td>\n",
       "            </tr>\n",
       "            <tr>\n",
       "                        <th id=\"T_89c0a5c0_b712_11ea_b8aa_00f48df8810clevel0_row5\" class=\"row_heading level0 row5\" >5</th>\n",
       "                        <td id=\"T_89c0a5c0_b712_11ea_b8aa_00f48df8810crow5_col0\" class=\"data row5 col0\" >6</td>\n",
       "                        <td id=\"T_89c0a5c0_b712_11ea_b8aa_00f48df8810crow5_col1\" class=\"data row5 col1\" >-1.33694</td>\n",
       "                        <td id=\"T_89c0a5c0_b712_11ea_b8aa_00f48df8810crow5_col2\" class=\"data row5 col2\" >0.562861</td>\n",
       "                        <td id=\"T_89c0a5c0_b712_11ea_b8aa_00f48df8810crow5_col3\" class=\"data row5 col3\" >1.39285</td>\n",
       "                        <td id=\"T_89c0a5c0_b712_11ea_b8aa_00f48df8810crow5_col4\" class=\"data row5 col4\" >-0.063328</td>\n",
       "            </tr>\n",
       "            <tr>\n",
       "                        <th id=\"T_89c0a5c0_b712_11ea_b8aa_00f48df8810clevel0_row6\" class=\"row_heading level0 row6\" >6</th>\n",
       "                        <td id=\"T_89c0a5c0_b712_11ea_b8aa_00f48df8810crow6_col0\" class=\"data row6 col0\" >7</td>\n",
       "                        <td id=\"T_89c0a5c0_b712_11ea_b8aa_00f48df8810crow6_col1\" class=\"data row6 col1\" >0.121668</td>\n",
       "                        <td id=\"T_89c0a5c0_b712_11ea_b8aa_00f48df8810crow6_col2\" class=\"data row6 col2\" >1.2076</td>\n",
       "                        <td id=\"T_89c0a5c0_b712_11ea_b8aa_00f48df8810crow6_col3\" class=\"data row6 col3\" >-0.00204021</td>\n",
       "                        <td id=\"T_89c0a5c0_b712_11ea_b8aa_00f48df8810crow6_col4\" class=\"data row6 col4\" >1.6278</td>\n",
       "            </tr>\n",
       "            <tr>\n",
       "                        <th id=\"T_89c0a5c0_b712_11ea_b8aa_00f48df8810clevel0_row7\" class=\"row_heading level0 row7\" >7</th>\n",
       "                        <td id=\"T_89c0a5c0_b712_11ea_b8aa_00f48df8810crow7_col0\" class=\"data row7 col0\" >8</td>\n",
       "                        <td id=\"T_89c0a5c0_b712_11ea_b8aa_00f48df8810crow7_col1\" class=\"data row7 col1\" >0.354493</td>\n",
       "                        <td id=\"T_89c0a5c0_b712_11ea_b8aa_00f48df8810crow7_col2\" class=\"data row7 col2\" >1.03753</td>\n",
       "                        <td id=\"T_89c0a5c0_b712_11ea_b8aa_00f48df8810crow7_col3\" class=\"data row7 col3\" >-0.385684</td>\n",
       "                        <td id=\"T_89c0a5c0_b712_11ea_b8aa_00f48df8810crow7_col4\" class=\"data row7 col4\" >0.519818</td>\n",
       "            </tr>\n",
       "            <tr>\n",
       "                        <th id=\"T_89c0a5c0_b712_11ea_b8aa_00f48df8810clevel0_row8\" class=\"row_heading level0 row8\" >8</th>\n",
       "                        <td id=\"T_89c0a5c0_b712_11ea_b8aa_00f48df8810crow8_col0\" class=\"data row8 col0\" >9</td>\n",
       "                        <td id=\"T_89c0a5c0_b712_11ea_b8aa_00f48df8810crow8_col1\" class=\"data row8 col1\" >1.68658</td>\n",
       "                        <td id=\"T_89c0a5c0_b712_11ea_b8aa_00f48df8810crow8_col2\" class=\"data row8 col2\" >-1.32596</td>\n",
       "                        <td id=\"T_89c0a5c0_b712_11ea_b8aa_00f48df8810crow8_col3\" class=\"data row8 col3\" >1.42898</td>\n",
       "                        <td id=\"T_89c0a5c0_b712_11ea_b8aa_00f48df8810crow8_col4\" class=\"data row8 col4\" >-2.08935</td>\n",
       "            </tr>\n",
       "            <tr>\n",
       "                        <th id=\"T_89c0a5c0_b712_11ea_b8aa_00f48df8810clevel0_row9\" class=\"row_heading level0 row9\" >9</th>\n",
       "                        <td id=\"T_89c0a5c0_b712_11ea_b8aa_00f48df8810crow9_col0\" class=\"data row9 col0\" >10</td>\n",
       "                        <td id=\"T_89c0a5c0_b712_11ea_b8aa_00f48df8810crow9_col1\" class=\"data row9 col1\" >-0.12982</td>\n",
       "                        <td id=\"T_89c0a5c0_b712_11ea_b8aa_00f48df8810crow9_col2\" class=\"data row9 col2\" >0.631523</td>\n",
       "                        <td id=\"T_89c0a5c0_b712_11ea_b8aa_00f48df8810crow9_col3\" class=\"data row9 col3\" >-0.586538</td>\n",
       "                        <td id=\"T_89c0a5c0_b712_11ea_b8aa_00f48df8810crow9_col4\" class=\"data row9 col4\" >0.29072</td>\n",
       "            </tr>\n",
       "    </tbody></table>"
      ],
      "text/plain": [
       "<pandas.io.formats.style.Styler at 0x1fd4bc08390>"
      ]
     },
     "execution_count": 58,
     "metadata": {},
     "output_type": "execute_result"
    }
   ],
   "source": [
    "#we used Styler.apply to pass in each column one at a time\n",
    "df.style.apply(highlightMax)\n"
   ]
  },
  {
   "cell_type": "markdown",
   "metadata": {},
   "source": [
    "We encourage you to use method chains to build up a style piecewise, before finally rending at the end of the chain.\n",
    "\n",
    "df.style.\\\n",
    "\n",
    "    applymap(color_negative_red).\\\n",
    "    \n",
    "    apply(highlight_max)"
   ]
  },
  {
   "cell_type": "markdown",
   "metadata": {},
   "source": [
    "# Building Styles Summary\n",
    "Style functions should return strings with one or more CSS attribute: value delimited by semicolons. Use\n",
    "\n",
    "Styler.applymap(func) for elementwise styles\n",
    "\n",
    "Styler.apply(func, axis=0) for columnwise styles\n",
    "\n",
    "Styler.apply(func, axis=1) for rowwise styles\n",
    "\n",
    "Styler.apply(func, axis=None) for tablewise styles\n",
    "\n",
    "And crucially the input and output shapes of func must match. If x is the input then func(x).shape == x.shape.\n",
    "\n"
   ]
  },
  {
   "cell_type": "code",
   "execution_count": 61,
   "metadata": {},
   "outputs": [
    {
     "data": {
      "text/html": [
       "<style  type=\"text/css\" >\n",
       "    #T_f15f4afa_b712_11ea_9093_00f48df8810crow0_col2 {\n",
       "            background-color:  red;\n",
       "        }    #T_f15f4afa_b712_11ea_9093_00f48df8810crow3_col3 {\n",
       "            background-color:  red;\n",
       "        }</style><table id=\"T_f15f4afa_b712_11ea_9093_00f48df8810c\" ><thead>    <tr>        <th class=\"blank level0\" ></th>        <th class=\"col_heading level0 col0\" >A</th>        <th class=\"col_heading level0 col1\" >B</th>        <th class=\"col_heading level0 col2\" >C</th>        <th class=\"col_heading level0 col3\" >D</th>        <th class=\"col_heading level0 col4\" >E</th>    </tr></thead><tbody>\n",
       "                <tr>\n",
       "                        <th id=\"T_f15f4afa_b712_11ea_9093_00f48df8810clevel0_row0\" class=\"row_heading level0 row0\" >0</th>\n",
       "                        <td id=\"T_f15f4afa_b712_11ea_9093_00f48df8810crow0_col0\" class=\"data row0 col0\" >1</td>\n",
       "                        <td id=\"T_f15f4afa_b712_11ea_9093_00f48df8810crow0_col1\" class=\"data row0 col1\" >1.32921</td>\n",
       "                        <td id=\"T_f15f4afa_b712_11ea_9093_00f48df8810crow0_col2\" class=\"data row0 col2\" >nan</td>\n",
       "                        <td id=\"T_f15f4afa_b712_11ea_9093_00f48df8810crow0_col3\" class=\"data row0 col3\" >-0.31628</td>\n",
       "                        <td id=\"T_f15f4afa_b712_11ea_9093_00f48df8810crow0_col4\" class=\"data row0 col4\" >-0.99081</td>\n",
       "            </tr>\n",
       "            <tr>\n",
       "                        <th id=\"T_f15f4afa_b712_11ea_9093_00f48df8810clevel0_row1\" class=\"row_heading level0 row1\" >1</th>\n",
       "                        <td id=\"T_f15f4afa_b712_11ea_9093_00f48df8810crow1_col0\" class=\"data row1 col0\" >2</td>\n",
       "                        <td id=\"T_f15f4afa_b712_11ea_9093_00f48df8810crow1_col1\" class=\"data row1 col1\" >-1.07082</td>\n",
       "                        <td id=\"T_f15f4afa_b712_11ea_9093_00f48df8810crow1_col2\" class=\"data row1 col2\" >-1.43871</td>\n",
       "                        <td id=\"T_f15f4afa_b712_11ea_9093_00f48df8810crow1_col3\" class=\"data row1 col3\" >0.564417</td>\n",
       "                        <td id=\"T_f15f4afa_b712_11ea_9093_00f48df8810crow1_col4\" class=\"data row1 col4\" >0.295722</td>\n",
       "            </tr>\n",
       "            <tr>\n",
       "                        <th id=\"T_f15f4afa_b712_11ea_9093_00f48df8810clevel0_row2\" class=\"row_heading level0 row2\" >2</th>\n",
       "                        <td id=\"T_f15f4afa_b712_11ea_9093_00f48df8810crow2_col0\" class=\"data row2 col0\" >3</td>\n",
       "                        <td id=\"T_f15f4afa_b712_11ea_9093_00f48df8810crow2_col1\" class=\"data row2 col1\" >-1.6264</td>\n",
       "                        <td id=\"T_f15f4afa_b712_11ea_9093_00f48df8810crow2_col2\" class=\"data row2 col2\" >0.219565</td>\n",
       "                        <td id=\"T_f15f4afa_b712_11ea_9093_00f48df8810crow2_col3\" class=\"data row2 col3\" >0.678805</td>\n",
       "                        <td id=\"T_f15f4afa_b712_11ea_9093_00f48df8810crow2_col4\" class=\"data row2 col4\" >1.88927</td>\n",
       "            </tr>\n",
       "            <tr>\n",
       "                        <th id=\"T_f15f4afa_b712_11ea_9093_00f48df8810clevel0_row3\" class=\"row_heading level0 row3\" >3</th>\n",
       "                        <td id=\"T_f15f4afa_b712_11ea_9093_00f48df8810crow3_col0\" class=\"data row3 col0\" >4</td>\n",
       "                        <td id=\"T_f15f4afa_b712_11ea_9093_00f48df8810crow3_col1\" class=\"data row3 col1\" >0.961538</td>\n",
       "                        <td id=\"T_f15f4afa_b712_11ea_9093_00f48df8810crow3_col2\" class=\"data row3 col2\" >0.104011</td>\n",
       "                        <td id=\"T_f15f4afa_b712_11ea_9093_00f48df8810crow3_col3\" class=\"data row3 col3\" >nan</td>\n",
       "                        <td id=\"T_f15f4afa_b712_11ea_9093_00f48df8810crow3_col4\" class=\"data row3 col4\" >0.850229</td>\n",
       "            </tr>\n",
       "            <tr>\n",
       "                        <th id=\"T_f15f4afa_b712_11ea_9093_00f48df8810clevel0_row4\" class=\"row_heading level0 row4\" >4</th>\n",
       "                        <td id=\"T_f15f4afa_b712_11ea_9093_00f48df8810crow4_col0\" class=\"data row4 col0\" >5</td>\n",
       "                        <td id=\"T_f15f4afa_b712_11ea_9093_00f48df8810crow4_col1\" class=\"data row4 col1\" >1.45342</td>\n",
       "                        <td id=\"T_f15f4afa_b712_11ea_9093_00f48df8810crow4_col2\" class=\"data row4 col2\" >1.05774</td>\n",
       "                        <td id=\"T_f15f4afa_b712_11ea_9093_00f48df8810crow4_col3\" class=\"data row4 col3\" >0.165562</td>\n",
       "                        <td id=\"T_f15f4afa_b712_11ea_9093_00f48df8810crow4_col4\" class=\"data row4 col4\" >0.515018</td>\n",
       "            </tr>\n",
       "            <tr>\n",
       "                        <th id=\"T_f15f4afa_b712_11ea_9093_00f48df8810clevel0_row5\" class=\"row_heading level0 row5\" >5</th>\n",
       "                        <td id=\"T_f15f4afa_b712_11ea_9093_00f48df8810crow5_col0\" class=\"data row5 col0\" >6</td>\n",
       "                        <td id=\"T_f15f4afa_b712_11ea_9093_00f48df8810crow5_col1\" class=\"data row5 col1\" >-1.33694</td>\n",
       "                        <td id=\"T_f15f4afa_b712_11ea_9093_00f48df8810crow5_col2\" class=\"data row5 col2\" >0.562861</td>\n",
       "                        <td id=\"T_f15f4afa_b712_11ea_9093_00f48df8810crow5_col3\" class=\"data row5 col3\" >1.39285</td>\n",
       "                        <td id=\"T_f15f4afa_b712_11ea_9093_00f48df8810crow5_col4\" class=\"data row5 col4\" >-0.063328</td>\n",
       "            </tr>\n",
       "            <tr>\n",
       "                        <th id=\"T_f15f4afa_b712_11ea_9093_00f48df8810clevel0_row6\" class=\"row_heading level0 row6\" >6</th>\n",
       "                        <td id=\"T_f15f4afa_b712_11ea_9093_00f48df8810crow6_col0\" class=\"data row6 col0\" >7</td>\n",
       "                        <td id=\"T_f15f4afa_b712_11ea_9093_00f48df8810crow6_col1\" class=\"data row6 col1\" >0.121668</td>\n",
       "                        <td id=\"T_f15f4afa_b712_11ea_9093_00f48df8810crow6_col2\" class=\"data row6 col2\" >1.2076</td>\n",
       "                        <td id=\"T_f15f4afa_b712_11ea_9093_00f48df8810crow6_col3\" class=\"data row6 col3\" >-0.00204021</td>\n",
       "                        <td id=\"T_f15f4afa_b712_11ea_9093_00f48df8810crow6_col4\" class=\"data row6 col4\" >1.6278</td>\n",
       "            </tr>\n",
       "            <tr>\n",
       "                        <th id=\"T_f15f4afa_b712_11ea_9093_00f48df8810clevel0_row7\" class=\"row_heading level0 row7\" >7</th>\n",
       "                        <td id=\"T_f15f4afa_b712_11ea_9093_00f48df8810crow7_col0\" class=\"data row7 col0\" >8</td>\n",
       "                        <td id=\"T_f15f4afa_b712_11ea_9093_00f48df8810crow7_col1\" class=\"data row7 col1\" >0.354493</td>\n",
       "                        <td id=\"T_f15f4afa_b712_11ea_9093_00f48df8810crow7_col2\" class=\"data row7 col2\" >1.03753</td>\n",
       "                        <td id=\"T_f15f4afa_b712_11ea_9093_00f48df8810crow7_col3\" class=\"data row7 col3\" >-0.385684</td>\n",
       "                        <td id=\"T_f15f4afa_b712_11ea_9093_00f48df8810crow7_col4\" class=\"data row7 col4\" >0.519818</td>\n",
       "            </tr>\n",
       "            <tr>\n",
       "                        <th id=\"T_f15f4afa_b712_11ea_9093_00f48df8810clevel0_row8\" class=\"row_heading level0 row8\" >8</th>\n",
       "                        <td id=\"T_f15f4afa_b712_11ea_9093_00f48df8810crow8_col0\" class=\"data row8 col0\" >9</td>\n",
       "                        <td id=\"T_f15f4afa_b712_11ea_9093_00f48df8810crow8_col1\" class=\"data row8 col1\" >1.68658</td>\n",
       "                        <td id=\"T_f15f4afa_b712_11ea_9093_00f48df8810crow8_col2\" class=\"data row8 col2\" >-1.32596</td>\n",
       "                        <td id=\"T_f15f4afa_b712_11ea_9093_00f48df8810crow8_col3\" class=\"data row8 col3\" >1.42898</td>\n",
       "                        <td id=\"T_f15f4afa_b712_11ea_9093_00f48df8810crow8_col4\" class=\"data row8 col4\" >-2.08935</td>\n",
       "            </tr>\n",
       "            <tr>\n",
       "                        <th id=\"T_f15f4afa_b712_11ea_9093_00f48df8810clevel0_row9\" class=\"row_heading level0 row9\" >9</th>\n",
       "                        <td id=\"T_f15f4afa_b712_11ea_9093_00f48df8810crow9_col0\" class=\"data row9 col0\" >10</td>\n",
       "                        <td id=\"T_f15f4afa_b712_11ea_9093_00f48df8810crow9_col1\" class=\"data row9 col1\" >-0.12982</td>\n",
       "                        <td id=\"T_f15f4afa_b712_11ea_9093_00f48df8810crow9_col2\" class=\"data row9 col2\" >0.631523</td>\n",
       "                        <td id=\"T_f15f4afa_b712_11ea_9093_00f48df8810crow9_col3\" class=\"data row9 col3\" >-0.586538</td>\n",
       "                        <td id=\"T_f15f4afa_b712_11ea_9093_00f48df8810crow9_col4\" class=\"data row9 col4\" >0.29072</td>\n",
       "            </tr>\n",
       "    </tbody></table>"
      ],
      "text/plain": [
       "<pandas.io.formats.style.Styler at 0x1fd4bc2d470>"
      ]
     },
     "execution_count": 61,
     "metadata": {},
     "output_type": "execute_result"
    }
   ],
   "source": [
    "# BUilt in function\n",
    "df.style.highlight_null(null_color='red')\n"
   ]
  },
  {
   "cell_type": "code",
   "execution_count": 77,
   "metadata": {},
   "outputs": [],
   "source": []
  },
  {
   "cell_type": "code",
   "execution_count": 88,
   "metadata": {},
   "outputs": [
    {
     "name": "stdout",
     "output_type": "stream",
     "text": [
      "full\n",
      "[[('a', 10)], [('b', 10)]]\n"
     ]
    }
   ],
   "source": [
    "list1 = ['a','b']\n",
    "list2 = [10]\n",
    "if not list1 or not list2:\n",
    "    print(\"list1\")\n",
    "else:\n",
    "    print(\"full\")\n",
    "    \n",
    "import itertools\n",
    "xx = [list(zip(x,list2)) for x in itertools.permutations(list1,len(list2))]\n",
    "print(xx)"
   ]
  },
  {
   "cell_type": "code",
   "execution_count": 97,
   "metadata": {},
   "outputs": [
    {
     "data": {
      "text/plain": [
       "{'khan': ['f1.txt', 'f4.html'],\n",
       " 'taukir': ['f2.txt', 'f6.php'],\n",
       " 'sam': ['f10.txt']}"
      ]
     },
     "execution_count": 97,
     "metadata": {},
     "output_type": "execute_result"
    }
   ],
   "source": [
    "dict1 = {'f1.txt':'khan','f2.txt':'taukir','f4.html':'khan','f6.php':'taukir','f10.txt':'sam'}\n",
    "resultDict = {}\n",
    "for key, value in dict1.items():\n",
    "    if value in resultDict:\n",
    "        list1 = resultDict[value]\n",
    "        list1.append(key)\n",
    "        resultDict[value] = list1\n",
    "    else:\n",
    "        list22 = [key]\n",
    "        resultDict[value] = list22\n",
    "        \n",
    "resultDict\n",
    "    "
   ]
  },
  {
   "cell_type": "code",
   "execution_count": 103,
   "metadata": {},
   "outputs": [
    {
     "name": "stdout",
     "output_type": "stream",
     "text": [
      "6\n"
     ]
    }
   ],
   "source": [
    "a = [1,2,3,None,(),[],]\n",
    "print(len(a))"
   ]
  },
  {
   "cell_type": "code",
   "execution_count": 106,
   "metadata": {},
   "outputs": [
    {
     "name": "stdout",
     "output_type": "stream",
     "text": [
      "3\n"
     ]
    }
   ],
   "source": [
    "x = True\n",
    "y = False\n",
    "z = False\n",
    "if not x or y:\n",
    "    print(1)\n",
    "elif not x or not y and z:\n",
    "    print(2)\n",
    "elif not x or y or not y and x:\n",
    "    print(3)\n",
    "else:\n",
    "    print(\"pp\")"
   ]
  },
  {
   "cell_type": "code",
   "execution_count": 108,
   "metadata": {},
   "outputs": [
    {
     "name": "stdout",
     "output_type": "stream",
     "text": [
      "<class 'complex'>\n"
     ]
    }
   ],
   "source": [
    "print(type(1J))"
   ]
  },
  {
   "cell_type": "code",
   "execution_count": 109,
   "metadata": {},
   "outputs": [
    {
     "data": {
      "text/plain": [
       "0.6"
      ]
     },
     "execution_count": 109,
     "metadata": {},
     "output_type": "execute_result"
    }
   ],
   "source": [
    "3/5\n"
   ]
  },
  {
   "cell_type": "code",
   "execution_count": 110,
   "metadata": {},
   "outputs": [
    {
     "name": "stdout",
     "output_type": "stream",
     "text": [
      "<class 'NoneType'>\n"
     ]
    }
   ],
   "source": [
    "def f():\n",
    "    pass\n",
    "\n",
    "print(type(f()))"
   ]
  },
  {
   "cell_type": "code",
   "execution_count": null,
   "metadata": {},
   "outputs": [],
   "source": []
  }
 ],
 "metadata": {
  "kernelspec": {
   "display_name": "Python 3",
   "language": "python",
   "name": "python3"
  },
  "language_info": {
   "codemirror_mode": {
    "name": "ipython",
    "version": 3
   },
   "file_extension": ".py",
   "mimetype": "text/x-python",
   "name": "python",
   "nbconvert_exporter": "python",
   "pygments_lexer": "ipython3",
   "version": "3.7.3"
  }
 },
 "nbformat": 4,
 "nbformat_minor": 2
}
